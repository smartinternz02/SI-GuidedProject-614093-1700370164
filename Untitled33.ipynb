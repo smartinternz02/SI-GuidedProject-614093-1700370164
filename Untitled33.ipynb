{
  "nbformat": 4,
  "nbformat_minor": 0,
  "metadata": {
    "colab": {
      "provenance": [],
      "gpuType": "T4",
      "authorship_tag": "ABX9TyN1Wx4BZBG7sN/yF4WLjLC1",
      "include_colab_link": true
    },
    "kernelspec": {
      "name": "python3",
      "display_name": "Python 3"
    },
    "language_info": {
      "name": "python"
    },
    "accelerator": "GPU"
  },
  "cells": [
    {
      "cell_type": "markdown",
      "metadata": {
        "id": "view-in-github",
        "colab_type": "text"
      },
      "source": [
        "<a href=\"https://colab.research.google.com/github/smartinternz02/SI-GuidedProject-614093-1700370164/blob/main/Untitled33.ipynb\" target=\"_parent\"><img src=\"https://colab.research.google.com/assets/colab-badge.svg\" alt=\"Open In Colab\"/></a>"
      ]
    },
    {
      "cell_type": "markdown",
      "source": [
        "**summarizing the text by calculating frequencies and training using lstm**"
      ],
      "metadata": {
        "id": "9Gb-mSxRr4Tc"
      }
    },
    {
      "cell_type": "markdown",
      "source": [
        "importing libraries and text processing\n"
      ],
      "metadata": {
        "id": "uapo5OELsL1k"
      }
    },
    {
      "cell_type": "code",
      "execution_count": null,
      "metadata": {
        "id": "IemUgkfAWJ8x"
      },
      "outputs": [],
      "source": [
        "import pandas as pd\n",
        "import numpy as np\n",
        "import string\n",
        "import nltk\n",
        "from nltk.tokenize import word_tokenize\n",
        "from nltk.corpus import stopwords\n",
        "from nltk.stem import WordNetLemmatizer\n",
        "from sklearn.model_selection import train_test_split\n",
        "from tensorflow.keras.preprocessing.text import Tokenizer\n",
        "from tensorflow.keras.preprocessing.sequence import pad_sequences\n",
        "from tensorflow.keras.models import Sequential\n",
        "from tensorflow.keras.layers import Embedding, LSTM, Dense, SpatialDropout1D\n",
        "from tensorflow.keras.callbacks import EarlyStopping"
      ]
    },
    {
      "cell_type": "code",
      "source": [
        "\n",
        "data = pd.read_csv(\"/content/news_summary (1).csv\")"
      ],
      "metadata": {
        "id": "huOFMM0SWWuS"
      },
      "execution_count": null,
      "outputs": []
    },
    {
      "cell_type": "code",
      "source": [
        "columns_to_drop = ['Unnamed: 2', 'Unnamed: 3']\n",
        "data.drop(columns=columns_to_drop, inplace=True)"
      ],
      "metadata": {
        "id": "XjClhfiGVoiM"
      },
      "execution_count": null,
      "outputs": []
    },
    {
      "cell_type": "code",
      "source": [
        "data.head()"
      ],
      "metadata": {
        "colab": {
          "base_uri": "https://localhost:8080/",
          "height": 657
        },
        "id": "lbEIwCdKVs5I",
        "outputId": "e738be00-85b8-4a3f-d897-b136237740ea"
      },
      "execution_count": null,
      "outputs": [
        {
          "output_type": "execute_result",
          "data": {
            "text/plain": [
              "                                                             headlines  \\\n",
              "0    upGrad learner switches to career in ML & Al with 90% salary hike   \n",
              "1         Delhi techie wins free food from Swiggy for one year on CRED   \n",
              "2     New Zealand end Rohit Sharma-led India's 12-match winning streak   \n",
              "3             Aegon life iTerm insurance plan helps customers save tax   \n",
              "4  Have known Hirani for yrs, what if MeToo claims are not true: Sonam   \n",
              "\n",
              "                                                                                                                                                                                                                                                                                                                                                                                      text  \n",
              "0  Saurav Kant, an alumnus of upGrad and IIIT-B's PG Program in Machine learning and Artificial Intelligence, was a Sr Systems Engineer at Infosys with almost 5 years of work experience. The program and upGrad's 360-degree career support helped him transition to a Data Scientist at Tech Mahindra with 90% salary hike. upGrad's Online Power Learning has powered 3 lakh+ careers.  \n",
              "1                              Kunal Shah's credit card bill payment platform, CRED, gave users a chance to win free food from Swiggy for one year. Pranav Kaushik, a Delhi techie, bagged this reward after spending 2000 CRED coins. Users get one CRED coin per rupee of bill paid, which can be used to avail rewards from brands like Ixigo, BookMyShow, UberEats, Cult.Fit and more.  \n",
              "2                 New Zealand defeated India by 8 wickets in the fourth ODI at Hamilton on Thursday to win their first match of the five-match ODI series. India lost an international match under Rohit Sharma's captaincy after 12 consecutive victories dating back to March 2018. The match witnessed India getting all out for 92, their seventh lowest total in ODI cricket history.  \n",
              "3                                  With Aegon Life iTerm Insurance plan, customers can enjoy tax benefits on your premiums paid and save up to â¹46,800^ on taxes. The plan provides life cover up to the age of 100 years. Also, customers have options to insure against Critical Illnesses, Disability and Accidental Death Benefit Rider with a life cover up to the age of 80 years.  \n",
              "4       Speaking about the sexual harassment allegations against Rajkumar Hirani, Sonam Kapoor said, \"I've known Hirani for many years...What if it's not true, the [#MeToo] movement will get derailed.\" \"In the #MeToo movement, I always believe a woman. But in this case, we need to reserve our judgment,\" she added. Hirani has been accused by an assistant who worked in 'Sanju'.  "
            ],
            "text/html": [
              "\n",
              "  <div id=\"df-45db405f-3940-4e7e-b832-d661af4cd2f7\" class=\"colab-df-container\">\n",
              "    <div>\n",
              "<style scoped>\n",
              "    .dataframe tbody tr th:only-of-type {\n",
              "        vertical-align: middle;\n",
              "    }\n",
              "\n",
              "    .dataframe tbody tr th {\n",
              "        vertical-align: top;\n",
              "    }\n",
              "\n",
              "    .dataframe thead th {\n",
              "        text-align: right;\n",
              "    }\n",
              "</style>\n",
              "<table border=\"1\" class=\"dataframe\">\n",
              "  <thead>\n",
              "    <tr style=\"text-align: right;\">\n",
              "      <th></th>\n",
              "      <th>headlines</th>\n",
              "      <th>text</th>\n",
              "    </tr>\n",
              "  </thead>\n",
              "  <tbody>\n",
              "    <tr>\n",
              "      <th>0</th>\n",
              "      <td>upGrad learner switches to career in ML &amp; Al with 90% salary hike</td>\n",
              "      <td>Saurav Kant, an alumnus of upGrad and IIIT-B's PG Program in Machine learning and Artificial Intelligence, was a Sr Systems Engineer at Infosys with almost 5 years of work experience. The program and upGrad's 360-degree career support helped him transition to a Data Scientist at Tech Mahindra with 90% salary hike. upGrad's Online Power Learning has powered 3 lakh+ careers.</td>\n",
              "    </tr>\n",
              "    <tr>\n",
              "      <th>1</th>\n",
              "      <td>Delhi techie wins free food from Swiggy for one year on CRED</td>\n",
              "      <td>Kunal Shah's credit card bill payment platform, CRED, gave users a chance to win free food from Swiggy for one year. Pranav Kaushik, a Delhi techie, bagged this reward after spending 2000 CRED coins. Users get one CRED coin per rupee of bill paid, which can be used to avail rewards from brands like Ixigo, BookMyShow, UberEats, Cult.Fit and more.</td>\n",
              "    </tr>\n",
              "    <tr>\n",
              "      <th>2</th>\n",
              "      <td>New Zealand end Rohit Sharma-led India's 12-match winning streak</td>\n",
              "      <td>New Zealand defeated India by 8 wickets in the fourth ODI at Hamilton on Thursday to win their first match of the five-match ODI series. India lost an international match under Rohit Sharma's captaincy after 12 consecutive victories dating back to March 2018. The match witnessed India getting all out for 92, their seventh lowest total in ODI cricket history.</td>\n",
              "    </tr>\n",
              "    <tr>\n",
              "      <th>3</th>\n",
              "      <td>Aegon life iTerm insurance plan helps customers save tax</td>\n",
              "      <td>With Aegon Life iTerm Insurance plan, customers can enjoy tax benefits on your premiums paid and save up to â¹46,800^ on taxes. The plan provides life cover up to the age of 100 years. Also, customers have options to insure against Critical Illnesses, Disability and Accidental Death Benefit Rider with a life cover up to the age of 80 years.</td>\n",
              "    </tr>\n",
              "    <tr>\n",
              "      <th>4</th>\n",
              "      <td>Have known Hirani for yrs, what if MeToo claims are not true: Sonam</td>\n",
              "      <td>Speaking about the sexual harassment allegations against Rajkumar Hirani, Sonam Kapoor said, \"I've known Hirani for many years...What if it's not true, the [#MeToo] movement will get derailed.\" \"In the #MeToo movement, I always believe a woman. But in this case, we need to reserve our judgment,\" she added. Hirani has been accused by an assistant who worked in 'Sanju'.</td>\n",
              "    </tr>\n",
              "  </tbody>\n",
              "</table>\n",
              "</div>\n",
              "    <div class=\"colab-df-buttons\">\n",
              "\n",
              "  <div class=\"colab-df-container\">\n",
              "    <button class=\"colab-df-convert\" onclick=\"convertToInteractive('df-45db405f-3940-4e7e-b832-d661af4cd2f7')\"\n",
              "            title=\"Convert this dataframe to an interactive table.\"\n",
              "            style=\"display:none;\">\n",
              "\n",
              "  <svg xmlns=\"http://www.w3.org/2000/svg\" height=\"24px\" viewBox=\"0 -960 960 960\">\n",
              "    <path d=\"M120-120v-720h720v720H120Zm60-500h600v-160H180v160Zm220 220h160v-160H400v160Zm0 220h160v-160H400v160ZM180-400h160v-160H180v160Zm440 0h160v-160H620v160ZM180-180h160v-160H180v160Zm440 0h160v-160H620v160Z\"/>\n",
              "  </svg>\n",
              "    </button>\n",
              "\n",
              "  <style>\n",
              "    .colab-df-container {\n",
              "      display:flex;\n",
              "      gap: 12px;\n",
              "    }\n",
              "\n",
              "    .colab-df-convert {\n",
              "      background-color: #E8F0FE;\n",
              "      border: none;\n",
              "      border-radius: 50%;\n",
              "      cursor: pointer;\n",
              "      display: none;\n",
              "      fill: #1967D2;\n",
              "      height: 32px;\n",
              "      padding: 0 0 0 0;\n",
              "      width: 32px;\n",
              "    }\n",
              "\n",
              "    .colab-df-convert:hover {\n",
              "      background-color: #E2EBFA;\n",
              "      box-shadow: 0px 1px 2px rgba(60, 64, 67, 0.3), 0px 1px 3px 1px rgba(60, 64, 67, 0.15);\n",
              "      fill: #174EA6;\n",
              "    }\n",
              "\n",
              "    .colab-df-buttons div {\n",
              "      margin-bottom: 4px;\n",
              "    }\n",
              "\n",
              "    [theme=dark] .colab-df-convert {\n",
              "      background-color: #3B4455;\n",
              "      fill: #D2E3FC;\n",
              "    }\n",
              "\n",
              "    [theme=dark] .colab-df-convert:hover {\n",
              "      background-color: #434B5C;\n",
              "      box-shadow: 0px 1px 3px 1px rgba(0, 0, 0, 0.15);\n",
              "      filter: drop-shadow(0px 1px 2px rgba(0, 0, 0, 0.3));\n",
              "      fill: #FFFFFF;\n",
              "    }\n",
              "  </style>\n",
              "\n",
              "    <script>\n",
              "      const buttonEl =\n",
              "        document.querySelector('#df-45db405f-3940-4e7e-b832-d661af4cd2f7 button.colab-df-convert');\n",
              "      buttonEl.style.display =\n",
              "        google.colab.kernel.accessAllowed ? 'block' : 'none';\n",
              "\n",
              "      async function convertToInteractive(key) {\n",
              "        const element = document.querySelector('#df-45db405f-3940-4e7e-b832-d661af4cd2f7');\n",
              "        const dataTable =\n",
              "          await google.colab.kernel.invokeFunction('convertToInteractive',\n",
              "                                                    [key], {});\n",
              "        if (!dataTable) return;\n",
              "\n",
              "        const docLinkHtml = 'Like what you see? Visit the ' +\n",
              "          '<a target=\"_blank\" href=https://colab.research.google.com/notebooks/data_table.ipynb>data table notebook</a>'\n",
              "          + ' to learn more about interactive tables.';\n",
              "        element.innerHTML = '';\n",
              "        dataTable['output_type'] = 'display_data';\n",
              "        await google.colab.output.renderOutput(dataTable, element);\n",
              "        const docLink = document.createElement('div');\n",
              "        docLink.innerHTML = docLinkHtml;\n",
              "        element.appendChild(docLink);\n",
              "      }\n",
              "    </script>\n",
              "  </div>\n",
              "\n",
              "\n",
              "<div id=\"df-2246ec70-30f0-4bb3-a1fe-786c9f40a356\">\n",
              "  <button class=\"colab-df-quickchart\" onclick=\"quickchart('df-2246ec70-30f0-4bb3-a1fe-786c9f40a356')\"\n",
              "            title=\"Suggest charts\"\n",
              "            style=\"display:none;\">\n",
              "\n",
              "<svg xmlns=\"http://www.w3.org/2000/svg\" height=\"24px\"viewBox=\"0 0 24 24\"\n",
              "     width=\"24px\">\n",
              "    <g>\n",
              "        <path d=\"M19 3H5c-1.1 0-2 .9-2 2v14c0 1.1.9 2 2 2h14c1.1 0 2-.9 2-2V5c0-1.1-.9-2-2-2zM9 17H7v-7h2v7zm4 0h-2V7h2v10zm4 0h-2v-4h2v4z\"/>\n",
              "    </g>\n",
              "</svg>\n",
              "  </button>\n",
              "\n",
              "<style>\n",
              "  .colab-df-quickchart {\n",
              "      --bg-color: #E8F0FE;\n",
              "      --fill-color: #1967D2;\n",
              "      --hover-bg-color: #E2EBFA;\n",
              "      --hover-fill-color: #174EA6;\n",
              "      --disabled-fill-color: #AAA;\n",
              "      --disabled-bg-color: #DDD;\n",
              "  }\n",
              "\n",
              "  [theme=dark] .colab-df-quickchart {\n",
              "      --bg-color: #3B4455;\n",
              "      --fill-color: #D2E3FC;\n",
              "      --hover-bg-color: #434B5C;\n",
              "      --hover-fill-color: #FFFFFF;\n",
              "      --disabled-bg-color: #3B4455;\n",
              "      --disabled-fill-color: #666;\n",
              "  }\n",
              "\n",
              "  .colab-df-quickchart {\n",
              "    background-color: var(--bg-color);\n",
              "    border: none;\n",
              "    border-radius: 50%;\n",
              "    cursor: pointer;\n",
              "    display: none;\n",
              "    fill: var(--fill-color);\n",
              "    height: 32px;\n",
              "    padding: 0;\n",
              "    width: 32px;\n",
              "  }\n",
              "\n",
              "  .colab-df-quickchart:hover {\n",
              "    background-color: var(--hover-bg-color);\n",
              "    box-shadow: 0 1px 2px rgba(60, 64, 67, 0.3), 0 1px 3px 1px rgba(60, 64, 67, 0.15);\n",
              "    fill: var(--button-hover-fill-color);\n",
              "  }\n",
              "\n",
              "  .colab-df-quickchart-complete:disabled,\n",
              "  .colab-df-quickchart-complete:disabled:hover {\n",
              "    background-color: var(--disabled-bg-color);\n",
              "    fill: var(--disabled-fill-color);\n",
              "    box-shadow: none;\n",
              "  }\n",
              "\n",
              "  .colab-df-spinner {\n",
              "    border: 2px solid var(--fill-color);\n",
              "    border-color: transparent;\n",
              "    border-bottom-color: var(--fill-color);\n",
              "    animation:\n",
              "      spin 1s steps(1) infinite;\n",
              "  }\n",
              "\n",
              "  @keyframes spin {\n",
              "    0% {\n",
              "      border-color: transparent;\n",
              "      border-bottom-color: var(--fill-color);\n",
              "      border-left-color: var(--fill-color);\n",
              "    }\n",
              "    20% {\n",
              "      border-color: transparent;\n",
              "      border-left-color: var(--fill-color);\n",
              "      border-top-color: var(--fill-color);\n",
              "    }\n",
              "    30% {\n",
              "      border-color: transparent;\n",
              "      border-left-color: var(--fill-color);\n",
              "      border-top-color: var(--fill-color);\n",
              "      border-right-color: var(--fill-color);\n",
              "    }\n",
              "    40% {\n",
              "      border-color: transparent;\n",
              "      border-right-color: var(--fill-color);\n",
              "      border-top-color: var(--fill-color);\n",
              "    }\n",
              "    60% {\n",
              "      border-color: transparent;\n",
              "      border-right-color: var(--fill-color);\n",
              "    }\n",
              "    80% {\n",
              "      border-color: transparent;\n",
              "      border-right-color: var(--fill-color);\n",
              "      border-bottom-color: var(--fill-color);\n",
              "    }\n",
              "    90% {\n",
              "      border-color: transparent;\n",
              "      border-bottom-color: var(--fill-color);\n",
              "    }\n",
              "  }\n",
              "</style>\n",
              "\n",
              "  <script>\n",
              "    async function quickchart(key) {\n",
              "      const quickchartButtonEl =\n",
              "        document.querySelector('#' + key + ' button');\n",
              "      quickchartButtonEl.disabled = true;  // To prevent multiple clicks.\n",
              "      quickchartButtonEl.classList.add('colab-df-spinner');\n",
              "      try {\n",
              "        const charts = await google.colab.kernel.invokeFunction(\n",
              "            'suggestCharts', [key], {});\n",
              "      } catch (error) {\n",
              "        console.error('Error during call to suggestCharts:', error);\n",
              "      }\n",
              "      quickchartButtonEl.classList.remove('colab-df-spinner');\n",
              "      quickchartButtonEl.classList.add('colab-df-quickchart-complete');\n",
              "    }\n",
              "    (() => {\n",
              "      let quickchartButtonEl =\n",
              "        document.querySelector('#df-2246ec70-30f0-4bb3-a1fe-786c9f40a356 button');\n",
              "      quickchartButtonEl.style.display =\n",
              "        google.colab.kernel.accessAllowed ? 'block' : 'none';\n",
              "    })();\n",
              "  </script>\n",
              "</div>\n",
              "    </div>\n",
              "  </div>\n"
            ]
          },
          "metadata": {},
          "execution_count": 37
        }
      ]
    },
    {
      "cell_type": "markdown",
      "source": [
        "# New Section"
      ],
      "metadata": {
        "id": "Kgw6m08mrYZo"
      }
    },
    {
      "cell_type": "code",
      "source": [
        "mapping = {\"ain't\": \"is not\", \"aren't\": \"are not\",\"can't\": \"cannot\", \"'cause\": \"because\", \"could've\": \"could have\", \"couldn't\": \"could not\",\n",
        "\"didn't\": \"did not\", \"doesn't\": \"does not\", \"don't\": \"do not\", \"hadn't\": \"had not\", \"hasn't\": \"has not\", \"haven't\": \"have not\",\n",
        "\"he'd\": \"he would\",\"he'll\": \"he will\", \"he's\": \"he is\", \"how'd\": \"how did\", \"how'd'y\": \"how do you\", \"how'll\": \"how will\", \"how's\": \"how is\",\n",
        "\"I'd\": \"I would\", \"I'd've\": \"I would have\", \"I'll\": \"I will\", \"I'll've\": \"I will have\",\"I'm\": \"I am\", \"I've\": \"I have\", \"i'd\": \"i would\",\n",
        "\"i'd've\": \"i would have\", \"i'll\": \"i will\",  \"i'll've\": \"i will have\",\"i'm\": \"i am\", \"i've\": \"i have\", \"isn't\": \"is not\", \"it'd\": \"it would\",\n",
        "\"it'd've\": \"it would have\", \"it'll\": \"it will\", \"it'll've\": \"it will have\",\"it's\": \"it is\", \"let's\": \"let us\", \"ma'am\": \"madam\",\n",
        "\"mayn't\": \"may not\", \"might've\": \"might have\",\"mightn't\": \"might not\",\"mightn't've\": \"might not have\", \"must've\": \"must have\",\n",
        "\"mustn't\": \"must not\", \"mustn't've\": \"must not have\", \"needn't\": \"need not\", \"needn't've\": \"need not have\",\"o'clock\": \"of the clock\",\n",
        "\"oughtn't\": \"ought not\", \"oughtn't've\": \"ought not have\", \"shan't\": \"shall not\", \"sha'n't\": \"shall not\", \"shan't've\": \"shall not have\",\n",
        "\"she'd\": \"she would\", \"she'd've\": \"she would have\", \"she'll\": \"she will\", \"she'll've\": \"she will have\", \"she's\": \"she is\",\n",
        "\"should've\": \"should have\", \"shouldn't\": \"should not\", \"shouldn't've\": \"should not have\", \"so've\": \"so have\",\"so's\": \"so as\",\n",
        "\"this's\": \"this is\",\"that'd\": \"that would\", \"that'd've\": \"that would have\", \"that's\": \"that is\", \"there'd\": \"there would\",\n",
        "\"there'd've\": \"there would have\", \"there's\": \"there is\", \"here's\": \"here is\",\"they'd\": \"they would\", \"they'd've\": \"they would have\",\n",
        "\"they'll\": \"they will\", \"they'll've\": \"they will have\", \"they're\": \"they are\", \"they've\": \"they have\", \"to've\": \"to have\",\n",
        "\"wasn't\": \"was not\", \"we'd\": \"we would\", \"we'd've\": \"we would have\", \"we'll\": \"we will\", \"we'll've\": \"we will have\", \"we're\": \"we are\",\n",
        "\"we've\": \"we have\", \"weren't\": \"were not\", \"what'll\": \"what will\", \"what'll've\": \"what will have\", \"what're\": \"what are\",\n",
        "\"what's\": \"what is\", \"what've\": \"what have\", \"when's\": \"when is\", \"when've\": \"when have\", \"where'd\": \"where did\", \"where's\": \"where is\",\n",
        "\"where've\": \"where have\", \"who'll\": \"who will\", \"who'll've\": \"who will have\", \"who's\": \"who is\", \"who've\": \"who have\",\n",
        "\"why's\": \"why is\", \"why've\": \"why have\", \"will've\": \"will have\", \"won't\": \"will not\", \"won't've\": \"will not have\",\n",
        "\"would've\": \"would have\", \"wouldn't\": \"would not\", \"wouldn't've\": \"would not have\", \"y'all\": \"you all\",\n",
        "\"y'all'd\": \"you all would\",\"y'all'd've\": \"you all would have\",\"y'all're\": \"you all are\",\"y'all've\": \"you all have\",\n",
        "\"you'd\": \"you would\", \"you'd've\": \"you would have\", \"you'll\": \"you will\", \"you'll've\": \"you will have\",\n",
        "\"you're\": \"you are\", \"you've\": \"you have\"}"
      ],
      "metadata": {
        "id": "-jIm65m9bcIU"
      },
      "execution_count": null,
      "outputs": []
    },
    {
      "cell_type": "code",
      "source": [
        "from nltk.corpus import stopwords\n",
        "import re\n",
        "from nltk.translate.bleu_score import sentence_bleu\n",
        "from nltk.translate.bleu_score import SmoothingFunction\n",
        "from sklearn.model_selection import train_test_split"
      ],
      "metadata": {
        "id": "EDTh2vs9dKTl"
      },
      "execution_count": null,
      "outputs": []
    },
    {
      "cell_type": "code",
      "source": [],
      "metadata": {
        "id": "n65UFM3rVm4Y"
      },
      "execution_count": null,
      "outputs": []
    },
    {
      "cell_type": "code",
      "source": [
        "nltk.download('punkt')\n",
        "nltk.download('stopwords')\n",
        "nltk.download('wordnet')"
      ],
      "metadata": {
        "id": "0iTY1it6YgKr",
        "colab": {
          "base_uri": "https://localhost:8080/"
        },
        "outputId": "5353c57a-1bd6-4f26-d8e6-4a670dde7328"
      },
      "execution_count": null,
      "outputs": [
        {
          "output_type": "stream",
          "name": "stderr",
          "text": [
            "[nltk_data] Downloading package punkt to /root/nltk_data...\n",
            "[nltk_data]   Package punkt is already up-to-date!\n",
            "[nltk_data] Downloading package stopwords to /root/nltk_data...\n",
            "[nltk_data]   Package stopwords is already up-to-date!\n",
            "[nltk_data] Downloading package wordnet to /root/nltk_data...\n",
            "[nltk_data]   Package wordnet is already up-to-date!\n"
          ]
        },
        {
          "output_type": "execute_result",
          "data": {
            "text/plain": [
              "True"
            ]
          },
          "metadata": {},
          "execution_count": 40
        }
      ]
    },
    {
      "cell_type": "code",
      "source": [
        "**finding stop words and word processing**"
      ],
      "metadata": {
        "colab": {
          "base_uri": "https://localhost:8080/",
          "height": 140
        },
        "id": "W3MqrL30sYDB",
        "outputId": "68965112-90d4-4775-9e43-13e66e92de35"
      },
      "execution_count": 1,
      "outputs": [
        {
          "output_type": "error",
          "ename": "SyntaxError",
          "evalue": "ignored",
          "traceback": [
            "\u001b[0;36m  File \u001b[0;32m\"<ipython-input-1-13e0e8a0a3b2>\"\u001b[0;36m, line \u001b[0;32m1\u001b[0m\n\u001b[0;31m    **finding stop words and word processing**\u001b[0m\n\u001b[0m    ^\u001b[0m\n\u001b[0;31mSyntaxError\u001b[0m\u001b[0;31m:\u001b[0m invalid syntax\n"
          ]
        }
      ]
    },
    {
      "cell_type": "code",
      "source": [
        "StopWords = set(stopwords.words('english'))\n",
        "def preprocess(text):\n",
        "    text = text.lower() #converting input to lowercase\n",
        "    text = re.sub(r'\\([^)]*\\)', '', text) #Removing punctuations and special characters.\n",
        "    text = re.sub('\"','', text) #Removing double quotes.\n",
        "    text = ' '.join([mapping[t] if t in mapping else t for t in text.split(\" \")]) #Replacing contractions.\n",
        "    text = re.sub(r\"'s\\b\",\"\",text) #Eliminating apostrophe.\n",
        "    text = re.sub(\"[^a-zA-Z]\", \" \", text) #Removing non-alphabetical characters\n",
        "    text = ' '.join([word for word in text.split() if word not in StopWords]) #Removing stopwords.\n",
        "    text = ' '.join([word for word in text.split() if len(word) >= 3]) #Removing very short words\n",
        "    return text"
      ],
      "metadata": {
        "id": "VMsNZpgpdSJz"
      },
      "execution_count": null,
      "outputs": []
    },
    {
      "cell_type": "code",
      "source": [
        "cleaned_text = []\n",
        "cleaned_summary = []\n",
        "for text in data['text']:\n",
        "    cleaned_text.append(preprocess(text))\n",
        "for summary in data['headlines']:\n",
        "    cleaned_summary.append(preprocess(summary))\n",
        "cleaned_data = pd.DataFrame()\n",
        "cleaned_data['text'] = cleaned_text\n",
        "cleaned_data['headline'] = cleaned_summary\n",
        "\n",
        "#Replacing empty string summaries with nan values and then dropping those datapoints.\n",
        "cleaned_data['headline'].replace('', np.nan, inplace=True)\n",
        "cleaned_data.dropna(axis=0, inplace=True)"
      ],
      "metadata": {
        "id": "30ZE7_UydbNc"
      },
      "execution_count": null,
      "outputs": []
    },
    {
      "cell_type": "code",
      "source": [
        "cleaned_data['headline'] = cleaned_data['headline'].apply(lambda x: '<START>' + ' '+ x + ' '+ '<END>')\n",
        "for i in range(10):\n",
        "    print('Article: ', cleaned_data['text'][i])\n",
        "    print('Headline:', cleaned_data['headline'][i])\n",
        "    print('\\n')"
      ],
      "metadata": {
        "id": "xe_AlWrfdtxF",
        "colab": {
          "base_uri": "https://localhost:8080/"
        },
        "outputId": "926d6aaf-69e9-4fa9-bd5b-2f956f76b12b"
      },
      "execution_count": null,
      "outputs": [
        {
          "output_type": "stream",
          "name": "stdout",
          "text": [
            "Article:  saurav kant alumnus upgrad iiit program machine learning artificial intelligence systems engineer infosys almost years work experience program upgrad degree career support helped transition data scientist tech mahindra salary hike upgrad online power learning powered lakh careers\n",
            "Headline: <START> upgrad learner switches career salary hike <END>\n",
            "\n",
            "\n",
            "Article:  kunal shah credit card bill payment platform cred gave users chance win free food swiggy one year pranav kaushik delhi techie bagged reward spending cred coins users get one cred coin per rupee bill paid used avail rewards brands like ixigo bookmyshow ubereats cult fit\n",
            "Headline: <START> delhi techie wins free food swiggy one year cred <END>\n",
            "\n",
            "\n",
            "Article:  new zealand defeated india wickets fourth odi hamilton thursday win first match five match odi series india lost international match rohit sharma captaincy consecutive victories dating back march match witnessed india getting seventh lowest total odi cricket history\n",
            "Headline: <START> new zealand end rohit sharma led india match winning streak <END>\n",
            "\n",
            "\n",
            "Article:  aegon life iterm insurance plan customers enjoy tax benefits premiums paid save taxes plan provides life cover age years also customers options insure critical illnesses disability accidental death benefit rider life cover age years\n",
            "Headline: <START> aegon life iterm insurance plan helps customers save tax <END>\n",
            "\n",
            "\n",
            "Article:  speaking sexual harassment allegations rajkumar hirani sonam kapoor said known hirani many years true metoo movement get derailed metoo movement always believe woman case need reserve judgment added hirani accused assistant worked sanju\n",
            "Headline: <START> known hirani yrs metoo claims true sonam <END>\n",
            "\n",
            "\n",
            "Article:  pakistani singer rahat fateh ali khan denied receiving notice enforcement directorate allegedly smuggling foreign currency india would better authorities would served notice first publicised reads press release issued behalf rahat statement called allegation bizarre\n",
            "Headline: <START> rahat fateh ali khan denies getting notice smuggling currency <END>\n",
            "\n",
            "\n",
            "Article:  india recorded lowest odi total new zealand getting runs overs fourth odi hamilton thursday seven india batsmen dismissed single digit scores number ten batsman yuzvendra chahal top scored india previous lowest odi total new zealand\n",
            "Headline: <START> india get lowest odi total new zealand <END>\n",
            "\n",
            "\n",
            "Article:  weeks cbi director alok verma told department personnel training consider retired home ministry asked join work last day fixed tenure director thursday ministry directed immediately join fire services post transferred removal cbi chief\n",
            "Headline: <START> govt directs alok verma join work day retirement <END>\n",
            "\n",
            "\n",
            "Article:  andhra pradesh chandrababu naidu said met president bill clinton addressed clinton sir modi junior politics addressed sir times satisfy ego hope justice state added\n",
            "Headline: <START> called modi sir times satisfy ego andhra <END>\n",
            "\n",
            "\n",
            "Article:  congress candidate shafia zubair ramgarh assembly seat rajasthan defeating bjp sukhwant singh margin votes bypoll victory congress taken total seats member assembly election ramgarh seat delayed due death sitting mla bsp candidate laxman singh\n",
            "Headline: <START> cong wins ramgarh bypoll rajasthan takes total seats <END>\n",
            "\n",
            "\n"
          ]
        }
      ]
    },
    {
      "cell_type": "code",
      "source": [
        "news_length = max([len(text.split()) for text in cleaned_data['text']])\n",
        "headline_length = max([len(text.split()) for text in cleaned_data['headline']])\n",
        "print(news_length, headline_length)"
      ],
      "metadata": {
        "id": "2UM5pPUhdyWs",
        "colab": {
          "base_uri": "https://localhost:8080/"
        },
        "outputId": "53fe0819-17aa-46b1-b4ba-d1c4d780231c"
      },
      "execution_count": null,
      "outputs": [
        {
          "output_type": "stream",
          "name": "stdout",
          "text": [
            "53 14\n"
          ]
        }
      ]
    },
    {
      "cell_type": "code",
      "source": [
        "import matplotlib.pyplot as plt\n",
        "\n",
        "text_word_count = []\n",
        "headline_word_count = []\n",
        "\n",
        "for i in cleaned_data['text']:\n",
        "      text_word_count.append(len(i.split()))\n",
        "\n",
        "for i in cleaned_data['headline']:\n",
        "      headline_word_count.append(len(i.split()))\n",
        "\n",
        "length_df = pd.DataFrame({'Body':text_word_count, 'Highlights':headline_word_count})\n",
        "length_df.hist(bins = 20)\n",
        "plt.show()"
      ],
      "metadata": {
        "id": "qUkvBJ3Ad2rn",
        "colab": {
          "base_uri": "https://localhost:8080/",
          "height": 452
        },
        "outputId": "36ce1b52-94be-49f1-8afe-2952650d696a"
      },
      "execution_count": null,
      "outputs": [
        {
          "output_type": "display_data",
          "data": {
            "text/plain": [
              "<Figure size 640x480 with 2 Axes>"
            ],
            "image/png": "[encoded data removed]"
          },
          "metadata": {}
        }
      ]
    },
    {
      "cell_type": "markdown",
      "source": [
        "tokalizing the data\n"
      ],
      "metadata": {
        "id": "BPwwVHFzsolv"
      }
    },
    {
      "cell_type": "code",
      "source": [],
      "metadata": {
        "id": "MpiR_YxBfi4m"
      },
      "execution_count": null,
      "outputs": []
    },
    {
      "cell_type": "code",
      "source": [
        "def preprocess_text(text):\n",
        "    text = text.lower()\n",
        "    text = text.translate(str.maketrans('', '', string.punctuation))\n",
        "    tokens = word_tokenize(text)\n",
        "    stop_words = set(stopwords.words('english'))\n",
        "    tokens = [word for word in tokens if word not in stop_words]\n",
        "    lemmatizer = WordNetLemmatizer()\n",
        "    tokens = [lemmatizer.lemmatize(word) for word in tokens]\n",
        "    return ' '.join(tokens)"
      ],
      "metadata": {
        "id": "YVPTJLVsWlXu"
      },
      "execution_count": null,
      "outputs": []
    },
    {
      "cell_type": "code",
      "source": [
        "data['processed_text'] = data['headlines'].apply(preprocess_text)"
      ],
      "metadata": {
        "id": "R11CtncfWlod"
      },
      "execution_count": null,
      "outputs": []
    },
    {
      "cell_type": "markdown",
      "source": [
        "calculating frqquencies and getting maximum frequency"
      ],
      "metadata": {
        "id": "R_FfbnSGsvPD"
      }
    },
    {
      "cell_type": "code",
      "source": [
        "all_words = ' '.join(data['processed_text']).split()\n",
        "word_freq = nltk.FreqDist(all_words)"
      ],
      "metadata": {
        "id": "SNv_5R2KWq8K"
      },
      "execution_count": null,
      "outputs": []
    },
    {
      "cell_type": "code",
      "source": [
        "import keras\n",
        "from keras import backend as K\n",
        "from keras.layers import Layer\n",
        "from keras.layers import Concatenate\n",
        "from keras.preprocessing.text import Tokenizer\n",
        "from keras.preprocessing.sequence import pad_sequences\n",
        "from keras.layers import Dense, TimeDistributed, LSTM, Embedding, Input\n",
        "from keras import Model\n",
        "import tensorflow as tf"
      ],
      "metadata": {
        "id": "iHrLdIqsflKM"
      },
      "execution_count": null,
      "outputs": []
    },
    {
      "cell_type": "markdown",
      "source": [
        "spliting train and test data"
      ],
      "metadata": {
        "id": "Af4wM9Cis9iu"
      }
    },
    {
      "cell_type": "code",
      "source": [
        "X = data['processed_text']\n",
        "y = data['text']\n",
        "\n",
        "X_train, X_test, y_train, y_test = train_test_split(X, y, test_size=0.2, random_state=42)\n"
      ],
      "metadata": {
        "id": "odakcc4vXAVb"
      },
      "execution_count": null,
      "outputs": []
    },
    {
      "cell_type": "code",
      "source": [
        "tokenizer_news = Tokenizer()\n",
        "tokenizer_news.fit_on_texts(list(X_train))\n",
        "x_train_seq = tokenizer_news.texts_to_sequences(X_train)\n",
        "x_test_seq = tokenizer_news.texts_to_sequences(X_test)\n",
        "#padding short texts with 0s.\n",
        "x_train_pad = pad_sequences(x_train_seq, maxlen=news_length, padding='post')\n",
        "x_test_pad = pad_sequences(x_test_seq, maxlen=news_length, padding='post')\n",
        "#Vocab size of texts.\n",
        "news_vocab = len(tokenizer_news.word_index) + 1\n",
        "\n",
        "#Keras Tokenizer for summaries.\n",
        "tokenizer_headline = Tokenizer()\n",
        "tokenizer_headline.fit_on_texts(list(y_train))\n",
        "y_train_seq = tokenizer_headline.texts_to_sequences(y_train)\n",
        "y_test_seq = tokenizer_headline.texts_to_sequences(y_test)\n",
        "y_train_pad = pad_sequences(y_train_seq, maxlen=headline_length, padding='post')\n",
        "y_test_pad = pad_sequences(y_test_seq, maxlen=headline_length, padding='post')\n",
        "#Vocab size of summaries.\n",
        "headline_vocab = len(tokenizer_headline.word_index) + 1"
      ],
      "metadata": {
        "id": "gb52uwPGftz_"
      },
      "execution_count": null,
      "outputs": []
    },
    {
      "cell_type": "markdown",
      "source": [
        "adding attention layers"
      ],
      "metadata": {
        "id": "qD8tzio9tDGY"
      }
    },
    {
      "cell_type": "code",
      "source": [
        "class AttentionLayer(Layer):\n",
        "    def __init__(self, **kwargs): #-----> to inherit the layer class from keras\n",
        "        super(AttentionLayer, self).__init__(**kwargs)\n",
        "    def build(self, input_shape):#------> function to create trainable weights w1,w2,w3\n",
        "        assert isinstance(input_shape, list)\n",
        "        self.W1 = self.add_weight(name='W1',shape=tf.TensorShape((input_shape[0][2], input_shape[0][2])),initializer='uniform',trainable=True)\n",
        "        self.W2 = self.add_weight(name='w2',shape=tf.TensorShape((input_shape[1][2], input_shape[0][2])),initializer='uniform',trainable=True)\n",
        "        self.W3 = self.add_weight(name='w3',shape=tf.TensorShape((input_shape[0][2], 1)),initializer='uniform',trainable=True)\n",
        "        super(AttentionLayer, self).build(input_shape)\n",
        "\n",
        "    def call(self, inputs, verbose=False):\n",
        "\n",
        "        #inputs for this function: [encoder_output_sequence, decoder_output_sequence]\n",
        "        #outputs from this function : energy_i which is energy at step i\n",
        "        assert type(inputs) == list\n",
        "        encoder_out_seq, decoder_out_seq = inputs\n",
        "        if verbose:\n",
        "            print('encoder_out_seq>', encoder_out_seq.shape)\n",
        "            print('decoder_out_seq>', decoder_out_seq.shape)\n",
        "\n",
        "        def energy_step(inputs, states):#----->function for computing energy for a single decoder state\n",
        "\n",
        "            assert_msg = \"States must be a list. However states {} is of type {}\".format(states, type(states))\n",
        "            assert isinstance(states, list) or isinstance(states, tuple), assert_msg\n",
        "\n",
        "            #shaping tensors\n",
        "            en_seq_len, en_hidden = encoder_out_seq.shape[1], encoder_out_seq.shape[2]\n",
        "            de_hidden = inputs.shape[-1]\n",
        "\n",
        "            #Computing S.W1 ------> dot product of encoder output with trainable weight w1\n",
        "            reshaped_enc_outputs = K.reshape(encoder_out_seq, (-1, en_hidden))\n",
        "            W1_dot_s = K.reshape(K.dot(reshaped_enc_outputs, self.W1), (-1, en_seq_len, en_hidden))\n",
        "            if verbose:\n",
        "                print('wa.s>',W1_dot_s.shape)\n",
        "\n",
        "            #Computing h.w2 -------> dot product of decoder with w2 weights\n",
        "            W2_dot_h = K.expand_dims(K.dot(inputs, self.W2), 1)\n",
        "            if verbose:\n",
        "                print('W2.h>',W2_dot_h.shape)\n",
        "\n",
        "            #tanh(S.W1a + hj.W2a)----> concatenation based attention score calculation\\\n",
        "            # tanh activation will squash the values to -1 to 1 range\n",
        "            reshaped_W1s_plus_W2h = K.tanh(K.reshape(W1_dot_s + W2_dot_h, (-1, en_hidden)))\n",
        "            if verbose:\n",
        "                print('Ws+Uh>', reshaped_W1s_plus_W2h.shape)\n",
        "\n",
        "            #softmax(w3.tanh(S.W1 + hj.w2)) -----> probability distribution for energy\n",
        "            # calculating the attention energy at each step and dot producting with w3\n",
        "            energy_i = K.reshape(K.dot(reshaped_W1s_plus_W2h, self.W3), (-1, en_seq_len))\n",
        "            energy_i = K.softmax(energy_i)\n",
        "\n",
        "            if verbose:\n",
        "                print('energy at i>', energy_i.shape)\n",
        "\n",
        "            return energy_i, [energy_i]\n",
        "\n",
        "        def context_step(inputs, states):#------> function to calculate context vector at each stage\n",
        "            #this function outputs the context vector at each stage\n",
        "            context_i = K.sum(encoder_out_seq * K.expand_dims(inputs, -1), axis=1)\n",
        "            if verbose:\n",
        "                print('ci>', c_i.shape)\n",
        "            return context_i, [context_i]\n",
        "\n",
        "        def create_inital_state(inputs, hidden_size):\n",
        "            # We are not using initial states, but need to pass something to K.rnn funciton\n",
        "            fake_state = K.zeros_like(inputs)\n",
        "            fake_state = K.sum(fake_state, axis=[1, 2])\n",
        "            fake_state = K.expand_dims(fake_state)\n",
        "            fake_state = K.tile(fake_state, [1, hidden_size])\n",
        "            return fake_state\n",
        "\n",
        "        fake_state_c = create_inital_state(encoder_out_seq, encoder_out_seq.shape[-1])\n",
        "        fake_state_e = create_inital_state(encoder_out_seq, encoder_out_seq.shape[1])\n",
        "\n",
        "        #Computing energy outputs\n",
        "        last_out, e_outputs, _ = K.rnn(\n",
        "            energy_step, decoder_out_seq, [fake_state_e],)\n",
        "\n",
        "        #Computing context vectors\n",
        "        last_out, c_outputs, _ = K.rnn(\n",
        "            context_step, e_outputs, [fake_state_c],)\n",
        "\n",
        "        return c_outputs, e_outputs\n",
        "\n",
        "    def compute_output_shape(self, input_shape):\n",
        "        #reshaping Outputs produced by the layer\n",
        "        return [\n",
        "            tf.TensorShape((input_shape[1][0], input_shape[1][1], input_shape[1][2])),\n",
        "            tf.TensorShape((input_shape[1][0], input_shape[1][1], input_shape[0][1]))\n",
        "        ]"
      ],
      "metadata": {
        "id": "CGepdUjXf6_i"
      },
      "execution_count": null,
      "outputs": []
    },
    {
      "cell_type": "markdown",
      "source": [
        "lstm model"
      ],
      "metadata": {
        "id": "0av7rdM2tIAM"
      }
    },
    {
      "cell_type": "code",
      "source": [
        "K.clear_session()\n",
        "\n",
        "embedding_dim = 300 #Size of word embeddings.\n",
        "latent_dim = 500 #Number of neurons in LSTM layer.\n",
        "\n",
        "#Embedding Layer\n",
        "e_input = Input(shape=(news_length, ))\n",
        "e_emb = Embedding(news_vocab, embedding_dim, trainable=True)(e_input)\n",
        "\n",
        "#Three LSTM layers ----> encoder.\n",
        "e_lstm1 = LSTM(latent_dim, return_sequences=True, return_state=True, dropout=0.3, recurrent_dropout=0.2)\n",
        "y_1, a_1, c_1 = e_lstm1(e_emb)\n",
        "e_lstm2 = LSTM(latent_dim, return_sequences=True, return_state=True, dropout=0.3, recurrent_dropout=0.2)\n",
        "y_2, a_2, c_2 = e_lstm2(y_1)\n",
        "e_lstm3 = LSTM(latent_dim, return_sequences=True, return_state=True, dropout=0.3, recurrent_dropout=0.2)\n",
        "encoder_output, a_enc, c_enc = e_lstm3(y_2)\n",
        "\n",
        "#Single LSTM layer ----> decoder\n",
        "d_input = Input(shape=(None,))\n",
        "d_emb = Embedding(headline_vocab, embedding_dim, trainable=True)(d_input)\n",
        "d_lstm = LSTM(latent_dim, return_sequences=True, return_state=True, dropout=0.3, recurrent_dropout=0.2)\n",
        "decoder_output, decoder_fwd, decoder_back = d_lstm(d_emb, initial_state=[a_enc, c_enc]) #Final output states of encoder last layer are fed into decoder.\n",
        "\n",
        "#Attention Layer\n",
        "attn_layer = AttentionLayer(name='attention_layer')\n",
        "attn_out, attn_states = attn_layer([encoder_output, decoder_output])\n",
        "\n",
        "#concatenating decoder input to attention layer output\n",
        "decoder_concat_input = Concatenate(axis=-1, name='concat_layer')([decoder_output, attn_out])\n",
        "#dense time distributed layer with softw=max fucntion for predicting the next word\n",
        "decoder_dense = TimeDistributed(Dense(headline_vocab, activation='softmax'))\n",
        "decoder_output = decoder_dense(decoder_concat_input)\n",
        "\n",
        "#creating model\n",
        "model = Model([e_input, d_input], decoder_output)\n",
        "model.summary()"
      ],
      "metadata": {
        "id": "0V7BSZkjgo-P",
        "colab": {
          "base_uri": "https://localhost:8080/"
        },
        "outputId": "62d82974-9d7f-4233-d18b-237c702f26ae"
      },
      "execution_count": null,
      "outputs": [
        {
          "output_type": "stream",
          "name": "stderr",
          "text": [
            "WARNING:tensorflow:Layer lstm will not use cuDNN kernels since it doesn't meet the criteria. It will use a generic GPU kernel as fallback when running on GPU.\n",
            "WARNING:tensorflow:Layer lstm_1 will not use cuDNN kernels since it doesn't meet the criteria. It will use a generic GPU kernel as fallback when running on GPU.\n",
            "WARNING:tensorflow:Layer lstm_2 will not use cuDNN kernels since it doesn't meet the criteria. It will use a generic GPU kernel as fallback when running on GPU.\n",
            "WARNING:tensorflow:Layer lstm_3 will not use cuDNN kernels since it doesn't meet the criteria. It will use a generic GPU kernel as fallback when running on GPU.\n"
          ]
        },
        {
          "output_type": "stream",
          "name": "stdout",
          "text": [
            "Model: \"model\"\n",
            "__________________________________________________________________________________________________\n",
            " Layer (type)                Output Shape                 Param #   Connected to                  \n",
            "==================================================================================================\n",
            " input_1 (InputLayer)        [(None, 53)]                 0         []                            \n",
            "                                                                                                  \n",
            " embedding (Embedding)       (None, 53, 300)              4473600   ['input_1[0][0]']             \n",
            "                                                                                                  \n",
            " lstm (LSTM)                 [(None, 53, 500),            1602000   ['embedding[0][0]']           \n",
            "                              (None, 500),                                                        \n",
            "                              (None, 500)]                                                        \n",
            "                                                                                                  \n",
            " input_2 (InputLayer)        [(None, None)]               0         []                            \n",
            "                                                                                                  \n",
            " lstm_1 (LSTM)               [(None, 53, 500),            2002000   ['lstm[0][0]']                \n",
            "                              (None, 500),                                                        \n",
            "                              (None, 500)]                                                        \n",
            "                                                                                                  \n",
            " embedding_1 (Embedding)     (None, None, 300)            1084020   ['input_2[0][0]']             \n",
            "                                                          0                                       \n",
            "                                                                                                  \n",
            " lstm_2 (LSTM)               [(None, 53, 500),            2002000   ['lstm_1[0][0]']              \n",
            "                              (None, 500),                                                        \n",
            "                              (None, 500)]                                                        \n",
            "                                                                                                  \n",
            " lstm_3 (LSTM)               [(None, None, 500),          1602000   ['embedding_1[0][0]',         \n",
            "                              (None, 500),                           'lstm_2[0][1]',              \n",
            "                              (None, 500)]                           'lstm_2[0][2]']              \n",
            "                                                                                                  \n",
            " attention_layer (Attention  ((None, None, 500),          500500    ['lstm_2[0][0]',              \n",
            " Layer)                       (None, None, 53))                      'lstm_3[0][0]']              \n",
            "                                                                                                  \n",
            " concat_layer (Concatenate)  (None, None, 1000)           0         ['lstm_3[0][0]',              \n",
            "                                                                     'attention_layer[0][0]']     \n",
            "                                                                                                  \n",
            " time_distributed (TimeDist  (None, None, 36134)          3617013   ['concat_layer[0][0]']        \n",
            " ributed)                                                 4                                       \n",
            "                                                                                                  \n",
            "==================================================================================================\n",
            "Total params: 59192434 (225.80 MB)\n",
            "Trainable params: 59192434 (225.80 MB)\n",
            "Non-trainable params: 0 (0.00 Byte)\n",
            "__________________________________________________________________________________________________\n"
          ]
        }
      ]
    },
    {
      "cell_type": "markdown",
      "source": [
        "training the model"
      ],
      "metadata": {
        "id": "9uf4OVJxtMk9"
      }
    },
    {
      "cell_type": "code",
      "source": [
        "model.compile(optimizer='rmsprop', loss='sparse_categorical_crossentropy')\n",
        "callback = keras.callbacks.EarlyStopping(monitor='val_loss', mode='min', verbose=1, patience=2)\n",
        "history=model.fit([x_train_pad,y_train_pad[:,:-1]], y_train_pad.reshape(y_train_pad.shape[0],y_train_pad.shape[1], 1)[:,1:] ,epochs=3,callbacks=[callback],batch_size=512, validation_data=([x_test_pad,y_test_pad[:,:-1]], y_test_pad.reshape(y_test_pad.shape[0],y_test_pad.shape[1], 1)[:,1:]))"
      ],
      "metadata": {
        "id": "1IeucIFehf-x",
        "colab": {
          "base_uri": "https://localhost:8080/"
        },
        "outputId": "2c3479fe-5734-4a36-e53e-78e9bc91ff63"
      },
      "execution_count": null,
      "outputs": [
        {
          "output_type": "stream",
          "name": "stdout",
          "text": [
            "Epoch 1/3\n",
            "24/24 [==============================] - 67s 2s/step - loss: 8.9531 - val_loss: 7.5511\n",
            "Epoch 2/3\n",
            "24/24 [==============================] - 45s 2s/step - loss: 7.5589 - val_loss: 7.4133\n",
            "Epoch 3/3\n",
            "24/24 [==============================] - 45s 2s/step - loss: 7.4773 - val_loss: 7.4016\n"
          ]
        }
      ]
    },
    {
      "cell_type": "code",
      "source": [
        "encoder_model = Model(inputs=e_input, outputs=[encoder_output, a_enc, c_enc])\n",
        "\n",
        "#Initialising state vectors for decoder.\n",
        "decoder_initial_state_a = Input(shape=(latent_dim,))\n",
        "decoder_initial_state_c = Input(shape=(latent_dim,))\n",
        "decoder_hidden_state = Input(shape=(news_length, latent_dim))\n",
        "\n",
        "#Decoder inference model\n",
        "decoder_out, decoder_a, decoder_c = d_lstm(d_emb, initial_state=[decoder_initial_state_a, decoder_initial_state_c])\n",
        "attn_out_inf, attn_states_inf = attn_layer([decoder_hidden_state, decoder_out])\n",
        "decoder_inf_concat = Concatenate(axis=-1, name='concat')([decoder_out, attn_out_inf])\n",
        "\n",
        "decoder_final = decoder_dense(decoder_inf_concat)\n",
        "decoder_model = Model([d_input]+[decoder_hidden_state, decoder_initial_state_a, decoder_initial_state_c], [decoder_final]+[decoder_a, decoder_c])"
      ],
      "metadata": {
        "id": "yUMxEvkJhsP5"
      },
      "execution_count": null,
      "outputs": []
    },
    {
      "cell_type": "code",
      "source": [
        "def decoded_sequence(input_seq):\n",
        "    encoder_out, encoder_a, encoder_c = encoder_model.predict(input_seq) #Collecting output from encoder inference model.\n",
        "    #Initialise input to decoder neuron with START token. Thereafter output token predicted by each neuron will be used as input for the subsequent.\n",
        "    #Single elt matrix used for maintaining dimensions.\n",
        "    next_input = np.zeros((1,1))\n",
        "    next_input[0,0] = tokenizer_headline.word_index['start']\n",
        "    output_seq = ''\n",
        "    #Stopping condition to terminate loop when one summary is generated.\n",
        "    stop = False\n",
        "    while not stop:\n",
        "        #Output from decoder inference model, with output states of encoder used for initialisation.\n",
        "        decoded_out, trans_state_a, trans_state_c = decoder_model.predict([next_input] + [encoder_out, encoder_a, encoder_c])\n",
        "        #Get index of output token from y(t) of decoder.\n",
        "        output_idx = np.argmax(decoded_out[0, -1, :])\n",
        "        #If output index corresponds to END token, summary is terminated without of course adding the END token itself.\n",
        "        if output_idx == tokenizer_headline.word_index['end']:\n",
        "            stop = True\n",
        "        elif output_idx>0 and output_idx != tokenizer_headline.word_index['start'] :\n",
        "            output_token = tokenizer_headline.index_word[output_idx] #Generate the token from index.\n",
        "            output_seq = output_seq + ' ' + output_token #Append to summary\n",
        "\n",
        "        #Pass the current output index as input to next neuron.\n",
        "        next_input[0,0] = output_idx\n",
        "        #Continously update the transient state vectors in decoder.\n",
        "        encoder_a, encoder_c = trans_state_a, trans_state_c\n",
        "\n",
        "    return output_seq"
      ],
      "metadata": {
        "id": "6c82j6pShwnU"
      },
      "execution_count": null,
      "outputs": []
    },
    {
      "cell_type": "code",
      "source": [
        "# Example definition of decoded_sequence function\n",
        "def decoded_sequence(sequence):\n",
        "    # Your decoding logic here\n",
        "    return decoded_result\n",
        "\n"
      ],
      "metadata": {
        "id": "ml0CGrLLq36z"
      },
      "execution_count": null,
      "outputs": []
    },
    {
      "cell_type": "code",
      "source": [
        "from tensorflow.keras.preprocessing.text import Tokenizer\n",
        "from tensorflow.keras.preprocessing.sequence import pad_sequences\n",
        "\n",
        "# Example dummy test data\n",
        "x_test = [\n",
        "    \"This is the first test sequence.\",\n",
        "    \"Another sequence for testing purposes.\",\n",
        "    \"Test data is crucial for evaluation.\"\n",
        "]\n",
        "\n",
        "# Tokenizing and padding sequences\n",
        "tokenizer = Tokenizer()\n",
        "tokenizer.fit_on_texts(x_test)\n",
        "sequences = tokenizer.texts_to_sequences(x_test)\n",
        "news_length = 10  # Set your desired sequence length\n",
        "x_test_pad = pad_sequences(sequences, maxlen=news_length, padding='post')\n",
        "\n",
        "# Loop to decode sequences\n",
        "predicted = []\n",
        "\n",
        "for i in range(len(x_test_pad)):\n",
        "    # Your decoding logic here\n",
        "    decoded = \"Decoded sequence for index \" + str(i)  # Placeholder, replace with your decoding function\n",
        "    print('Predicted Headline:', decoded)\n",
        "    predicted.append(decoded.split())\n",
        "\n",
        "# Display predicted headlines\n",
        "print(\"Predicted Headlines:\", predicted)\n"
      ],
      "metadata": {
        "colab": {
          "base_uri": "https://localhost:8080/"
        },
        "id": "17k1LIBhrg26",
        "outputId": "b6ee1670-4fa2-4022-de66-96a13950b782"
      },
      "execution_count": null,
      "outputs": [
        {
          "output_type": "stream",
          "name": "stdout",
          "text": [
            "Predicted Headline: Decoded sequence for index 0\n",
            "Predicted Headline: Decoded sequence for index 1\n",
            "Predicted Headline: Decoded sequence for index 2\n",
            "Predicted Headlines: [['Decoded', 'sequence', 'for', 'index', '0'], ['Decoded', 'sequence', 'for', 'index', '1'], ['Decoded', 'sequence', 'for', 'index', '2']]\n"
          ]
        }
      ]
    },
    {
      "cell_type": "code",
      "source": [
        "def decoded_sequence(sequence):\n",
        "    # Your decoding logic here\n",
        "    decoded_result = \"Decoded sequence\"  # Replace this with your actual decoding logic\n",
        "    return decoded_result\n"
      ],
      "metadata": {
        "id": "SRxY27CAr4O5"
      },
      "execution_count": null,
      "outputs": []
    },
    {
      "cell_type": "code",
      "source": [
        "\n",
        "\n",
        "predicted = []\n",
        "\n",
        "for i in range(len(x_test_pad)):\n",
        "    decoded = decoded_sequence(x_test_pad[i].reshape(1, news_length))\n",
        "    print('Predicted Headline:', decoded)\n",
        "    predicted.append(decoded.split())\n",
        "\n",
        "\n"
      ],
      "metadata": {
        "colab": {
          "base_uri": "https://localhost:8080/"
        },
        "id": "2R0Skb3qqeBX",
        "outputId": "603ade4a-3728-4eaf-ba36-55ee08dd4670"
      },
      "execution_count": null,
      "outputs": [
        {
          "output_type": "stream",
          "name": "stdout",
          "text": [
            "Predicted Headline: Decoded sequence\n",
            "Predicted Headline: Decoded sequence\n",
            "Predicted Headline: Decoded sequence\n"
          ]
        }
      ]
    },
    {
      "cell_type": "code",
      "source": [
        "X = data['processed_text']\n",
        "y = data['text']\n",
        "\n",
        "X_train, X_test, y_train, y_test = train_test_split(X, y, test_size=0.2, random_state=42)\n"
      ],
      "metadata": {
        "id": "poXkaLppsse1"
      },
      "execution_count": null,
      "outputs": []
    },
    {
      "cell_type": "code",
      "source": [
        "# Assuming X_test and y_test contain your test data\n",
        "for i in range(10):\n",
        "    information = X_test.iloc[i]\n",
        "    actual_headline = y_test.iloc[i]\n",
        "    # Process information and actual_headline as needed\n",
        "    # Perform predictions or any other operations within this loop\n"
      ],
      "metadata": {
        "id": "vafF8jZGsZgd"
      },
      "execution_count": null,
      "outputs": []
    },
    {
      "cell_type": "code",
      "source": [
        "predicted = []\n",
        "for i in range(20):\n",
        "    print('Information:', X_test.iloc[i])\n",
        "    print('Actual Headline:', y_test.iloc[i])\n",
        "\n"
      ],
      "metadata": {
        "colab": {
          "base_uri": "https://localhost:8080/"
        },
        "id": "cgbDx0n5pAsc",
        "outputId": "bffb0a78-437a-4db6-a931-32b4935b0210"
      },
      "execution_count": null,
      "outputs": [
        {
          "output_type": "stream",
          "name": "stdout",
          "text": [
            "Information: instagram launch voice chat feature direct message\n",
            "Actual Headline: Facebook-owned photo-sharing app Instagram has launched a new voice chat feature on its messaging section Instagram Direct. Users can send voice messages of up to one-minute duration in private and group chats. The recorded messages do not have an expiration date and can be listened to multiple times.\n",
            "Information: rat bite dead man nose govt hospital tamil nadu\n",
            "Actual Headline: In a government-run hospital in Tamil Nadu's Chidambaram, a rat allegedly bit off the nose of a dead body, which was being kept in a damaged freezer at the mortuary. The deceased had committed suicide on Tuesday and was brought to the hospital for post-mortem. \"It was a quality issue...we've spoken to the freezer's contractors,\" hospital's Chief Medical Officer said.\n",
            "Information: u govt shutdown last mexico border wall funded trump\n",
            "Actual Headline: US President Donald Trump has said that the partial government shutdown will last until the Congress approves the funds to build the wall along the border with Mexico. \"It's a barrier from people pouring into the country, from drugs,\" he added. The Trump administration has sought $5 billion from the Congress for the construction of the border wall.\n",
            "Information: 12yearold u girl dy snow fort collapse\n",
            "Actual Headline: A 12-year-old girl died after a snow fort collapsed while she was playing along with another girl outside a church in Chicago, US. Their families began looking for the girls about an hour after they went outside to play. The other girl was treated for hypothermia and remains at a hospital.\n",
            "Information: bjp trying divide deity caste line mayawati\n",
            "Actual Headline: Former UP CM Mayawati on Thursday alleged that the BJP, after dividing people on caste lines, is now \"dividing even the deities\" for votes. Addressing a gathering, she alleged that the common man and farmers are suffering under the BJP rule. She claimed BJP is trying to destroy constitutional institutions that help the Dalits.\n",
            "Information: trump firm considered giving putin 50 million penthouse broker\n",
            "Actual Headline: US President Donald Trump's company considered offering Russian President Vladimir Putin a $50 million penthouse in a planned skyscraper in Moscow, according to the Russian-born real estate developer who was broker on the project. The idea was pitched during the 2016 presidential campaign. The broker said that the idea was aimed at making the building more desirable to rich buyers.\n",
            "Information: vikram misri take charge india new envoy china\n",
            "Actual Headline: India's new ambassador to China Vikram Misri took charge of the post on Monday. A 1989-batch Indian Foreign Service officer, Misri replaced Gautam Bambawale, who had retired in November. Misri has previously served as the Indian envoy to Myanmar, as well as in various capacities at the headquarters of the Ministry of External Affairs and Prime Minister's Office.\n",
            "Information: aishwarya abhishek opt gulab jamun report\n",
            "Actual Headline: Aishwarya Rai Bachchan and Abhishek Bachchan have opted out of Anurag Kashyap's next production 'Gulab Jamun', as per reports. \"They had suggested certain changes [in the script]. While things were being worked out, the two seem to have had a change of mind,\" stated reports. Aishwarya and Abhishek were last seen together in Mani Ratnam's 'Raavan' in 2010.\n",
            "Information: jk bjp antidalit say expelled leader gagan bhagat\n",
            "Actual Headline: Days after he was expelled from the Jammu and Kashmir BJP unit for his alleged \"anti-party and anti-Jammu activities\", Gagan Bhagat claimed he was victimised for being a Dalit and accused the state party leadership of being \"anti-Dalit\". Earlier, he was suspended over his alleged role in the abduction of an ex-serviceman's daughter. Bhagat and the woman rejected the charge.\n",
            "Information: batsman get 7th ball bbl umpire dont notice\n",
            "Actual Headline: Perth Scorchers' opener Michael Klinger was dismissed on the 'seventh legal delivery' of the second over against Sydney Sixers in the BBL after a miscount by umpires allowed pacer Ben Dwarshuis to bowl a seven-ball over. Dwarshuis didn't bowl any no-ball or wide in the over. Cricket Australia confirmed there was no provision in the rules to overturn the dismissal.\n",
            "Information: 27 killed 77 injured twin blast church philippine\n",
            "Actual Headline: At least 27 people were killed and 77 others injured after two bombs exploded at a Roman Catholic cathedral on Jolo island in southern Philippines on Sunday. The first blast occurred inside the church while mass was being celebrated, and was followed by a second explosion in the parking lot, according to officials. There was no immediate claim of responsibility.\n",
            "Information: india russia sign 500mn deal build 2 warship goa\n",
            "Actual Headline: India and Russia on Tuesday signed a $500-million deal to build two warships in Goa for the Indian Navy, officials said. The Goa Shipyard Limited and Russia's Rosoboronexport signed the agreement for the Grigorovich-class 'Project 11356' frigates with technology transfer from Russia. The construction of the warships will begin in 2020 and the first one will be delivered in 2026.\n",
            "Information: green cracker wont available diwali minister\n",
            "Actual Headline: Union Minister Harsh Vardhan said green crackers won't be available this Diwali but the technology for the crackers will be shared with the industry soon. Factories can begin manufacturing once they are granted licenses from Petroleum and Explosives Safety Organisation. The Supreme Court has allowed firecracker bursting between 8 pm-10 pm and permitted use of only green crackers in Delhi-NCR.\n",
            "Information: people right speak mind ashutosh rana naseeruddin\n",
            "Actual Headline: Reacting to Naseeruddin Shah's statement of fearing for his children's safety in India, actor Ashutosh Rana on Sunday said that people have the right to speak their mind and there's no need of conducting a \"social trial\". \"We should seriously listen to him/her instead,\" said Rana. \"If there's a debate, it will improve the countryâs economic situation,\" he added.\n",
            "Information: pil high court challenge allahabad name change\n",
            "Actual Headline: A High Court lawyer on Friday filed a PIL in the Allahabad HC, challenging the UP government's notification that renamed Allahabad as Prayagraj. Chief Minister Yogi Adityanath and Urban Development Minister Suresh Khanna have been made respondents in the PIL, among others. The PIL claims that renaming Allahabad is not in the interest of the public or the state government.\n",
            "Information: army inducts k9 vajra gun m777 howitzer 30 year bofors\n",
            "Actual Headline: Indian Army on Friday inducted three major artillery gun systems and equipments, including the M777 American Ultra-Light Howitzer and the K-9 Vajra at Deolali artillery centre in Maharashtra's Nashik. It's the first major induction of such guns since Bofors were inducted around 30 years ago. Moreover, 100 K-9 Vajra will be inducted at the cost of â¹4,366 crore by 2020.\n",
            "Information: rohit sharma play gully cricket mumbai sunday\n",
            "Actual Headline: Indian cricketer Rohit Sharma shared a video wherein he is seen spending a Sunday afternoon playing gully cricket in the streets of Mumbai. In the video, Rohit is seen playing cricket on a street with some boys with a makeshift traffic cone acting as the wicket. India will face Windies in the fourth ODI at Mumbai's Brabourne stadium on Monday.\n",
            "Information: 17 dead 14 crore tree uprooted italy apocalyptic storm\n",
            "Actual Headline: Heavy rains and strong winds have killed 17 people and uprooted nearly 1.4 crore trees across Italy, with the country's Civil Protection Agency calling the situation \"apocalyptic\". Many of the victims to date have been killed by falling trees. Major tourist attractions in Rome, including the Colosseum and Roman Forum had earlier been shut due to the weather conditions.\n",
            "Information: amazon flipkart abusing market position india cci\n",
            "Actual Headline: The Competition Commission of India (CCI) on Tuesday said that e-commerce firms Amazon and its rival Flipkart are not abusing market position to favour select sellers. \"It does not appear that any one player...is commanding any dominant position,\" the CCI said in its ruling. It comes after the All India Online Vendors Association (AIOVA) complained against Flipkart for the same.\n",
            "Information: npa result previous congled govts misdeed shah\n",
            "Actual Headline: Addressing a rally in Rajasthan, BJP President Amit Shah stated non-performing assets (NPA) were results of misdeeds of the previous Congress-led government. \"Loans given through corrupt practices during Congress government have turned into NPAs,\" Shah said. He added that fugitives Nirav Modi and Vijay Mallya didnât run away during Congress regime as they had a partnership with the government. n\n"
          ]
        }
      ]
    },
    {
      "cell_type": "code",
      "source": [
        "predicted = []\n",
        "for i in range(20):\n",
        "    test_seq = x_test_pad[i].reshape(1, news_length)\n",
        "    predicted_headline = decoded_sequence(test_seq)\n",
        "\n",
        "    print('Information:', X_test.iloc[i])\n",
        "    print('Actual Headline:', y_test.iloc[i])\n",
        "    print('Predicted Headline:', predicted_headline)\n",
        "\n",
        "    predicted.append(predicted_headline.split())\n"
      ],
      "metadata": {
        "colab": {
          "base_uri": "https://localhost:8080/",
          "height": 421
        },
        "id": "7FmoXiyZ14bz",
        "outputId": "c330eb21-9fb3-4a1d-bd8c-1d6c3fce5a41"
      },
      "execution_count": null,
      "outputs": [
        {
          "output_type": "stream",
          "name": "stdout",
          "text": [
            "Information: instagram launch voice chat feature direct message\n",
            "Actual Headline: Facebook-owned photo-sharing app Instagram has launched a new voice chat feature on its messaging section Instagram Direct. Users can send voice messages of up to one-minute duration in private and group chats. The recorded messages do not have an expiration date and can be listened to multiple times.\n",
            "Predicted Headline: Decoded sequence\n",
            "Information: rat bite dead man nose govt hospital tamil nadu\n",
            "Actual Headline: In a government-run hospital in Tamil Nadu's Chidambaram, a rat allegedly bit off the nose of a dead body, which was being kept in a damaged freezer at the mortuary. The deceased had committed suicide on Tuesday and was brought to the hospital for post-mortem. \"It was a quality issue...we've spoken to the freezer's contractors,\" hospital's Chief Medical Officer said.\n",
            "Predicted Headline: Decoded sequence\n",
            "Information: u govt shutdown last mexico border wall funded trump\n",
            "Actual Headline: US President Donald Trump has said that the partial government shutdown will last until the Congress approves the funds to build the wall along the border with Mexico. \"It's a barrier from people pouring into the country, from drugs,\" he added. The Trump administration has sought $5 billion from the Congress for the construction of the border wall.\n",
            "Predicted Headline: Decoded sequence\n"
          ]
        },
        {
          "output_type": "error",
          "ename": "IndexError",
          "evalue": "ignored",
          "traceback": [
            "\u001b[0;31m---------------------------------------------------------------------------\u001b[0m",
            "\u001b[0;31mIndexError\u001b[0m                                Traceback (most recent call last)",
            "\u001b[0;32m<ipython-input-78-eb15cf9c3fee>\u001b[0m in \u001b[0;36m<cell line: 2>\u001b[0;34m()\u001b[0m\n\u001b[1;32m      1\u001b[0m \u001b[0mpredicted\u001b[0m \u001b[0;34m=\u001b[0m \u001b[0;34m[\u001b[0m\u001b[0;34m]\u001b[0m\u001b[0;34m\u001b[0m\u001b[0;34m\u001b[0m\u001b[0m\n\u001b[1;32m      2\u001b[0m \u001b[0;32mfor\u001b[0m \u001b[0mi\u001b[0m \u001b[0;32min\u001b[0m \u001b[0mrange\u001b[0m\u001b[0;34m(\u001b[0m\u001b[0;36m20\u001b[0m\u001b[0;34m)\u001b[0m\u001b[0;34m:\u001b[0m\u001b[0;34m\u001b[0m\u001b[0;34m\u001b[0m\u001b[0m\n\u001b[0;32m----> 3\u001b[0;31m     \u001b[0mtest_seq\u001b[0m \u001b[0;34m=\u001b[0m \u001b[0mx_test_pad\u001b[0m\u001b[0;34m[\u001b[0m\u001b[0mi\u001b[0m\u001b[0;34m]\u001b[0m\u001b[0;34m.\u001b[0m\u001b[0mreshape\u001b[0m\u001b[0;34m(\u001b[0m\u001b[0;36m1\u001b[0m\u001b[0;34m,\u001b[0m \u001b[0mnews_length\u001b[0m\u001b[0;34m)\u001b[0m\u001b[0;34m\u001b[0m\u001b[0;34m\u001b[0m\u001b[0m\n\u001b[0m\u001b[1;32m      4\u001b[0m     \u001b[0mpredicted_headline\u001b[0m \u001b[0;34m=\u001b[0m \u001b[0mdecoded_sequence\u001b[0m\u001b[0;34m(\u001b[0m\u001b[0mtest_seq\u001b[0m\u001b[0;34m)\u001b[0m\u001b[0;34m\u001b[0m\u001b[0;34m\u001b[0m\u001b[0m\n\u001b[1;32m      5\u001b[0m \u001b[0;34m\u001b[0m\u001b[0m\n",
            "\u001b[0;31mIndexError\u001b[0m: index 3 is out of bounds for axis 0 with size 3"
          ]
        }
      ]
    },
    {
      "cell_type": "code",
      "source": [
        "predicted = []\n",
        "num_samples = min(20, len(x_test_pad))  # Limit the loop to the minimum of 20 or the length of x_test_pad\n",
        "for i in range(num_samples):\n",
        "    test_seq = x_test_pad[i].reshape(1, news_length)\n",
        "    predicted_headline = decoded_sequence(test_seq)\n",
        "\n",
        "    print('Information:', X_test.iloc[i])\n",
        "    print('Actual Headline:', y_test.iloc[i])\n",
        "    print('Predicted Headline:', predicted_headline)\n",
        "\n",
        "    predicted.append(predicted_headline.split())\n"
      ],
      "metadata": {
        "id": "VYNQwbwe2CGs",
        "outputId": "14727956-0342-4ed0-9d21-0bc66dd451a3",
        "colab": {
          "base_uri": "https://localhost:8080/"
        }
      },
      "execution_count": null,
      "outputs": [
        {
          "output_type": "stream",
          "name": "stdout",
          "text": [
            "Information: instagram launch voice chat feature direct message\n",
            "Actual Headline: Facebook-owned photo-sharing app Instagram has launched a new voice chat feature on its messaging section Instagram Direct. Users can send voice messages of up to one-minute duration in private and group chats. The recorded messages do not have an expiration date and can be listened to multiple times.\n",
            "Predicted Headline: Decoded sequence\n",
            "Information: rat bite dead man nose govt hospital tamil nadu\n",
            "Actual Headline: In a government-run hospital in Tamil Nadu's Chidambaram, a rat allegedly bit off the nose of a dead body, which was being kept in a damaged freezer at the mortuary. The deceased had committed suicide on Tuesday and was brought to the hospital for post-mortem. \"It was a quality issue...we've spoken to the freezer's contractors,\" hospital's Chief Medical Officer said.\n",
            "Predicted Headline: Decoded sequence\n",
            "Information: u govt shutdown last mexico border wall funded trump\n",
            "Actual Headline: US President Donald Trump has said that the partial government shutdown will last until the Congress approves the funds to build the wall along the border with Mexico. \"It's a barrier from people pouring into the country, from drugs,\" he added. The Trump administration has sought $5 billion from the Congress for the construction of the border wall.\n",
            "Predicted Headline: Decoded sequence\n"
          ]
        }
      ]
    },
    {
      "cell_type": "code",
      "source": [
        "batch_size = 20  # Set your preferred batch size\n",
        "num_batches = len(x_test_pad) // batch_size\n",
        "\n",
        "predicted = []\n",
        "\n",
        "for i in range(num_batches):\n",
        "    start_idx = i * batch_size\n",
        "    end_idx = (i + 1) * batch_size\n",
        "    x_batch = x_test_pad[start_idx:end_idx]\n",
        "\n",
        "    predictions = model.predict(x_batch)\n",
        "\n",
        "    # Process predictions\n",
        "    for prediction in predictions:\n",
        "        decoded = decoded_sequence(prediction.reshape(1, news_length))\n",
        "        print('Predicted Headline:', decoded)\n",
        "        predicted.append(decoded.split())\n",
        "\n"
      ],
      "metadata": {
        "id": "_wxxLrxvoD_r"
      },
      "execution_count": null,
      "outputs": []
    },
    {
      "cell_type": "code",
      "source": [
        "predicted = []\n",
        "for i in range(20):\n",
        "    print('Information:', X_test.iloc[i])\n",
        "    print('Actual Headline:', y_test.iloc[i])\n",
        "    # Assuming 'model' is your sequence-to-sequence model\n",
        "# 'x_test_pad_batch' is a batch of sequences (e.g., 32 sequences)\n",
        "# 'news_length' is the length of the input sequence\n"
      ],
      "metadata": {
        "id": "WK4agVQqh1TH",
        "colab": {
          "base_uri": "https://localhost:8080/"
        },
        "outputId": "48e6cb48-77f5-47f8-8032-685c99ef1e7f"
      },
      "execution_count": null,
      "outputs": [
        {
          "output_type": "stream",
          "name": "stdout",
          "text": [
            "Information: instagram launch voice chat feature direct message\n",
            "Actual Headline: Facebook-owned photo-sharing app Instagram has launched a new voice chat feature on its messaging section Instagram Direct. Users can send voice messages of up to one-minute duration in private and group chats. The recorded messages do not have an expiration date and can be listened to multiple times.\n",
            "Information: rat bite dead man nose govt hospital tamil nadu\n",
            "Actual Headline: In a government-run hospital in Tamil Nadu's Chidambaram, a rat allegedly bit off the nose of a dead body, which was being kept in a damaged freezer at the mortuary. The deceased had committed suicide on Tuesday and was brought to the hospital for post-mortem. \"It was a quality issue...we've spoken to the freezer's contractors,\" hospital's Chief Medical Officer said.\n",
            "Information: u govt shutdown last mexico border wall funded trump\n",
            "Actual Headline: US President Donald Trump has said that the partial government shutdown will last until the Congress approves the funds to build the wall along the border with Mexico. \"It's a barrier from people pouring into the country, from drugs,\" he added. The Trump administration has sought $5 billion from the Congress for the construction of the border wall.\n",
            "Information: 12yearold u girl dy snow fort collapse\n",
            "Actual Headline: A 12-year-old girl died after a snow fort collapsed while she was playing along with another girl outside a church in Chicago, US. Their families began looking for the girls about an hour after they went outside to play. The other girl was treated for hypothermia and remains at a hospital.\n",
            "Information: bjp trying divide deity caste line mayawati\n",
            "Actual Headline: Former UP CM Mayawati on Thursday alleged that the BJP, after dividing people on caste lines, is now \"dividing even the deities\" for votes. Addressing a gathering, she alleged that the common man and farmers are suffering under the BJP rule. She claimed BJP is trying to destroy constitutional institutions that help the Dalits.\n",
            "Information: trump firm considered giving putin 50 million penthouse broker\n",
            "Actual Headline: US President Donald Trump's company considered offering Russian President Vladimir Putin a $50 million penthouse in a planned skyscraper in Moscow, according to the Russian-born real estate developer who was broker on the project. The idea was pitched during the 2016 presidential campaign. The broker said that the idea was aimed at making the building more desirable to rich buyers.\n",
            "Information: vikram misri take charge india new envoy china\n",
            "Actual Headline: India's new ambassador to China Vikram Misri took charge of the post on Monday. A 1989-batch Indian Foreign Service officer, Misri replaced Gautam Bambawale, who had retired in November. Misri has previously served as the Indian envoy to Myanmar, as well as in various capacities at the headquarters of the Ministry of External Affairs and Prime Minister's Office.\n",
            "Information: aishwarya abhishek opt gulab jamun report\n",
            "Actual Headline: Aishwarya Rai Bachchan and Abhishek Bachchan have opted out of Anurag Kashyap's next production 'Gulab Jamun', as per reports. \"They had suggested certain changes [in the script]. While things were being worked out, the two seem to have had a change of mind,\" stated reports. Aishwarya and Abhishek were last seen together in Mani Ratnam's 'Raavan' in 2010.\n",
            "Information: jk bjp antidalit say expelled leader gagan bhagat\n",
            "Actual Headline: Days after he was expelled from the Jammu and Kashmir BJP unit for his alleged \"anti-party and anti-Jammu activities\", Gagan Bhagat claimed he was victimised for being a Dalit and accused the state party leadership of being \"anti-Dalit\". Earlier, he was suspended over his alleged role in the abduction of an ex-serviceman's daughter. Bhagat and the woman rejected the charge.\n",
            "Information: batsman get 7th ball bbl umpire dont notice\n",
            "Actual Headline: Perth Scorchers' opener Michael Klinger was dismissed on the 'seventh legal delivery' of the second over against Sydney Sixers in the BBL after a miscount by umpires allowed pacer Ben Dwarshuis to bowl a seven-ball over. Dwarshuis didn't bowl any no-ball or wide in the over. Cricket Australia confirmed there was no provision in the rules to overturn the dismissal.\n",
            "Information: 27 killed 77 injured twin blast church philippine\n",
            "Actual Headline: At least 27 people were killed and 77 others injured after two bombs exploded at a Roman Catholic cathedral on Jolo island in southern Philippines on Sunday. The first blast occurred inside the church while mass was being celebrated, and was followed by a second explosion in the parking lot, according to officials. There was no immediate claim of responsibility.\n",
            "Information: india russia sign 500mn deal build 2 warship goa\n",
            "Actual Headline: India and Russia on Tuesday signed a $500-million deal to build two warships in Goa for the Indian Navy, officials said. The Goa Shipyard Limited and Russia's Rosoboronexport signed the agreement for the Grigorovich-class 'Project 11356' frigates with technology transfer from Russia. The construction of the warships will begin in 2020 and the first one will be delivered in 2026.\n",
            "Information: green cracker wont available diwali minister\n",
            "Actual Headline: Union Minister Harsh Vardhan said green crackers won't be available this Diwali but the technology for the crackers will be shared with the industry soon. Factories can begin manufacturing once they are granted licenses from Petroleum and Explosives Safety Organisation. The Supreme Court has allowed firecracker bursting between 8 pm-10 pm and permitted use of only green crackers in Delhi-NCR.\n",
            "Information: people right speak mind ashutosh rana naseeruddin\n",
            "Actual Headline: Reacting to Naseeruddin Shah's statement of fearing for his children's safety in India, actor Ashutosh Rana on Sunday said that people have the right to speak their mind and there's no need of conducting a \"social trial\". \"We should seriously listen to him/her instead,\" said Rana. \"If there's a debate, it will improve the countryâs economic situation,\" he added.\n",
            "Information: pil high court challenge allahabad name change\n",
            "Actual Headline: A High Court lawyer on Friday filed a PIL in the Allahabad HC, challenging the UP government's notification that renamed Allahabad as Prayagraj. Chief Minister Yogi Adityanath and Urban Development Minister Suresh Khanna have been made respondents in the PIL, among others. The PIL claims that renaming Allahabad is not in the interest of the public or the state government.\n",
            "Information: army inducts k9 vajra gun m777 howitzer 30 year bofors\n",
            "Actual Headline: Indian Army on Friday inducted three major artillery gun systems and equipments, including the M777 American Ultra-Light Howitzer and the K-9 Vajra at Deolali artillery centre in Maharashtra's Nashik. It's the first major induction of such guns since Bofors were inducted around 30 years ago. Moreover, 100 K-9 Vajra will be inducted at the cost of â¹4,366 crore by 2020.\n",
            "Information: rohit sharma play gully cricket mumbai sunday\n",
            "Actual Headline: Indian cricketer Rohit Sharma shared a video wherein he is seen spending a Sunday afternoon playing gully cricket in the streets of Mumbai. In the video, Rohit is seen playing cricket on a street with some boys with a makeshift traffic cone acting as the wicket. India will face Windies in the fourth ODI at Mumbai's Brabourne stadium on Monday.\n",
            "Information: 17 dead 14 crore tree uprooted italy apocalyptic storm\n",
            "Actual Headline: Heavy rains and strong winds have killed 17 people and uprooted nearly 1.4 crore trees across Italy, with the country's Civil Protection Agency calling the situation \"apocalyptic\". Many of the victims to date have been killed by falling trees. Major tourist attractions in Rome, including the Colosseum and Roman Forum had earlier been shut due to the weather conditions.\n",
            "Information: amazon flipkart abusing market position india cci\n",
            "Actual Headline: The Competition Commission of India (CCI) on Tuesday said that e-commerce firms Amazon and its rival Flipkart are not abusing market position to favour select sellers. \"It does not appear that any one player...is commanding any dominant position,\" the CCI said in its ruling. It comes after the All India Online Vendors Association (AIOVA) complained against Flipkart for the same.\n",
            "Information: npa result previous congled govts misdeed shah\n",
            "Actual Headline: Addressing a rally in Rajasthan, BJP President Amit Shah stated non-performing assets (NPA) were results of misdeeds of the previous Congress-led government. \"Loans given through corrupt practices during Congress government have turned into NPAs,\" Shah said. He added that fugitives Nirav Modi and Vijay Mallya didnât run away during Congress regime as they had a partnership with the government. n\n"
          ]
        }
      ]
    },
    {
      "cell_type": "code",
      "source": [
        "import pandas as pd\n",
        "pd.set_option('display.max_colwidth', None)\n",
        "pd.set_option('display.colheader_justify', 'right')\n",
        "df = pd.DataFrame(columns=['Information', 'Actual Headline', 'Predicted Headline'])\n",
        "\n",
        "for i in range(10):\n",
        "    information = X_test.iloc[i]\n",
        "    actual_headline = y_test.iloc[i]\n",
        "\n",
        "    row = {'Information': information, 'Actual Headline': actual_headline, }\n",
        "    df = df.append(row, ignore_index=True)\n",
        "\n",
        "display(df)\n"
      ],
      "metadata": {
        "id": "IHAf1jrLh8Yo",
        "colab": {
          "base_uri": "https://localhost:8080/",
          "height": 1000
        },
        "outputId": "cb0c36b0-4fd5-4235-f60e-b41e9f64eebe"
      },
      "execution_count": null,
      "outputs": [
        {
          "output_type": "stream",
          "name": "stderr",
          "text": [
            "<ipython-input-67-1d18ce9fdcda>:11: FutureWarning: The frame.append method is deprecated and will be removed from pandas in a future version. Use pandas.concat instead.\n",
            "  df = df.append(row, ignore_index=True)\n",
            "<ipython-input-67-1d18ce9fdcda>:11: FutureWarning: The frame.append method is deprecated and will be removed from pandas in a future version. Use pandas.concat instead.\n",
            "  df = df.append(row, ignore_index=True)\n",
            "<ipython-input-67-1d18ce9fdcda>:11: FutureWarning: The frame.append method is deprecated and will be removed from pandas in a future version. Use pandas.concat instead.\n",
            "  df = df.append(row, ignore_index=True)\n",
            "<ipython-input-67-1d18ce9fdcda>:11: FutureWarning: The frame.append method is deprecated and will be removed from pandas in a future version. Use pandas.concat instead.\n",
            "  df = df.append(row, ignore_index=True)\n",
            "<ipython-input-67-1d18ce9fdcda>:11: FutureWarning: The frame.append method is deprecated and will be removed from pandas in a future version. Use pandas.concat instead.\n",
            "  df = df.append(row, ignore_index=True)\n",
            "<ipython-input-67-1d18ce9fdcda>:11: FutureWarning: The frame.append method is deprecated and will be removed from pandas in a future version. Use pandas.concat instead.\n",
            "  df = df.append(row, ignore_index=True)\n",
            "<ipython-input-67-1d18ce9fdcda>:11: FutureWarning: The frame.append method is deprecated and will be removed from pandas in a future version. Use pandas.concat instead.\n",
            "  df = df.append(row, ignore_index=True)\n",
            "<ipython-input-67-1d18ce9fdcda>:11: FutureWarning: The frame.append method is deprecated and will be removed from pandas in a future version. Use pandas.concat instead.\n",
            "  df = df.append(row, ignore_index=True)\n",
            "<ipython-input-67-1d18ce9fdcda>:11: FutureWarning: The frame.append method is deprecated and will be removed from pandas in a future version. Use pandas.concat instead.\n",
            "  df = df.append(row, ignore_index=True)\n",
            "<ipython-input-67-1d18ce9fdcda>:11: FutureWarning: The frame.append method is deprecated and will be removed from pandas in a future version. Use pandas.concat instead.\n",
            "  df = df.append(row, ignore_index=True)\n"
          ]
        },
        {
          "output_type": "display_data",
          "data": {
            "text/plain": [
              "                                                      Information  \\\n",
              "0              instagram launch voice chat feature direct message   \n",
              "1                 rat bite dead man nose govt hospital tamil nadu   \n",
              "2            u govt shutdown last mexico border wall funded trump   \n",
              "3                          12yearold u girl dy snow fort collapse   \n",
              "4                     bjp trying divide deity caste line mayawati   \n",
              "5  trump firm considered giving putin 50 million penthouse broker   \n",
              "6                  vikram misri take charge india new envoy china   \n",
              "7                       aishwarya abhishek opt gulab jamun report   \n",
              "8               jk bjp antidalit say expelled leader gagan bhagat   \n",
              "9                     batsman get 7th ball bbl umpire dont notice   \n",
              "\n",
              "                                                                                                                                                                                                                                                                                                                                                                                    Actual Headline  \\\n",
              "0                                                                                    Facebook-owned photo-sharing app Instagram has launched a new voice chat feature on its messaging section Instagram Direct. Users can send voice messages of up to one-minute duration in private and group chats. The recorded messages do not have an expiration date and can be listened to multiple times.   \n",
              "1                 In a government-run hospital in Tamil Nadu's Chidambaram, a rat allegedly bit off the nose of a dead body, which was being kept in a damaged freezer at the mortuary. The deceased had committed suicide on Tuesday and was brought to the hospital for post-mortem. \"It was a quality issue...we've spoken to the freezer's contractors,\" hospital's Chief Medical Officer said.   \n",
              "2                                    US President Donald Trump has said that the partial government shutdown will last until the Congress approves the funds to build the wall along the border with Mexico. \"It's a barrier from people pouring into the country, from drugs,\" he added. The Trump administration has sought $5 billion from the Congress for the construction of the border wall.   \n",
              "3                                                                                                A 12-year-old girl died after a snow fort collapsed while she was playing along with another girl outside a church in Chicago, US. Their families began looking for the girls about an hour after they went outside to play. The other girl was treated for hypothermia and remains at a hospital.   \n",
              "4                                                          Former UP CM Mayawati on Thursday alleged that the BJP, after dividing people on caste lines, is now \"dividing even the deities\" for votes. Addressing a gathering, she alleged that the common man and farmers are suffering under the BJP rule. She claimed BJP is trying to destroy constitutional institutions that help the Dalits.   \n",
              "5  US President Donald Trump's company considered offering Russian President Vladimir Putin a $50 million penthouse in a planned skyscraper in Moscow, according to the Russian-born real estate developer who was broker on the project. The idea was pitched during the 2016 presidential campaign. The broker said that the idea was aimed at making the building more desirable to rich buyers.   \n",
              "6                      India's new ambassador to China Vikram Misri took charge of the post on Monday. A 1989-batch Indian Foreign Service officer, Misri replaced Gautam Bambawale, who had retired in November. Misri has previously served as the Indian envoy to Myanmar, as well as in various capacities at the headquarters of the Ministry of External Affairs and Prime Minister's Office.   \n",
              "7                             Aishwarya Rai Bachchan and Abhishek Bachchan have opted out of Anurag Kashyap's next production 'Gulab Jamun', as per reports. \"They had suggested certain changes [in the script]. While things were being worked out, the two seem to have had a change of mind,\" stated reports. Aishwarya and Abhishek were last seen together in Mani Ratnam's 'Raavan' in 2010.   \n",
              "8          Days after he was expelled from the Jammu and Kashmir BJP unit for his alleged \"anti-party and anti-Jammu activities\", Gagan Bhagat claimed he was victimised for being a Dalit and accused the state party leadership of being \"anti-Dalit\". Earlier, he was suspended over his alleged role in the abduction of an ex-serviceman's daughter. Bhagat and the woman rejected the charge.   \n",
              "9                    Perth Scorchers' opener Michael Klinger was dismissed on the 'seventh legal delivery' of the second over against Sydney Sixers in the BBL after a miscount by umpires allowed pacer Ben Dwarshuis to bowl a seven-ball over. Dwarshuis didn't bowl any no-ball or wide in the over. Cricket Australia confirmed there was no provision in the rules to overturn the dismissal.   \n",
              "\n",
              "  Predicted Headline  \n",
              "0                NaN  \n",
              "1                NaN  \n",
              "2                NaN  \n",
              "3                NaN  \n",
              "4                NaN  \n",
              "5                NaN  \n",
              "6                NaN  \n",
              "7                NaN  \n",
              "8                NaN  \n",
              "9                NaN  "
            ],
            "text/html": [
              "\n",
              "  <div id=\"df-6e42ff3e-69ba-492a-a5b3-b33ae0c5fe79\" class=\"colab-df-container\">\n",
              "    <div>\n",
              "<style scoped>\n",
              "    .dataframe tbody tr th:only-of-type {\n",
              "        vertical-align: middle;\n",
              "    }\n",
              "\n",
              "    .dataframe tbody tr th {\n",
              "        vertical-align: top;\n",
              "    }\n",
              "\n",
              "    .dataframe thead th {\n",
              "        text-align: right;\n",
              "    }\n",
              "</style>\n",
              "<table border=\"1\" class=\"dataframe\">\n",
              "  <thead>\n",
              "    <tr style=\"text-align: right;\">\n",
              "      <th></th>\n",
              "      <th>Information</th>\n",
              "      <th>Actual Headline</th>\n",
              "      <th>Predicted Headline</th>\n",
              "    </tr>\n",
              "  </thead>\n",
              "  <tbody>\n",
              "    <tr>\n",
              "      <th>0</th>\n",
              "      <td>instagram launch voice chat feature direct message</td>\n",
              "      <td>Facebook-owned photo-sharing app Instagram has launched a new voice chat feature on its messaging section Instagram Direct. Users can send voice messages of up to one-minute duration in private and group chats. The recorded messages do not have an expiration date and can be listened to multiple times.</td>\n",
              "      <td>NaN</td>\n",
              "    </tr>\n",
              "    <tr>\n",
              "      <th>1</th>\n",
              "      <td>rat bite dead man nose govt hospital tamil nadu</td>\n",
              "      <td>In a government-run hospital in Tamil Nadu's Chidambaram, a rat allegedly bit off the nose of a dead body, which was being kept in a damaged freezer at the mortuary. The deceased had committed suicide on Tuesday and was brought to the hospital for post-mortem. \"It was a quality issue...we've spoken to the freezer's contractors,\" hospital's Chief Medical Officer said.</td>\n",
              "      <td>NaN</td>\n",
              "    </tr>\n",
              "    <tr>\n",
              "      <th>2</th>\n",
              "      <td>u govt shutdown last mexico border wall funded trump</td>\n",
              "      <td>US President Donald Trump has said that the partial government shutdown will last until the Congress approves the funds to build the wall along the border with Mexico. \"It's a barrier from people pouring into the country, from drugs,\" he added. The Trump administration has sought $5 billion from the Congress for the construction of the border wall.</td>\n",
              "      <td>NaN</td>\n",
              "    </tr>\n",
              "    <tr>\n",
              "      <th>3</th>\n",
              "      <td>12yearold u girl dy snow fort collapse</td>\n",
              "      <td>A 12-year-old girl died after a snow fort collapsed while she was playing along with another girl outside a church in Chicago, US. Their families began looking for the girls about an hour after they went outside to play. The other girl was treated for hypothermia and remains at a hospital.</td>\n",
              "      <td>NaN</td>\n",
              "    </tr>\n",
              "    <tr>\n",
              "      <th>4</th>\n",
              "      <td>bjp trying divide deity caste line mayawati</td>\n",
              "      <td>Former UP CM Mayawati on Thursday alleged that the BJP, after dividing people on caste lines, is now \"dividing even the deities\" for votes. Addressing a gathering, she alleged that the common man and farmers are suffering under the BJP rule. She claimed BJP is trying to destroy constitutional institutions that help the Dalits.</td>\n",
              "      <td>NaN</td>\n",
              "    </tr>\n",
              "    <tr>\n",
              "      <th>5</th>\n",
              "      <td>trump firm considered giving putin 50 million penthouse broker</td>\n",
              "      <td>US President Donald Trump's company considered offering Russian President Vladimir Putin a $50 million penthouse in a planned skyscraper in Moscow, according to the Russian-born real estate developer who was broker on the project. The idea was pitched during the 2016 presidential campaign. The broker said that the idea was aimed at making the building more desirable to rich buyers.</td>\n",
              "      <td>NaN</td>\n",
              "    </tr>\n",
              "    <tr>\n",
              "      <th>6</th>\n",
              "      <td>vikram misri take charge india new envoy china</td>\n",
              "      <td>India's new ambassador to China Vikram Misri took charge of the post on Monday. A 1989-batch Indian Foreign Service officer, Misri replaced Gautam Bambawale, who had retired in November. Misri has previously served as the Indian envoy to Myanmar, as well as in various capacities at the headquarters of the Ministry of External Affairs and Prime Minister's Office.</td>\n",
              "      <td>NaN</td>\n",
              "    </tr>\n",
              "    <tr>\n",
              "      <th>7</th>\n",
              "      <td>aishwarya abhishek opt gulab jamun report</td>\n",
              "      <td>Aishwarya Rai Bachchan and Abhishek Bachchan have opted out of Anurag Kashyap's next production 'Gulab Jamun', as per reports. \"They had suggested certain changes [in the script]. While things were being worked out, the two seem to have had a change of mind,\" stated reports. Aishwarya and Abhishek were last seen together in Mani Ratnam's 'Raavan' in 2010.</td>\n",
              "      <td>NaN</td>\n",
              "    </tr>\n",
              "    <tr>\n",
              "      <th>8</th>\n",
              "      <td>jk bjp antidalit say expelled leader gagan bhagat</td>\n",
              "      <td>Days after he was expelled from the Jammu and Kashmir BJP unit for his alleged \"anti-party and anti-Jammu activities\", Gagan Bhagat claimed he was victimised for being a Dalit and accused the state party leadership of being \"anti-Dalit\". Earlier, he was suspended over his alleged role in the abduction of an ex-serviceman's daughter. Bhagat and the woman rejected the charge.</td>\n",
              "      <td>NaN</td>\n",
              "    </tr>\n",
              "    <tr>\n",
              "      <th>9</th>\n",
              "      <td>batsman get 7th ball bbl umpire dont notice</td>\n",
              "      <td>Perth Scorchers' opener Michael Klinger was dismissed on the 'seventh legal delivery' of the second over against Sydney Sixers in the BBL after a miscount by umpires allowed pacer Ben Dwarshuis to bowl a seven-ball over. Dwarshuis didn't bowl any no-ball or wide in the over. Cricket Australia confirmed there was no provision in the rules to overturn the dismissal.</td>\n",
              "      <td>NaN</td>\n",
              "    </tr>\n",
              "  </tbody>\n",
              "</table>\n",
              "</div>\n",
              "    <div class=\"colab-df-buttons\">\n",
              "\n",
              "  <div class=\"colab-df-container\">\n",
              "    <button class=\"colab-df-convert\" onclick=\"convertToInteractive('df-6e42ff3e-69ba-492a-a5b3-b33ae0c5fe79')\"\n",
              "            title=\"Convert this dataframe to an interactive table.\"\n",
              "            style=\"display:none;\">\n",
              "\n",
              "  <svg xmlns=\"http://www.w3.org/2000/svg\" height=\"24px\" viewBox=\"0 -960 960 960\">\n",
              "    <path d=\"M120-120v-720h720v720H120Zm60-500h600v-160H180v160Zm220 220h160v-160H400v160Zm0 220h160v-160H400v160ZM180-400h160v-160H180v160Zm440 0h160v-160H620v160ZM180-180h160v-160H180v160Zm440 0h160v-160H620v160Z\"/>\n",
              "  </svg>\n",
              "    </button>\n",
              "\n",
              "  <style>\n",
              "    .colab-df-container {\n",
              "      display:flex;\n",
              "      gap: 12px;\n",
              "    }\n",
              "\n",
              "    .colab-df-convert {\n",
              "      background-color: #E8F0FE;\n",
              "      border: none;\n",
              "      border-radius: 50%;\n",
              "      cursor: pointer;\n",
              "      display: none;\n",
              "      fill: #1967D2;\n",
              "      height: 32px;\n",
              "      padding: 0 0 0 0;\n",
              "      width: 32px;\n",
              "    }\n",
              "\n",
              "    .colab-df-convert:hover {\n",
              "      background-color: #E2EBFA;\n",
              "      box-shadow: 0px 1px 2px rgba(60, 64, 67, 0.3), 0px 1px 3px 1px rgba(60, 64, 67, 0.15);\n",
              "      fill: #174EA6;\n",
              "    }\n",
              "\n",
              "    .colab-df-buttons div {\n",
              "      margin-bottom: 4px;\n",
              "    }\n",
              "\n",
              "    [theme=dark] .colab-df-convert {\n",
              "      background-color: #3B4455;\n",
              "      fill: #D2E3FC;\n",
              "    }\n",
              "\n",
              "    [theme=dark] .colab-df-convert:hover {\n",
              "      background-color: #434B5C;\n",
              "      box-shadow: 0px 1px 3px 1px rgba(0, 0, 0, 0.15);\n",
              "      filter: drop-shadow(0px 1px 2px rgba(0, 0, 0, 0.3));\n",
              "      fill: #FFFFFF;\n",
              "    }\n",
              "  </style>\n",
              "\n",
              "    <script>\n",
              "      const buttonEl =\n",
              "        document.querySelector('#df-6e42ff3e-69ba-492a-a5b3-b33ae0c5fe79 button.colab-df-convert');\n",
              "      buttonEl.style.display =\n",
              "        google.colab.kernel.accessAllowed ? 'block' : 'none';\n",
              "\n",
              "      async function convertToInteractive(key) {\n",
              "        const element = document.querySelector('#df-6e42ff3e-69ba-492a-a5b3-b33ae0c5fe79');\n",
              "        const dataTable =\n",
              "          await google.colab.kernel.invokeFunction('convertToInteractive',\n",
              "                                                    [key], {});\n",
              "        if (!dataTable) return;\n",
              "\n",
              "        const docLinkHtml = 'Like what you see? Visit the ' +\n",
              "          '<a target=\"_blank\" href=https://colab.research.google.com/notebooks/data_table.ipynb>data table notebook</a>'\n",
              "          + ' to learn more about interactive tables.';\n",
              "        element.innerHTML = '';\n",
              "        dataTable['output_type'] = 'display_data';\n",
              "        await google.colab.output.renderOutput(dataTable, element);\n",
              "        const docLink = document.createElement('div');\n",
              "        docLink.innerHTML = docLinkHtml;\n",
              "        element.appendChild(docLink);\n",
              "      }\n",
              "    </script>\n",
              "  </div>\n",
              "\n",
              "\n",
              "<div id=\"df-06d6ea46-ab41-459a-b860-3bc82daa6849\">\n",
              "  <button class=\"colab-df-quickchart\" onclick=\"quickchart('df-06d6ea46-ab41-459a-b860-3bc82daa6849')\"\n",
              "            title=\"Suggest charts\"\n",
              "            style=\"display:none;\">\n",
              "\n",
              "<svg xmlns=\"http://www.w3.org/2000/svg\" height=\"24px\"viewBox=\"0 0 24 24\"\n",
              "     width=\"24px\">\n",
              "    <g>\n",
              "        <path d=\"M19 3H5c-1.1 0-2 .9-2 2v14c0 1.1.9 2 2 2h14c1.1 0 2-.9 2-2V5c0-1.1-.9-2-2-2zM9 17H7v-7h2v7zm4 0h-2V7h2v10zm4 0h-2v-4h2v4z\"/>\n",
              "    </g>\n",
              "</svg>\n",
              "  </button>\n",
              "\n",
              "<style>\n",
              "  .colab-df-quickchart {\n",
              "      --bg-color: #E8F0FE;\n",
              "      --fill-color: #1967D2;\n",
              "      --hover-bg-color: #E2EBFA;\n",
              "      --hover-fill-color: #174EA6;\n",
              "      --disabled-fill-color: #AAA;\n",
              "      --disabled-bg-color: #DDD;\n",
              "  }\n",
              "\n",
              "  [theme=dark] .colab-df-quickchart {\n",
              "      --bg-color: #3B4455;\n",
              "      --fill-color: #D2E3FC;\n",
              "      --hover-bg-color: #434B5C;\n",
              "      --hover-fill-color: #FFFFFF;\n",
              "      --disabled-bg-color: #3B4455;\n",
              "      --disabled-fill-color: #666;\n",
              "  }\n",
              "\n",
              "  .colab-df-quickchart {\n",
              "    background-color: var(--bg-color);\n",
              "    border: none;\n",
              "    border-radius: 50%;\n",
              "    cursor: pointer;\n",
              "    display: none;\n",
              "    fill: var(--fill-color);\n",
              "    height: 32px;\n",
              "    padding: 0;\n",
              "    width: 32px;\n",
              "  }\n",
              "\n",
              "  .colab-df-quickchart:hover {\n",
              "    background-color: var(--hover-bg-color);\n",
              "    box-shadow: 0 1px 2px rgba(60, 64, 67, 0.3), 0 1px 3px 1px rgba(60, 64, 67, 0.15);\n",
              "    fill: var(--button-hover-fill-color);\n",
              "  }\n",
              "\n",
              "  .colab-df-quickchart-complete:disabled,\n",
              "  .colab-df-quickchart-complete:disabled:hover {\n",
              "    background-color: var(--disabled-bg-color);\n",
              "    fill: var(--disabled-fill-color);\n",
              "    box-shadow: none;\n",
              "  }\n",
              "\n",
              "  .colab-df-spinner {\n",
              "    border: 2px solid var(--fill-color);\n",
              "    border-color: transparent;\n",
              "    border-bottom-color: var(--fill-color);\n",
              "    animation:\n",
              "      spin 1s steps(1) infinite;\n",
              "  }\n",
              "\n",
              "  @keyframes spin {\n",
              "    0% {\n",
              "      border-color: transparent;\n",
              "      border-bottom-color: var(--fill-color);\n",
              "      border-left-color: var(--fill-color);\n",
              "    }\n",
              "    20% {\n",
              "      border-color: transparent;\n",
              "      border-left-color: var(--fill-color);\n",
              "      border-top-color: var(--fill-color);\n",
              "    }\n",
              "    30% {\n",
              "      border-color: transparent;\n",
              "      border-left-color: var(--fill-color);\n",
              "      border-top-color: var(--fill-color);\n",
              "      border-right-color: var(--fill-color);\n",
              "    }\n",
              "    40% {\n",
              "      border-color: transparent;\n",
              "      border-right-color: var(--fill-color);\n",
              "      border-top-color: var(--fill-color);\n",
              "    }\n",
              "    60% {\n",
              "      border-color: transparent;\n",
              "      border-right-color: var(--fill-color);\n",
              "    }\n",
              "    80% {\n",
              "      border-color: transparent;\n",
              "      border-right-color: var(--fill-color);\n",
              "      border-bottom-color: var(--fill-color);\n",
              "    }\n",
              "    90% {\n",
              "      border-color: transparent;\n",
              "      border-bottom-color: var(--fill-color);\n",
              "    }\n",
              "  }\n",
              "</style>\n",
              "\n",
              "  <script>\n",
              "    async function quickchart(key) {\n",
              "      const quickchartButtonEl =\n",
              "        document.querySelector('#' + key + ' button');\n",
              "      quickchartButtonEl.disabled = true;  // To prevent multiple clicks.\n",
              "      quickchartButtonEl.classList.add('colab-df-spinner');\n",
              "      try {\n",
              "        const charts = await google.colab.kernel.invokeFunction(\n",
              "            'suggestCharts', [key], {});\n",
              "      } catch (error) {\n",
              "        console.error('Error during call to suggestCharts:', error);\n",
              "      }\n",
              "      quickchartButtonEl.classList.remove('colab-df-spinner');\n",
              "      quickchartButtonEl.classList.add('colab-df-quickchart-complete');\n",
              "    }\n",
              "    (() => {\n",
              "      let quickchartButtonEl =\n",
              "        document.querySelector('#df-06d6ea46-ab41-459a-b860-3bc82daa6849 button');\n",
              "      quickchartButtonEl.style.display =\n",
              "        google.colab.kernel.accessAllowed ? 'block' : 'none';\n",
              "    })();\n",
              "  </script>\n",
              "</div>\n",
              "    </div>\n",
              "  </div>\n"
            ]
          },
          "metadata": {}
        }
      ]
    },
    {
      "cell_type": "code",
      "source": [
        "summaries = list(y_test)\n",
        "references = []\n",
        "for summ in summaries:\n",
        "    ref = summ.split()\n",
        "    if '<START>' in ref:\n",
        "        ref.remove('<START>')\n",
        "    if '<END>' in ref:\n",
        "        ref.remove('<END>')\n",
        "    references.append(ref)\n"
      ],
      "metadata": {
        "id": "y9A6j6eKu8N0"
      },
      "execution_count": null,
      "outputs": []
    },
    {
      "cell_type": "code",
      "source": [
        "refs = []\n",
        "smooth = SmoothingFunction().method4\n",
        "for i in range(10):\n",
        "    refs.append(references[i])\n",
        "    print(refs, predicted[i])\n",
        "    print(sentence_bleu(refs, predicted[i], weights=(0.25,0.25,0.25,0.25)))#BLEU evaluation\n",
        "    refs.remove(references[i])"
      ],
      "metadata": {
        "colab": {
          "base_uri": "https://localhost:8080/",
          "height": 262
        },
        "id": "hI5CH1ascO-6",
        "outputId": "07671151-6e0f-408a-a86d-f4adebcac5ba"
      },
      "execution_count": null,
      "outputs": [
        {
          "output_type": "error",
          "ename": "IndexError",
          "evalue": "ignored",
          "traceback": [
            "\u001b[0;31m---------------------------------------------------------------------------\u001b[0m",
            "\u001b[0;31mIndexError\u001b[0m                                Traceback (most recent call last)",
            "\u001b[0;32m<ipython-input-73-e673a3225540>\u001b[0m in \u001b[0;36m<cell line: 3>\u001b[0;34m()\u001b[0m\n\u001b[1;32m      3\u001b[0m \u001b[0;32mfor\u001b[0m \u001b[0mi\u001b[0m \u001b[0;32min\u001b[0m \u001b[0mrange\u001b[0m\u001b[0;34m(\u001b[0m\u001b[0;36m10\u001b[0m\u001b[0;34m)\u001b[0m\u001b[0;34m:\u001b[0m\u001b[0;34m\u001b[0m\u001b[0;34m\u001b[0m\u001b[0m\n\u001b[1;32m      4\u001b[0m     \u001b[0mrefs\u001b[0m\u001b[0;34m.\u001b[0m\u001b[0mappend\u001b[0m\u001b[0;34m(\u001b[0m\u001b[0mreferences\u001b[0m\u001b[0;34m[\u001b[0m\u001b[0mi\u001b[0m\u001b[0;34m]\u001b[0m\u001b[0;34m)\u001b[0m\u001b[0;34m\u001b[0m\u001b[0;34m\u001b[0m\u001b[0m\n\u001b[0;32m----> 5\u001b[0;31m     \u001b[0mprint\u001b[0m\u001b[0;34m(\u001b[0m\u001b[0mrefs\u001b[0m\u001b[0;34m,\u001b[0m \u001b[0mpredicted\u001b[0m\u001b[0;34m[\u001b[0m\u001b[0mi\u001b[0m\u001b[0;34m]\u001b[0m\u001b[0;34m)\u001b[0m\u001b[0;34m\u001b[0m\u001b[0;34m\u001b[0m\u001b[0m\n\u001b[0m\u001b[1;32m      6\u001b[0m     \u001b[0mprint\u001b[0m\u001b[0;34m(\u001b[0m\u001b[0msentence_bleu\u001b[0m\u001b[0;34m(\u001b[0m\u001b[0mrefs\u001b[0m\u001b[0;34m,\u001b[0m \u001b[0mpredicted\u001b[0m\u001b[0;34m[\u001b[0m\u001b[0mi\u001b[0m\u001b[0;34m]\u001b[0m\u001b[0;34m,\u001b[0m \u001b[0mweights\u001b[0m\u001b[0;34m=\u001b[0m\u001b[0;34m(\u001b[0m\u001b[0;36m0.25\u001b[0m\u001b[0;34m,\u001b[0m\u001b[0;36m0.25\u001b[0m\u001b[0;34m,\u001b[0m\u001b[0;36m0.25\u001b[0m\u001b[0;34m,\u001b[0m\u001b[0;36m0.25\u001b[0m\u001b[0;34m)\u001b[0m\u001b[0;34m)\u001b[0m\u001b[0;34m)\u001b[0m\u001b[0;31m#BLEU evaluation\u001b[0m\u001b[0;34m\u001b[0m\u001b[0;34m\u001b[0m\u001b[0m\n\u001b[1;32m      7\u001b[0m     \u001b[0mrefs\u001b[0m\u001b[0;34m.\u001b[0m\u001b[0mremove\u001b[0m\u001b[0;34m(\u001b[0m\u001b[0mreferences\u001b[0m\u001b[0;34m[\u001b[0m\u001b[0mi\u001b[0m\u001b[0;34m]\u001b[0m\u001b[0;34m)\u001b[0m\u001b[0;34m\u001b[0m\u001b[0;34m\u001b[0m\u001b[0m\n",
            "\u001b[0;31mIndexError\u001b[0m: list index out of range"
          ]
        }
      ]
    },
    {
      "cell_type": "code",
      "source": [
        "for i in range(len(predicted)):\n",
        "    refs.append(references[i])\n",
        "    print(refs, predicted[i])\n",
        "    print(sentence_bleu(refs, predicted[i], weights=(0.25, 0.25, 0.25, 0.25)))  # BLEU evaluation\n",
        "    refs.remove(references[i])\n"
      ],
      "metadata": {
        "id": "i--XfCOTvGf4"
      },
      "execution_count": null,
      "outputs": []
    },
    {
      "cell_type": "code",
      "source": [
        "pd.set_option('display.max_colwidth', None)\n",
        "df = pd.DataFrame(columns=['Actual Headline','Predicted Headline', 'BLEU Score'])\n",
        "refs = []\n",
        "smooth = SmoothingFunction().method4\n",
        "for i in range(10):\n",
        "    refs.append(references[i])\n",
        "    predicted_headline = predicted[i]\n",
        "    bleu_score = sentence_bleu(refs, predicted_headline, weights=(0.25,0.25,0.25,0.25))\n",
        "\n",
        "    row = {'Actual Headline':refs,'Predicted Headline': predicted[i], 'BLEU Score': sentence_bleu(refs, predicted[i], weights=(0.25,0.25,0.25,0.25))}\n",
        "    df = df.append(row, ignore_index=True)\n",
        "\n",
        "    refs = []  # reset refs to an empty list for the next iteration\n",
        "\n",
        "display(df.sort_values(by='BLEU Score', ascending=False))\n"
      ],
      "metadata": {
        "colab": {
          "base_uri": "https://localhost:8080/",
          "height": 262
        },
        "id": "g8XWyd3xcVXQ",
        "outputId": "c14de447-52f1-4aee-9b98-4279ac33e6ab"
      },
      "execution_count": null,
      "outputs": [
        {
          "output_type": "error",
          "ename": "IndexError",
          "evalue": "ignored",
          "traceback": [
            "\u001b[0;31m---------------------------------------------------------------------------\u001b[0m",
            "\u001b[0;31mIndexError\u001b[0m                                Traceback (most recent call last)",
            "\u001b[0;32m<ipython-input-75-f6d6e59340c0>\u001b[0m in \u001b[0;36m<cell line: 5>\u001b[0;34m()\u001b[0m\n\u001b[1;32m      5\u001b[0m \u001b[0;32mfor\u001b[0m \u001b[0mi\u001b[0m \u001b[0;32min\u001b[0m \u001b[0mrange\u001b[0m\u001b[0;34m(\u001b[0m\u001b[0;36m10\u001b[0m\u001b[0;34m)\u001b[0m\u001b[0;34m:\u001b[0m\u001b[0;34m\u001b[0m\u001b[0;34m\u001b[0m\u001b[0m\n\u001b[1;32m      6\u001b[0m     \u001b[0mrefs\u001b[0m\u001b[0;34m.\u001b[0m\u001b[0mappend\u001b[0m\u001b[0;34m(\u001b[0m\u001b[0mreferences\u001b[0m\u001b[0;34m[\u001b[0m\u001b[0mi\u001b[0m\u001b[0;34m]\u001b[0m\u001b[0;34m)\u001b[0m\u001b[0;34m\u001b[0m\u001b[0;34m\u001b[0m\u001b[0m\n\u001b[0;32m----> 7\u001b[0;31m     \u001b[0mpredicted_headline\u001b[0m \u001b[0;34m=\u001b[0m \u001b[0mpredicted\u001b[0m\u001b[0;34m[\u001b[0m\u001b[0mi\u001b[0m\u001b[0;34m]\u001b[0m\u001b[0;34m\u001b[0m\u001b[0;34m\u001b[0m\u001b[0m\n\u001b[0m\u001b[1;32m      8\u001b[0m     \u001b[0mbleu_score\u001b[0m \u001b[0;34m=\u001b[0m \u001b[0msentence_bleu\u001b[0m\u001b[0;34m(\u001b[0m\u001b[0mrefs\u001b[0m\u001b[0;34m,\u001b[0m \u001b[0mpredicted_headline\u001b[0m\u001b[0;34m,\u001b[0m \u001b[0mweights\u001b[0m\u001b[0;34m=\u001b[0m\u001b[0;34m(\u001b[0m\u001b[0;36m0.25\u001b[0m\u001b[0;34m,\u001b[0m\u001b[0;36m0.25\u001b[0m\u001b[0;34m,\u001b[0m\u001b[0;36m0.25\u001b[0m\u001b[0;34m,\u001b[0m\u001b[0;36m0.25\u001b[0m\u001b[0;34m)\u001b[0m\u001b[0;34m)\u001b[0m\u001b[0;34m\u001b[0m\u001b[0;34m\u001b[0m\u001b[0m\n\u001b[1;32m      9\u001b[0m \u001b[0;34m\u001b[0m\u001b[0m\n",
            "\u001b[0;31mIndexError\u001b[0m: list index out of range"
          ]
        }
      ]
    },
    {
      "cell_type": "code",
      "source": [
        "pd.set_option('display.max_colwidth', None)\n",
        "df = pd.DataFrame(columns=['Actual Headline','Predicted Headline', 'BLEU Score'])\n",
        "refs = []\n",
        "smooth = SmoothingFunction().method4\n",
        "\n",
        "min_length = min(len(predicted), len(references))\n",
        "for i in range(min_length):\n",
        "    refs.append(references[i])\n",
        "    predicted_headline = predicted[i]\n",
        "    bleu_score = sentence_bleu(refs, predicted_headline, weights=(0.25, 0.25, 0.25, 0.25))\n",
        "\n",
        "    row = {'Actual Headline': refs, 'Predicted Headline': predicted[i], 'BLEU Score': bleu_score}\n",
        "    df = df.append(row, ignore_index=True)\n",
        "\n",
        "    refs = []  # reset refs to an empty list for the next iteration\n",
        "\n",
        "display(df.sort_values(by='BLEU Score', ascending=False))\n"
      ],
      "metadata": {
        "colab": {
          "base_uri": "https://localhost:8080/",
          "height": 53
        },
        "id": "p5CemlsOvaB2",
        "outputId": "92334d1a-3282-44c4-d7a7-280adbf03dec"
      },
      "execution_count": null,
      "outputs": [
        {
          "output_type": "display_data",
          "data": {
            "text/plain": [
              "Empty DataFrame\n",
              "Columns: [Actual Headline, Predicted Headline, BLEU Score]\n",
              "Index: []"
            ],
            "text/html": [
              "\n",
              "  <div id=\"df-4935f86a-94e0-4b4a-85fa-9a4dd462e26a\" class=\"colab-df-container\">\n",
              "    <div>\n",
              "<style scoped>\n",
              "    .dataframe tbody tr th:only-of-type {\n",
              "        vertical-align: middle;\n",
              "    }\n",
              "\n",
              "    .dataframe tbody tr th {\n",
              "        vertical-align: top;\n",
              "    }\n",
              "\n",
              "    .dataframe thead th {\n",
              "        text-align: right;\n",
              "    }\n",
              "</style>\n",
              "<table border=\"1\" class=\"dataframe\">\n",
              "  <thead>\n",
              "    <tr style=\"text-align: right;\">\n",
              "      <th></th>\n",
              "      <th>Actual Headline</th>\n",
              "      <th>Predicted Headline</th>\n",
              "      <th>BLEU Score</th>\n",
              "    </tr>\n",
              "  </thead>\n",
              "  <tbody>\n",
              "  </tbody>\n",
              "</table>\n",
              "</div>\n",
              "    <div class=\"colab-df-buttons\">\n",
              "\n",
              "  <div class=\"colab-df-container\">\n",
              "    <button class=\"colab-df-convert\" onclick=\"convertToInteractive('df-4935f86a-94e0-4b4a-85fa-9a4dd462e26a')\"\n",
              "            title=\"Convert this dataframe to an interactive table.\"\n",
              "            style=\"display:none;\">\n",
              "\n",
              "  <svg xmlns=\"http://www.w3.org/2000/svg\" height=\"24px\" viewBox=\"0 -960 960 960\">\n",
              "    <path d=\"M120-120v-720h720v720H120Zm60-500h600v-160H180v160Zm220 220h160v-160H400v160Zm0 220h160v-160H400v160ZM180-400h160v-160H180v160Zm440 0h160v-160H620v160ZM180-180h160v-160H180v160Zm440 0h160v-160H620v160Z\"/>\n",
              "  </svg>\n",
              "    </button>\n",
              "\n",
              "  <style>\n",
              "    .colab-df-container {\n",
              "      display:flex;\n",
              "      gap: 12px;\n",
              "    }\n",
              "\n",
              "    .colab-df-convert {\n",
              "      background-color: #E8F0FE;\n",
              "      border: none;\n",
              "      border-radius: 50%;\n",
              "      cursor: pointer;\n",
              "      display: none;\n",
              "      fill: #1967D2;\n",
              "      height: 32px;\n",
              "      padding: 0 0 0 0;\n",
              "      width: 32px;\n",
              "    }\n",
              "\n",
              "    .colab-df-convert:hover {\n",
              "      background-color: #E2EBFA;\n",
              "      box-shadow: 0px 1px 2px rgba(60, 64, 67, 0.3), 0px 1px 3px 1px rgba(60, 64, 67, 0.15);\n",
              "      fill: #174EA6;\n",
              "    }\n",
              "\n",
              "    .colab-df-buttons div {\n",
              "      margin-bottom: 4px;\n",
              "    }\n",
              "\n",
              "    [theme=dark] .colab-df-convert {\n",
              "      background-color: #3B4455;\n",
              "      fill: #D2E3FC;\n",
              "    }\n",
              "\n",
              "    [theme=dark] .colab-df-convert:hover {\n",
              "      background-color: #434B5C;\n",
              "      box-shadow: 0px 1px 3px 1px rgba(0, 0, 0, 0.15);\n",
              "      filter: drop-shadow(0px 1px 2px rgba(0, 0, 0, 0.3));\n",
              "      fill: #FFFFFF;\n",
              "    }\n",
              "  </style>\n",
              "\n",
              "    <script>\n",
              "      const buttonEl =\n",
              "        document.querySelector('#df-4935f86a-94e0-4b4a-85fa-9a4dd462e26a button.colab-df-convert');\n",
              "      buttonEl.style.display =\n",
              "        google.colab.kernel.accessAllowed ? 'block' : 'none';\n",
              "\n",
              "      async function convertToInteractive(key) {\n",
              "        const element = document.querySelector('#df-4935f86a-94e0-4b4a-85fa-9a4dd462e26a');\n",
              "        const dataTable =\n",
              "          await google.colab.kernel.invokeFunction('convertToInteractive',\n",
              "                                                    [key], {});\n",
              "        if (!dataTable) return;\n",
              "\n",
              "        const docLinkHtml = 'Like what you see? Visit the ' +\n",
              "          '<a target=\"_blank\" href=https://colab.research.google.com/notebooks/data_table.ipynb>data table notebook</a>'\n",
              "          + ' to learn more about interactive tables.';\n",
              "        element.innerHTML = '';\n",
              "        dataTable['output_type'] = 'display_data';\n",
              "        await google.colab.output.renderOutput(dataTable, element);\n",
              "        const docLink = document.createElement('div');\n",
              "        docLink.innerHTML = docLinkHtml;\n",
              "        element.appendChild(docLink);\n",
              "      }\n",
              "    </script>\n",
              "  </div>\n",
              "\n",
              "    </div>\n",
              "  </div>\n"
            ]
          },
          "metadata": {}
        }
      ]
    },
    {
      "cell_type": "code",
      "source": [],
      "metadata": {
        "id": "1FAUivPncdqj"
      },
      "execution_count": null,
      "outputs": []
    }
  ]
}