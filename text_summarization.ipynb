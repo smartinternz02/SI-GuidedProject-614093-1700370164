{
  "nbformat": 4,
  "nbformat_minor": 0,
  "metadata": {
    "colab": {
      "provenance": [],
      "authorship_tag": "ABX9TyOwvxyGj3wUtAb8/SFP/utP",
      "include_colab_link": true
    },
    "kernelspec": {
      "name": "python3",
      "display_name": "Python 3"
    },
    "language_info": {
      "name": "python"
    }
  },
  "cells": [
    {
      "cell_type": "markdown",
      "metadata": {
        "id": "view-in-github",
        "colab_type": "text"
      },
      "source": [
        "<a href=\"https://colab.research.google.com/github/smartinternz02/SI-GuidedProject-614093-1700370164/blob/main/text_summarization.ipynb\" target=\"_parent\"><img src=\"https://colab.research.google.com/assets/colab-badge.svg\" alt=\"Open In Colab\"/></a>"
      ]
    },
    {
      "cell_type": "code",
      "source": [
        "import spacy\n",
        "from spacy.lang.en.stop_words import STOP_WORDS\n",
        "from string import punctuation\n",
        "import numpy as np"
      ],
      "metadata": {
        "id": "HMNaGP8zmipD"
      },
      "execution_count": null,
      "outputs": []
    },
    {
      "cell_type": "code",
      "execution_count": null,
      "metadata": {
        "id": "qOVXBjHfmHmE"
      },
      "outputs": [],
      "source": [
        "text = \"\"\"In the realm of technological innovation, few developments have captivated our imagination and reshaped the landscape of possibilities quite like artificial intelligence (AI). It represents the culmination of decades of research, where the fusion of advanced algorithms, computational power, and vast datasets has birthed a new era of intelligence augmentation.\n",
        "\n",
        "AI's evolution has been staggering, transitioning from theoretical concepts to tangible applications across diverse domains. Its impact reverberates through industries, enhancing efficiency, automating tasks, and revolutionizing the way we approach complex problems. From personalized recommendation systems in entertainment and e-commerce to predictive analytics powering healthcare diagnostics, AI's versatility knows no bounds.\n",
        "\n",
        "Yet, the true marvel lies not just in its practical utility but in the potential it holds. The quest to develop sentient machines capable of learning, reasoning, and even expressing creativity continues to drive AI research forward. Ethical considerations and questions of governance surround its development, demanding thoughtful discourse and responsible implementation to ensure AI serves humanity's best interests.\n",
        "\n",
        "However, AI's ascent isn't devoid of challenges. Concerns about job displacement, data privacy, algorithmic bias, and the ethical implications of AI decision-making loom large. Striking a balance between innovation and ethical responsibility remains a pressing issue as AI continues to permeate every facet of our lives.\n",
        "\n",
        "Nonetheless, the strides made in AI are undeniably remarkable. Deep learning models have unlocked unprecedented capabilities, allowing machines to comprehend language, recognize patterns, and surpass human performance in specific tasks. The fusion of AI with other transformative technologies like robotics, quantum computing, and biotechnology holds the promise of even more profound breakthroughs.\n",
        "\n",
        "As we navigate this AI-driven future, collaboration between technologists, policymakers, ethicists, and society at large becomes crucial. Fostering an environment that encourages innovation while upholding ethical standards and ensuring inclusivity remains pivotal. The road ahead with AI is undoubtedly thrilling, offering boundless prospects for progress, but it necessitates a conscientious approach to harness its potential for the greater good.\"\"\""
      ]
    },
    {
      "cell_type": "code",
      "source": [
        "print(text)"
      ],
      "metadata": {
        "colab": {
          "base_uri": "https://localhost:8080/"
        },
        "id": "LxzJ3w4Cm7yS",
        "outputId": "bce47acb-6291-4322-af33-9385ede09151"
      },
      "execution_count": null,
      "outputs": [
        {
          "output_type": "stream",
          "name": "stdout",
          "text": [
            "In the realm of technological innovation, few developments have captivated our imagination and reshaped the landscape of possibilities quite like artificial intelligence (AI). It represents the culmination of decades of research, where the fusion of advanced algorithms, computational power, and vast datasets has birthed a new era of intelligence augmentation.\n",
            "\n",
            "AI's evolution has been staggering, transitioning from theoretical concepts to tangible applications across diverse domains. Its impact reverberates through industries, enhancing efficiency, automating tasks, and revolutionizing the way we approach complex problems. From personalized recommendation systems in entertainment and e-commerce to predictive analytics powering healthcare diagnostics, AI's versatility knows no bounds.\n",
            "\n",
            "Yet, the true marvel lies not just in its practical utility but in the potential it holds. The quest to develop sentient machines capable of learning, reasoning, and even expressing creativity continues to drive AI research forward. Ethical considerations and questions of governance surround its development, demanding thoughtful discourse and responsible implementation to ensure AI serves humanity's best interests.\n",
            "\n",
            "However, AI's ascent isn't devoid of challenges. Concerns about job displacement, data privacy, algorithmic bias, and the ethical implications of AI decision-making loom large. Striking a balance between innovation and ethical responsibility remains a pressing issue as AI continues to permeate every facet of our lives.\n",
            "\n",
            "Nonetheless, the strides made in AI are undeniably remarkable. Deep learning models have unlocked unprecedented capabilities, allowing machines to comprehend language, recognize patterns, and surpass human performance in specific tasks. The fusion of AI with other transformative technologies like robotics, quantum computing, and biotechnology holds the promise of even more profound breakthroughs.\n",
            "\n",
            "As we navigate this AI-driven future, collaboration between technologists, policymakers, ethicists, and society at large becomes crucial. Fostering an environment that encourages innovation while upholding ethical standards and ensuring inclusivity remains pivotal. The road ahead with AI is undoubtedly thrilling, offering boundless prospects for progress, but it necessitates a conscientious approach to harness its potential for the greater good.\n"
          ]
        }
      ]
    },
    {
      "cell_type": "code",
      "source": [
        "stopWords = list(STOP_WORDS)\n",
        "print(stopWords)"
      ],
      "metadata": {
        "colab": {
          "base_uri": "https://localhost:8080/"
        },
        "id": "SDKjIPC1m-db",
        "outputId": "1a83f33d-68c6-40a3-ed1e-02bd4afd5521"
      },
      "execution_count": null,
      "outputs": [
        {
          "output_type": "stream",
          "name": "stdout",
          "text": [
            "['seem', 'keep', 'under', 'me', 'all', 'mine', 'still', 'put', 'since', 'had', 'or', 'we', 'whole', 'nine', 're', 'same', 'hereafter', 'their', 'out', 'did', 'quite', 'top', \"'ll\", 'go', 'whatever', '’m', 'ours', 'formerly', 'a', 'several', 'everything', 'between', 'sometime', 'eight', 'least', '’d', 'almost', 'then', 'thereby', 'two', 'ten', '’re', 'would', 'she', 'the', 'most', 'myself', 'also', 'which', 'over', 'could', 'name', 'take', 'alone', 'anywhere', 'once', 'whereby', 'neither', 'therefore', 'n‘t', 'call', 'yet', 'elsewhere', 'four', 'last', '‘d', 'rather', 'what', 'whom', 'others', '‘ve', 'except', 'really', 'per', 'six', 'another', 'across', 'below', 'while', 'together', 'make', 'everyone', 'amongst', 'latterly', 'afterwards', 'ever', 'there', 'indeed', 'along', 'hundred', 'been', 'on', 'both', 'become', 'hence', 'my', 'becomes', 'may', 'among', 'anyone', 'five', 'first', 'latter', 'cannot', 'during', 'wherever', 'only', 'less', 'full', 'do', 'somehow', 'by', 'always', 'himself', 'thereafter', 'down', 'thereupon', 'be', 'part', 'whereas', 'none', 'seems', 'already', 'nor', 'can', 'too', 'using', 'onto', \"'s\", 'however', 'his', 'are', 'was', 'bottom', 'were', 'sixty', 'whereafter', 'and', 'to', '’s', 'side', 'of', 'back', 'see', '’ll', 'more', 'towards', 'because', 'he', 'seeming', 'us', 'mostly', 'is', 'fifty', 'against', 'not', 'otherwise', '‘m', 'whence', 'those', 'anyway', 'in', 'herself', 'why', 'will', 'empty', 'further', 'without', 'eleven', 'at', \"'d\", 'each', 'our', 'does', 'for', 'anyhow', 'move', \"n't\", 'sometimes', 'front', 'often', 'whereupon', 'if', 'forty', 'doing', 'has', 'before', 'it', 'behind', 'am', 'please', 'above', 'from', 'whenever', 'within', 'its', 'him', 'an', 'get', 'used', 'much', 'beyond', 'becoming', 'whose', 'say', 'nobody', 'you', 'meanwhile', '‘re', 'various', 'every', 'somewhere', 'when', 'namely', 'beforehand', 'enough', 'them', 'though', 'herein', 'many', 'own', 'some', 'so', 'whether', 'such', 'done', 'about', 'toward', 'wherein', 'again', 'here', 'anything', 'but', 'third', 'that', '‘s', \"'re\", 'i', \"'m\", 'former', 'became', 'ourselves', 'any', 'something', 'twelve', 'therein', 'via', 'nevertheless', 'either', 'into', 'well', 'beside', 'through', 'moreover', 'hereupon', 'everywhere', 'nothing', 'very', 'thus', 'few', 'thence', 'made', 'off', 'twenty', 'yourselves', 'should', 'with', \"'ve\", 'fifteen', 'hers', 'thru', 'than', 'these', 'next', 'now', 'amount', 'due', 'yourself', 'throughout', 'have', 'whither', 'never', 'hereby', 'noone', 'being', 'themselves', 'who', 'three', 'must', 'around', 'as', 'one', 'seemed', 'after', 'even', 'might', 'this', 'regarding', 'where', 'upon', 'unless', 'perhaps', 'until', 'other', 'nowhere', '’ve', 'besides', 'just', 'someone', 'your', 'n’t', 'yours', 'although', 'her', 'how', 'ca', '‘ll', 'show', 'itself', 'they', 'up', 'serious', 'give', 'else', 'no', 'whoever']\n"
          ]
        }
      ]
    },
    {
      "cell_type": "code",
      "source": [
        "nlp = spacy.load('en_core_web_sm')"
      ],
      "metadata": {
        "id": "p0Z20Zq-nN59"
      },
      "execution_count": null,
      "outputs": []
    },
    {
      "cell_type": "code",
      "source": [
        "docs = nlp(text)\n",
        "print(text)"
      ],
      "metadata": {
        "colab": {
          "base_uri": "https://localhost:8080/"
        },
        "id": "4BXiHXyPnDaj",
        "outputId": "5ab7b6c7-2255-4d84-ee89-c7e3538ce1e7"
      },
      "execution_count": null,
      "outputs": [
        {
          "output_type": "stream",
          "name": "stdout",
          "text": [
            "In the realm of technological innovation, few developments have captivated our imagination and reshaped the landscape of possibilities quite like artificial intelligence (AI). It represents the culmination of decades of research, where the fusion of advanced algorithms, computational power, and vast datasets has birthed a new era of intelligence augmentation.\n",
            "\n",
            "AI's evolution has been staggering, transitioning from theoretical concepts to tangible applications across diverse domains. Its impact reverberates through industries, enhancing efficiency, automating tasks, and revolutionizing the way we approach complex problems. From personalized recommendation systems in entertainment and e-commerce to predictive analytics powering healthcare diagnostics, AI's versatility knows no bounds.\n",
            "\n",
            "Yet, the true marvel lies not just in its practical utility but in the potential it holds. The quest to develop sentient machines capable of learning, reasoning, and even expressing creativity continues to drive AI research forward. Ethical considerations and questions of governance surround its development, demanding thoughtful discourse and responsible implementation to ensure AI serves humanity's best interests.\n",
            "\n",
            "However, AI's ascent isn't devoid of challenges. Concerns about job displacement, data privacy, algorithmic bias, and the ethical implications of AI decision-making loom large. Striking a balance between innovation and ethical responsibility remains a pressing issue as AI continues to permeate every facet of our lives.\n",
            "\n",
            "Nonetheless, the strides made in AI are undeniably remarkable. Deep learning models have unlocked unprecedented capabilities, allowing machines to comprehend language, recognize patterns, and surpass human performance in specific tasks. The fusion of AI with other transformative technologies like robotics, quantum computing, and biotechnology holds the promise of even more profound breakthroughs.\n",
            "\n",
            "As we navigate this AI-driven future, collaboration between technologists, policymakers, ethicists, and society at large becomes crucial. Fostering an environment that encourages innovation while upholding ethical standards and ensuring inclusivity remains pivotal. The road ahead with AI is undoubtedly thrilling, offering boundless prospects for progress, but it necessitates a conscientious approach to harness its potential for the greater good.\n"
          ]
        }
      ]
    },
    {
      "cell_type": "code",
      "source": [
        "tokens = [i.text for i in docs]\n",
        "print(tokens)"
      ],
      "metadata": {
        "colab": {
          "base_uri": "https://localhost:8080/"
        },
        "id": "nh5plglIno3-",
        "outputId": "9471f481-97e3-4a7a-ea47-d1dc4ea7bdc8"
      },
      "execution_count": null,
      "outputs": [
        {
          "output_type": "stream",
          "name": "stdout",
          "text": [
            "['In', 'the', 'realm', 'of', 'technological', 'innovation', ',', 'few', 'developments', 'have', 'captivated', 'our', 'imagination', 'and', 'reshaped', 'the', 'landscape', 'of', 'possibilities', 'quite', 'like', 'artificial', 'intelligence', '(', 'AI', ')', '.', 'It', 'represents', 'the', 'culmination', 'of', 'decades', 'of', 'research', ',', 'where', 'the', 'fusion', 'of', 'advanced', 'algorithms', ',', 'computational', 'power', ',', 'and', 'vast', 'datasets', 'has', 'birthed', 'a', 'new', 'era', 'of', 'intelligence', 'augmentation', '.', '\\n\\n', 'AI', \"'s\", 'evolution', 'has', 'been', 'staggering', ',', 'transitioning', 'from', 'theoretical', 'concepts', 'to', 'tangible', 'applications', 'across', 'diverse', 'domains', '.', 'Its', 'impact', 'reverberates', 'through', 'industries', ',', 'enhancing', 'efficiency', ',', 'automating', 'tasks', ',', 'and', 'revolutionizing', 'the', 'way', 'we', 'approach', 'complex', 'problems', '.', 'From', 'personalized', 'recommendation', 'systems', 'in', 'entertainment', 'and', 'e', '-', 'commerce', 'to', 'predictive', 'analytics', 'powering', 'healthcare', 'diagnostics', ',', 'AI', \"'s\", 'versatility', 'knows', 'no', 'bounds', '.', '\\n\\n', 'Yet', ',', 'the', 'true', 'marvel', 'lies', 'not', 'just', 'in', 'its', 'practical', 'utility', 'but', 'in', 'the', 'potential', 'it', 'holds', '.', 'The', 'quest', 'to', 'develop', 'sentient', 'machines', 'capable', 'of', 'learning', ',', 'reasoning', ',', 'and', 'even', 'expressing', 'creativity', 'continues', 'to', 'drive', 'AI', 'research', 'forward', '.', 'Ethical', 'considerations', 'and', 'questions', 'of', 'governance', 'surround', 'its', 'development', ',', 'demanding', 'thoughtful', 'discourse', 'and', 'responsible', 'implementation', 'to', 'ensure', 'AI', 'serves', 'humanity', \"'s\", 'best', 'interests', '.', '\\n\\n', 'However', ',', 'AI', \"'s\", 'ascent', 'is', \"n't\", 'devoid', 'of', 'challenges', '.', 'Concerns', 'about', 'job', 'displacement', ',', 'data', 'privacy', ',', 'algorithmic', 'bias', ',', 'and', 'the', 'ethical', 'implications', 'of', 'AI', 'decision', '-', 'making', 'loom', 'large', '.', 'Striking', 'a', 'balance', 'between', 'innovation', 'and', 'ethical', 'responsibility', 'remains', 'a', 'pressing', 'issue', 'as', 'AI', 'continues', 'to', 'permeate', 'every', 'facet', 'of', 'our', 'lives', '.', '\\n\\n', 'Nonetheless', ',', 'the', 'strides', 'made', 'in', 'AI', 'are', 'undeniably', 'remarkable', '.', 'Deep', 'learning', 'models', 'have', 'unlocked', 'unprecedented', 'capabilities', ',', 'allowing', 'machines', 'to', 'comprehend', 'language', ',', 'recognize', 'patterns', ',', 'and', 'surpass', 'human', 'performance', 'in', 'specific', 'tasks', '.', 'The', 'fusion', 'of', 'AI', 'with', 'other', 'transformative', 'technologies', 'like', 'robotics', ',', 'quantum', 'computing', ',', 'and', 'biotechnology', 'holds', 'the', 'promise', 'of', 'even', 'more', 'profound', 'breakthroughs', '.', '\\n\\n', 'As', 'we', 'navigate', 'this', 'AI', '-', 'driven', 'future', ',', 'collaboration', 'between', 'technologists', ',', 'policymakers', ',', 'ethicists', ',', 'and', 'society', 'at', 'large', 'becomes', 'crucial', '.', 'Fostering', 'an', 'environment', 'that', 'encourages', 'innovation', 'while', 'upholding', 'ethical', 'standards', 'and', 'ensuring', 'inclusivity', 'remains', 'pivotal', '.', 'The', 'road', 'ahead', 'with', 'AI', 'is', 'undoubtedly', 'thrilling', ',', 'offering', 'boundless', 'prospects', 'for', 'progress', ',', 'but', 'it', 'necessitates', 'a', 'conscientious', 'approach', 'to', 'harness', 'its', 'potential', 'for', 'the', 'greater', 'good', '.']\n"
          ]
        }
      ]
    },
    {
      "cell_type": "code",
      "source": [
        "word_frequencies = {}\n",
        "\n",
        "for word in docs:\n",
        "  if word.text.lower() not in stopWords:\n",
        "    if word.text.lower() not in punctuation:\n",
        "      if word.text not in word_frequencies.keys():\n",
        "        word_frequencies[word.text] = 1\n",
        "      else:\n",
        "        word_frequencies[word.text] +=1\n",
        "print(word_frequencies)"
      ],
      "metadata": {
        "colab": {
          "base_uri": "https://localhost:8080/"
        },
        "id": "7ve8pnRWnx00",
        "outputId": "0d2cfc45-14fe-41ae-e24d-c99f76daf2f6"
      },
      "execution_count": null,
      "outputs": [
        {
          "output_type": "stream",
          "name": "stdout",
          "text": [
            "{'realm': 1, 'technological': 1, 'innovation': 3, 'developments': 1, 'captivated': 1, 'imagination': 1, 'reshaped': 1, 'landscape': 1, 'possibilities': 1, 'like': 2, 'artificial': 1, 'intelligence': 2, 'AI': 12, 'represents': 1, 'culmination': 1, 'decades': 1, 'research': 2, 'fusion': 2, 'advanced': 1, 'algorithms': 1, 'computational': 1, 'power': 1, 'vast': 1, 'datasets': 1, 'birthed': 1, 'new': 1, 'era': 1, 'augmentation': 1, '\\n\\n': 5, 'evolution': 1, 'staggering': 1, 'transitioning': 1, 'theoretical': 1, 'concepts': 1, 'tangible': 1, 'applications': 1, 'diverse': 1, 'domains': 1, 'impact': 1, 'reverberates': 1, 'industries': 1, 'enhancing': 1, 'efficiency': 1, 'automating': 1, 'tasks': 2, 'revolutionizing': 1, 'way': 1, 'approach': 2, 'complex': 1, 'problems': 1, 'personalized': 1, 'recommendation': 1, 'systems': 1, 'entertainment': 1, 'e': 1, 'commerce': 1, 'predictive': 1, 'analytics': 1, 'powering': 1, 'healthcare': 1, 'diagnostics': 1, 'versatility': 1, 'knows': 1, 'bounds': 1, 'true': 1, 'marvel': 1, 'lies': 1, 'practical': 1, 'utility': 1, 'potential': 2, 'holds': 2, 'quest': 1, 'develop': 1, 'sentient': 1, 'machines': 2, 'capable': 1, 'learning': 2, 'reasoning': 1, 'expressing': 1, 'creativity': 1, 'continues': 2, 'drive': 1, 'forward': 1, 'Ethical': 1, 'considerations': 1, 'questions': 1, 'governance': 1, 'surround': 1, 'development': 1, 'demanding': 1, 'thoughtful': 1, 'discourse': 1, 'responsible': 1, 'implementation': 1, 'ensure': 1, 'serves': 1, 'humanity': 1, 'best': 1, 'interests': 1, 'ascent': 1, 'devoid': 1, 'challenges': 1, 'Concerns': 1, 'job': 1, 'displacement': 1, 'data': 1, 'privacy': 1, 'algorithmic': 1, 'bias': 1, 'ethical': 3, 'implications': 1, 'decision': 1, 'making': 1, 'loom': 1, 'large': 2, 'Striking': 1, 'balance': 1, 'responsibility': 1, 'remains': 2, 'pressing': 1, 'issue': 1, 'permeate': 1, 'facet': 1, 'lives': 1, 'Nonetheless': 1, 'strides': 1, 'undeniably': 1, 'remarkable': 1, 'Deep': 1, 'models': 1, 'unlocked': 1, 'unprecedented': 1, 'capabilities': 1, 'allowing': 1, 'comprehend': 1, 'language': 1, 'recognize': 1, 'patterns': 1, 'surpass': 1, 'human': 1, 'performance': 1, 'specific': 1, 'transformative': 1, 'technologies': 1, 'robotics': 1, 'quantum': 1, 'computing': 1, 'biotechnology': 1, 'promise': 1, 'profound': 1, 'breakthroughs': 1, 'navigate': 1, 'driven': 1, 'future': 1, 'collaboration': 1, 'technologists': 1, 'policymakers': 1, 'ethicists': 1, 'society': 1, 'crucial': 1, 'Fostering': 1, 'environment': 1, 'encourages': 1, 'upholding': 1, 'standards': 1, 'ensuring': 1, 'inclusivity': 1, 'pivotal': 1, 'road': 1, 'ahead': 1, 'undoubtedly': 1, 'thrilling': 1, 'offering': 1, 'boundless': 1, 'prospects': 1, 'progress': 1, 'necessitates': 1, 'conscientious': 1, 'harness': 1, 'greater': 1, 'good': 1}\n"
          ]
        }
      ]
    },
    {
      "cell_type": "code",
      "source": [
        "maxFrequency = max(word_frequencies.values())\n",
        "maxFrequency"
      ],
      "metadata": {
        "colab": {
          "base_uri": "https://localhost:8080/"
        },
        "id": "bpsNsBQKo1Xi",
        "outputId": "d561fb28-9268-4a1f-abf0-a6512cf36ef9"
      },
      "execution_count": null,
      "outputs": [
        {
          "output_type": "execute_result",
          "data": {
            "text/plain": [
              "12"
            ]
          },
          "metadata": {},
          "execution_count": 10
        }
      ]
    },
    {
      "cell_type": "code",
      "source": [
        "for i in word_frequencies.keys():\n",
        "  word_frequencies[i] = word_frequencies[i]/maxFrequency"
      ],
      "metadata": {
        "id": "QjxTmseWpIdD"
      },
      "execution_count": null,
      "outputs": []
    },
    {
      "cell_type": "code",
      "source": [
        "print(word_frequencies)"
      ],
      "metadata": {
        "colab": {
          "base_uri": "https://localhost:8080/"
        },
        "id": "QOrXYvPyphPx",
        "outputId": "1c789873-fda8-4547-a089-a524e426440b"
      },
      "execution_count": null,
      "outputs": [
        {
          "output_type": "stream",
          "name": "stdout",
          "text": [
            "{'realm': 0.08333333333333333, 'technological': 0.08333333333333333, 'innovation': 0.25, 'developments': 0.08333333333333333, 'captivated': 0.08333333333333333, 'imagination': 0.08333333333333333, 'reshaped': 0.08333333333333333, 'landscape': 0.08333333333333333, 'possibilities': 0.08333333333333333, 'like': 0.16666666666666666, 'artificial': 0.08333333333333333, 'intelligence': 0.16666666666666666, 'AI': 1.0, 'represents': 0.08333333333333333, 'culmination': 0.08333333333333333, 'decades': 0.08333333333333333, 'research': 0.16666666666666666, 'fusion': 0.16666666666666666, 'advanced': 0.08333333333333333, 'algorithms': 0.08333333333333333, 'computational': 0.08333333333333333, 'power': 0.08333333333333333, 'vast': 0.08333333333333333, 'datasets': 0.08333333333333333, 'birthed': 0.08333333333333333, 'new': 0.08333333333333333, 'era': 0.08333333333333333, 'augmentation': 0.08333333333333333, '\\n\\n': 0.4166666666666667, 'evolution': 0.08333333333333333, 'staggering': 0.08333333333333333, 'transitioning': 0.08333333333333333, 'theoretical': 0.08333333333333333, 'concepts': 0.08333333333333333, 'tangible': 0.08333333333333333, 'applications': 0.08333333333333333, 'diverse': 0.08333333333333333, 'domains': 0.08333333333333333, 'impact': 0.08333333333333333, 'reverberates': 0.08333333333333333, 'industries': 0.08333333333333333, 'enhancing': 0.08333333333333333, 'efficiency': 0.08333333333333333, 'automating': 0.08333333333333333, 'tasks': 0.16666666666666666, 'revolutionizing': 0.08333333333333333, 'way': 0.08333333333333333, 'approach': 0.16666666666666666, 'complex': 0.08333333333333333, 'problems': 0.08333333333333333, 'personalized': 0.08333333333333333, 'recommendation': 0.08333333333333333, 'systems': 0.08333333333333333, 'entertainment': 0.08333333333333333, 'e': 0.08333333333333333, 'commerce': 0.08333333333333333, 'predictive': 0.08333333333333333, 'analytics': 0.08333333333333333, 'powering': 0.08333333333333333, 'healthcare': 0.08333333333333333, 'diagnostics': 0.08333333333333333, 'versatility': 0.08333333333333333, 'knows': 0.08333333333333333, 'bounds': 0.08333333333333333, 'true': 0.08333333333333333, 'marvel': 0.08333333333333333, 'lies': 0.08333333333333333, 'practical': 0.08333333333333333, 'utility': 0.08333333333333333, 'potential': 0.16666666666666666, 'holds': 0.16666666666666666, 'quest': 0.08333333333333333, 'develop': 0.08333333333333333, 'sentient': 0.08333333333333333, 'machines': 0.16666666666666666, 'capable': 0.08333333333333333, 'learning': 0.16666666666666666, 'reasoning': 0.08333333333333333, 'expressing': 0.08333333333333333, 'creativity': 0.08333333333333333, 'continues': 0.16666666666666666, 'drive': 0.08333333333333333, 'forward': 0.08333333333333333, 'Ethical': 0.08333333333333333, 'considerations': 0.08333333333333333, 'questions': 0.08333333333333333, 'governance': 0.08333333333333333, 'surround': 0.08333333333333333, 'development': 0.08333333333333333, 'demanding': 0.08333333333333333, 'thoughtful': 0.08333333333333333, 'discourse': 0.08333333333333333, 'responsible': 0.08333333333333333, 'implementation': 0.08333333333333333, 'ensure': 0.08333333333333333, 'serves': 0.08333333333333333, 'humanity': 0.08333333333333333, 'best': 0.08333333333333333, 'interests': 0.08333333333333333, 'ascent': 0.08333333333333333, 'devoid': 0.08333333333333333, 'challenges': 0.08333333333333333, 'Concerns': 0.08333333333333333, 'job': 0.08333333333333333, 'displacement': 0.08333333333333333, 'data': 0.08333333333333333, 'privacy': 0.08333333333333333, 'algorithmic': 0.08333333333333333, 'bias': 0.08333333333333333, 'ethical': 0.25, 'implications': 0.08333333333333333, 'decision': 0.08333333333333333, 'making': 0.08333333333333333, 'loom': 0.08333333333333333, 'large': 0.16666666666666666, 'Striking': 0.08333333333333333, 'balance': 0.08333333333333333, 'responsibility': 0.08333333333333333, 'remains': 0.16666666666666666, 'pressing': 0.08333333333333333, 'issue': 0.08333333333333333, 'permeate': 0.08333333333333333, 'facet': 0.08333333333333333, 'lives': 0.08333333333333333, 'Nonetheless': 0.08333333333333333, 'strides': 0.08333333333333333, 'undeniably': 0.08333333333333333, 'remarkable': 0.08333333333333333, 'Deep': 0.08333333333333333, 'models': 0.08333333333333333, 'unlocked': 0.08333333333333333, 'unprecedented': 0.08333333333333333, 'capabilities': 0.08333333333333333, 'allowing': 0.08333333333333333, 'comprehend': 0.08333333333333333, 'language': 0.08333333333333333, 'recognize': 0.08333333333333333, 'patterns': 0.08333333333333333, 'surpass': 0.08333333333333333, 'human': 0.08333333333333333, 'performance': 0.08333333333333333, 'specific': 0.08333333333333333, 'transformative': 0.08333333333333333, 'technologies': 0.08333333333333333, 'robotics': 0.08333333333333333, 'quantum': 0.08333333333333333, 'computing': 0.08333333333333333, 'biotechnology': 0.08333333333333333, 'promise': 0.08333333333333333, 'profound': 0.08333333333333333, 'breakthroughs': 0.08333333333333333, 'navigate': 0.08333333333333333, 'driven': 0.08333333333333333, 'future': 0.08333333333333333, 'collaboration': 0.08333333333333333, 'technologists': 0.08333333333333333, 'policymakers': 0.08333333333333333, 'ethicists': 0.08333333333333333, 'society': 0.08333333333333333, 'crucial': 0.08333333333333333, 'Fostering': 0.08333333333333333, 'environment': 0.08333333333333333, 'encourages': 0.08333333333333333, 'upholding': 0.08333333333333333, 'standards': 0.08333333333333333, 'ensuring': 0.08333333333333333, 'inclusivity': 0.08333333333333333, 'pivotal': 0.08333333333333333, 'road': 0.08333333333333333, 'ahead': 0.08333333333333333, 'undoubtedly': 0.08333333333333333, 'thrilling': 0.08333333333333333, 'offering': 0.08333333333333333, 'boundless': 0.08333333333333333, 'prospects': 0.08333333333333333, 'progress': 0.08333333333333333, 'necessitates': 0.08333333333333333, 'conscientious': 0.08333333333333333, 'harness': 0.08333333333333333, 'greater': 0.08333333333333333, 'good': 0.08333333333333333}\n"
          ]
        }
      ]
    },
    {
      "cell_type": "code",
      "source": [
        "sent_tokenz = [sent for sent in docs.sents]\n",
        "print(sent_tokenz)\n"
      ],
      "metadata": {
        "colab": {
          "base_uri": "https://localhost:8080/"
        },
        "id": "o-LUlc1FpmiD",
        "outputId": "4787ca2c-c395-403c-86ca-2682a54e63a8"
      },
      "execution_count": null,
      "outputs": [
        {
          "output_type": "stream",
          "name": "stdout",
          "text": [
            "[In the realm of technological innovation, few developments have captivated our imagination and reshaped the landscape of possibilities quite like artificial intelligence (AI)., It represents the culmination of decades of research, where the fusion of advanced algorithms, computational power, and vast datasets has birthed a new era of intelligence augmentation.\n",
            "\n",
            ", AI's evolution has been staggering, transitioning from theoretical concepts to tangible applications across diverse domains., Its impact reverberates through industries, enhancing efficiency, automating tasks, and revolutionizing the way we approach complex problems., From personalized recommendation systems in entertainment and e-commerce to predictive analytics powering healthcare diagnostics, AI's versatility knows no bounds.\n",
            "\n",
            ", Yet, the true marvel lies not just in its practical utility but in the potential it holds., The quest to develop sentient machines capable of learning, reasoning, and even expressing creativity continues to drive AI research forward., Ethical considerations and questions of governance surround its development, demanding thoughtful discourse and responsible implementation to ensure AI serves humanity's best interests.\n",
            "\n",
            ", However, AI's ascent isn't devoid of challenges., Concerns about job displacement, data privacy, algorithmic bias, and the ethical implications of AI decision-making loom large., Striking a balance between innovation and ethical responsibility remains a pressing issue as AI continues to permeate every facet of our lives.\n",
            "\n",
            ", Nonetheless, the strides made in AI are undeniably remarkable., Deep learning models have unlocked unprecedented capabilities, allowing machines to comprehend language, recognize patterns, and surpass human performance in specific tasks., The fusion of AI with other transformative technologies like robotics, quantum computing, and biotechnology holds the promise of even more profound breakthroughs.\n",
            "\n",
            ", As we navigate this AI-driven future, collaboration between technologists, policymakers, ethicists, and society at large becomes crucial., Fostering an environment that encourages innovation while upholding ethical standards and ensuring inclusivity remains pivotal., The road ahead with AI is undoubtedly thrilling, offering boundless prospects for progress, but it necessitates a conscientious approach to harness its potential for the greater good.]\n"
          ]
        }
      ]
    },
    {
      "cell_type": "code",
      "source": [
        "sentence_score = {}\n",
        "\n",
        "for sent in sent_tokenz:\n",
        "  for word in sent:\n",
        "    if word.text.lower() in word_frequencies.keys():\n",
        "      if sent not in sentence_score.keys():\n",
        "        sentence_score[sent] = word_frequencies[word.text.lower()]\n",
        "      else:\n",
        "        sentence_score[sent] += word_frequencies[word.text.lower()]\n",
        "sentence_score"
      ],
      "metadata": {
        "colab": {
          "base_uri": "https://localhost:8080/"
        },
        "id": "ii7MN_PIp4VK",
        "outputId": "87b65b0a-28d2-488f-d096-81600153f1a4"
      },
      "execution_count": null,
      "outputs": [
        {
          "output_type": "execute_result",
          "data": {
            "text/plain": [
              "{In the realm of technological innovation, few developments have captivated our imagination and reshaped the landscape of possibilities quite like artificial intelligence (AI).: 1.3333333333333335,\n",
              " It represents the culmination of decades of research, where the fusion of advanced algorithms, computational power, and vast datasets has birthed a new era of intelligence augmentation.\n",
              " : 1.9999999999999998,\n",
              " AI's evolution has been staggering, transitioning from theoretical concepts to tangible applications across diverse domains.: 0.75,\n",
              " Its impact reverberates through industries, enhancing efficiency, automating tasks, and revolutionizing the way we approach complex problems.: 1.1666666666666665,\n",
              " From personalized recommendation systems in entertainment and e-commerce to predictive analytics powering healthcare diagnostics, AI's versatility knows no bounds.\n",
              " : 1.5833333333333333,\n",
              " Yet, the true marvel lies not just in its practical utility but in the potential it holds.: 0.7499999999999999,\n",
              " The quest to develop sentient machines capable of learning, reasoning, and even expressing creativity continues to drive AI research forward.: 1.4166666666666667,\n",
              " Ethical considerations and questions of governance surround its development, demanding thoughtful discourse and responsible implementation to ensure AI serves humanity's best interests.\n",
              " : 1.9166666666666663,\n",
              " However, AI's ascent isn't devoid of challenges.: 0.25,\n",
              " Concerns about job displacement, data privacy, algorithmic bias, and the ethical implications of AI decision-making loom large.: 1.25,\n",
              " Striking a balance between innovation and ethical responsibility remains a pressing issue as AI continues to permeate every facet of our lives.\n",
              " : 1.8333333333333333,\n",
              " Nonetheless, the strides made in AI are undeniably remarkable.: 0.25,\n",
              " Deep learning models have unlocked unprecedented capabilities, allowing machines to comprehend language, recognize patterns, and surpass human performance in specific tasks.: 1.583333333333333,\n",
              " The fusion of AI with other transformative technologies like robotics, quantum computing, and biotechnology holds the promise of even more profound breakthroughs.\n",
              " : 1.6666666666666667,\n",
              " As we navigate this AI-driven future, collaboration between technologists, policymakers, ethicists, and society at large becomes crucial.: 0.9166666666666666,\n",
              " Fostering an environment that encourages innovation while upholding ethical standards and ensuring inclusivity remains pivotal.: 1.25,\n",
              " The road ahead with AI is undoubtedly thrilling, offering boundless prospects for progress, but it necessitates a conscientious approach to harness its potential for the greater good.: 1.4166666666666665}"
            ]
          },
          "metadata": {},
          "execution_count": 14
        }
      ]
    },
    {
      "cell_type": "code",
      "source": [
        "from heapq import nlargest\n",
        "\n",
        "select_len = int(len(sent_tokenz)*0.3)\n",
        "select_len"
      ],
      "metadata": {
        "colab": {
          "base_uri": "https://localhost:8080/"
        },
        "id": "mMmjBHlNra2g",
        "outputId": "0eec78c3-8a30-42bf-b394-5731dc595986"
      },
      "execution_count": null,
      "outputs": [
        {
          "output_type": "execute_result",
          "data": {
            "text/plain": [
              "5"
            ]
          },
          "metadata": {},
          "execution_count": 15
        }
      ]
    },
    {
      "cell_type": "code",
      "source": [
        "summary = nlargest(select_len,sentence_score,sentence_score.get)\n",
        "summary"
      ],
      "metadata": {
        "colab": {
          "base_uri": "https://localhost:8080/"
        },
        "id": "A4zlhoqErvXQ",
        "outputId": "033c91d2-d928-41a5-d847-5c10c67efb85"
      },
      "execution_count": null,
      "outputs": [
        {
          "output_type": "execute_result",
          "data": {
            "text/plain": [
              "[It represents the culmination of decades of research, where the fusion of advanced algorithms, computational power, and vast datasets has birthed a new era of intelligence augmentation.\n",
              " ,\n",
              " Ethical considerations and questions of governance surround its development, demanding thoughtful discourse and responsible implementation to ensure AI serves humanity's best interests.\n",
              " ,\n",
              " Striking a balance between innovation and ethical responsibility remains a pressing issue as AI continues to permeate every facet of our lives.\n",
              " ,\n",
              " The fusion of AI with other transformative technologies like robotics, quantum computing, and biotechnology holds the promise of even more profound breakthroughs.\n",
              " ,\n",
              " From personalized recommendation systems in entertainment and e-commerce to predictive analytics powering healthcare diagnostics, AI's versatility knows no bounds.\n",
              " ]"
            ]
          },
          "metadata": {},
          "execution_count": 16
        }
      ]
    },
    {
      "cell_type": "code",
      "source": [
        "summary = [word.text for word in summary]\n",
        "summary"
      ],
      "metadata": {
        "colab": {
          "base_uri": "https://localhost:8080/"
        },
        "id": "OWq9ifI3r-a_",
        "outputId": "fae573b5-eb79-4d78-aecc-438c2737e6b0"
      },
      "execution_count": null,
      "outputs": [
        {
          "output_type": "execute_result",
          "data": {
            "text/plain": [
              "['It represents the culmination of decades of research, where the fusion of advanced algorithms, computational power, and vast datasets has birthed a new era of intelligence augmentation.\\n\\n',\n",
              " \"Ethical considerations and questions of governance surround its development, demanding thoughtful discourse and responsible implementation to ensure AI serves humanity's best interests.\\n\\n\",\n",
              " 'Striking a balance between innovation and ethical responsibility remains a pressing issue as AI continues to permeate every facet of our lives.\\n\\n',\n",
              " 'The fusion of AI with other transformative technologies like robotics, quantum computing, and biotechnology holds the promise of even more profound breakthroughs.\\n\\n',\n",
              " \"From personalized recommendation systems in entertainment and e-commerce to predictive analytics powering healthcare diagnostics, AI's versatility knows no bounds.\\n\\n\"]"
            ]
          },
          "metadata": {},
          "execution_count": 17
        }
      ]
    },
    {
      "cell_type": "code",
      "source": [
        "summary = \" \".join(summary)\n",
        "summary"
      ],
      "metadata": {
        "colab": {
          "base_uri": "https://localhost:8080/",
          "height": 209
        },
        "id": "va7Mu6KAsJoK",
        "outputId": "9fe331eb-8439-4f7a-fba6-de34e95acfeb"
      },
      "execution_count": null,
      "outputs": [
        {
          "output_type": "execute_result",
          "data": {
            "text/plain": [
              "\"It represents the culmination of decades of research, where the fusion of advanced algorithms, computational power, and vast datasets has birthed a new era of intelligence augmentation.\\n\\n Ethical considerations and questions of governance surround its development, demanding thoughtful discourse and responsible implementation to ensure AI serves humanity's best interests.\\n\\n Striking a balance between innovation and ethical responsibility remains a pressing issue as AI continues to permeate every facet of our lives.\\n\\n The fusion of AI with other transformative technologies like robotics, quantum computing, and biotechnology holds the promise of even more profound breakthroughs.\\n\\n From personalized recommendation systems in entertainment and e-commerce to predictive analytics powering healthcare diagnostics, AI's versatility knows no bounds.\\n\\n\""
            ],
            "application/vnd.google.colaboratory.intrinsic+json": {
              "type": "string"
            }
          },
          "metadata": {},
          "execution_count": 18
        }
      ]
    }
  ]
}