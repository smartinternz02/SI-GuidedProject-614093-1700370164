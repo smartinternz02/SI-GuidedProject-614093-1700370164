{
 "cells": [
  {
   "cell_type": "code",
   "execution_count": 1,
   "id": "1b524be7",
   "metadata": {},
   "outputs": [],
   "source": [
    "import numpy as np \n",
    "import pandas as pd \n",
    "import tensorflow as tf\n",
    "import re\n",
    "import string"
   ]
  },
  {
   "cell_type": "code",
   "execution_count": 2,
   "id": "af495c08",
   "metadata": {},
   "outputs": [],
   "source": [
    "data = pd.read_csv(\"news_summary_more.csv\")"
   ]
  },
  {
   "cell_type": "code",
   "execution_count": 3,
   "id": "f6bf4cb3",
   "metadata": {},
   "outputs": [
    {
     "data": {
      "text/html": [
       "<div>\n",
       "<style scoped>\n",
       "    .dataframe tbody tr th:only-of-type {\n",
       "        vertical-align: middle;\n",
       "    }\n",
       "\n",
       "    .dataframe tbody tr th {\n",
       "        vertical-align: top;\n",
       "    }\n",
       "\n",
       "    .dataframe thead th {\n",
       "        text-align: right;\n",
       "    }\n",
       "</style>\n",
       "<table border=\"1\" class=\"dataframe\">\n",
       "  <thead>\n",
       "    <tr style=\"text-align: right;\">\n",
       "      <th></th>\n",
       "      <th>headlines</th>\n",
       "      <th>text</th>\n",
       "    </tr>\n",
       "  </thead>\n",
       "  <tbody>\n",
       "    <tr>\n",
       "      <th>0</th>\n",
       "      <td>upGrad learner switches to career in ML &amp; Al w...</td>\n",
       "      <td>Saurav Kant, an alumnus of upGrad and IIIT-B's...</td>\n",
       "    </tr>\n",
       "    <tr>\n",
       "      <th>1</th>\n",
       "      <td>Delhi techie wins free food from Swiggy for on...</td>\n",
       "      <td>Kunal Shah's credit card bill payment platform...</td>\n",
       "    </tr>\n",
       "    <tr>\n",
       "      <th>2</th>\n",
       "      <td>New Zealand end Rohit Sharma-led India's 12-ma...</td>\n",
       "      <td>New Zealand defeated India by 8 wickets in the...</td>\n",
       "    </tr>\n",
       "    <tr>\n",
       "      <th>3</th>\n",
       "      <td>Aegon life iTerm insurance plan helps customer...</td>\n",
       "      <td>With Aegon Life iTerm Insurance plan, customer...</td>\n",
       "    </tr>\n",
       "    <tr>\n",
       "      <th>4</th>\n",
       "      <td>Have known Hirani for yrs, what if MeToo claim...</td>\n",
       "      <td>Speaking about the sexual harassment allegatio...</td>\n",
       "    </tr>\n",
       "  </tbody>\n",
       "</table>\n",
       "</div>"
      ],
      "text/plain": [
       "                                           headlines  \\\n",
       "0  upGrad learner switches to career in ML & Al w...   \n",
       "1  Delhi techie wins free food from Swiggy for on...   \n",
       "2  New Zealand end Rohit Sharma-led India's 12-ma...   \n",
       "3  Aegon life iTerm insurance plan helps customer...   \n",
       "4  Have known Hirani for yrs, what if MeToo claim...   \n",
       "\n",
       "                                                text  \n",
       "0  Saurav Kant, an alumnus of upGrad and IIIT-B's...  \n",
       "1  Kunal Shah's credit card bill payment platform...  \n",
       "2  New Zealand defeated India by 8 wickets in the...  \n",
       "3  With Aegon Life iTerm Insurance plan, customer...  \n",
       "4  Speaking about the sexual harassment allegatio...  "
      ]
     },
     "execution_count": 3,
     "metadata": {},
     "output_type": "execute_result"
    }
   ],
   "source": [
    "data.head()"
   ]
  },
  {
   "cell_type": "code",
   "execution_count": 4,
   "id": "d328e507",
   "metadata": {},
   "outputs": [],
   "source": [
    "mapping = {\"ain't\": \"is not\", \"aren't\": \"are not\",\"can't\": \"cannot\", \"'cause\": \"because\", \"could've\": \"could have\", \"couldn't\": \"could not\",\n",
    "\"didn't\": \"did not\", \"doesn't\": \"does not\", \"don't\": \"do not\", \"hadn't\": \"had not\", \"hasn't\": \"has not\", \"haven't\": \"have not\",\n",
    "\"he'd\": \"he would\",\"he'll\": \"he will\", \"he's\": \"he is\", \"how'd\": \"how did\", \"how'd'y\": \"how do you\", \"how'll\": \"how will\", \"how's\": \"how is\",\n",
    "\"I'd\": \"I would\", \"I'd've\": \"I would have\", \"I'll\": \"I will\", \"I'll've\": \"I will have\",\"I'm\": \"I am\", \"I've\": \"I have\", \"i'd\": \"i would\",\n",
    "\"i'd've\": \"i would have\", \"i'll\": \"i will\",  \"i'll've\": \"i will have\",\"i'm\": \"i am\", \"i've\": \"i have\", \"isn't\": \"is not\", \"it'd\": \"it would\",\n",
    "\"it'd've\": \"it would have\", \"it'll\": \"it will\", \"it'll've\": \"it will have\",\"it's\": \"it is\", \"let's\": \"let us\", \"ma'am\": \"madam\",\n",
    "\"mayn't\": \"may not\", \"might've\": \"might have\",\"mightn't\": \"might not\",\"mightn't've\": \"might not have\", \"must've\": \"must have\",\n",
    "\"mustn't\": \"must not\", \"mustn't've\": \"must not have\", \"needn't\": \"need not\", \"needn't've\": \"need not have\",\"o'clock\": \"of the clock\",\n",
    "\"oughtn't\": \"ought not\", \"oughtn't've\": \"ought not have\", \"shan't\": \"shall not\", \"sha'n't\": \"shall not\", \"shan't've\": \"shall not have\",\n",
    "\"she'd\": \"she would\", \"she'd've\": \"she would have\", \"she'll\": \"she will\", \"she'll've\": \"she will have\", \"she's\": \"she is\",\n",
    "\"should've\": \"should have\", \"shouldn't\": \"should not\", \"shouldn't've\": \"should not have\", \"so've\": \"so have\",\"so's\": \"so as\",\n",
    "\"this's\": \"this is\",\"that'd\": \"that would\", \"that'd've\": \"that would have\", \"that's\": \"that is\", \"there'd\": \"there would\",\n",
    "\"there'd've\": \"there would have\", \"there's\": \"there is\", \"here's\": \"here is\",\"they'd\": \"they would\", \"they'd've\": \"they would have\",\n",
    "\"they'll\": \"they will\", \"they'll've\": \"they will have\", \"they're\": \"they are\", \"they've\": \"they have\", \"to've\": \"to have\",\n",
    "\"wasn't\": \"was not\", \"we'd\": \"we would\", \"we'd've\": \"we would have\", \"we'll\": \"we will\", \"we'll've\": \"we will have\", \"we're\": \"we are\",\n",
    "\"we've\": \"we have\", \"weren't\": \"were not\", \"what'll\": \"what will\", \"what'll've\": \"what will have\", \"what're\": \"what are\",\n",
    "\"what's\": \"what is\", \"what've\": \"what have\", \"when's\": \"when is\", \"when've\": \"when have\", \"where'd\": \"where did\", \"where's\": \"where is\",\n",
    "\"where've\": \"where have\", \"who'll\": \"who will\", \"who'll've\": \"who will have\", \"who's\": \"who is\", \"who've\": \"who have\",\n",
    "\"why's\": \"why is\", \"why've\": \"why have\", \"will've\": \"will have\", \"won't\": \"will not\", \"won't've\": \"will not have\",\n",
    "\"would've\": \"would have\", \"wouldn't\": \"would not\", \"wouldn't've\": \"would not have\", \"y'all\": \"you all\",\n",
    "\"y'all'd\": \"you all would\",\"y'all'd've\": \"you all would have\",\"y'all're\": \"you all are\",\"y'all've\": \"you all have\",\n",
    "\"you'd\": \"you would\", \"you'd've\": \"you would have\", \"you'll\": \"you will\", \"you'll've\": \"you will have\",\n",
    "\"you're\": \"you are\", \"you've\": \"you have\"}"
   ]
  },
  {
   "cell_type": "code",
   "execution_count": 5,
   "id": "f851487f",
   "metadata": {},
   "outputs": [],
   "source": [
    "from nltk.corpus import stopwords\n",
    "from nltk.translate.bleu_score import sentence_bleu\n",
    "from nltk.translate.bleu_score import SmoothingFunction\n",
    "from sklearn.model_selection import train_test_split"
   ]
  },
  {
   "cell_type": "code",
   "execution_count": 6,
   "id": "138e145b",
   "metadata": {},
   "outputs": [
    {
     "name": "stderr",
     "output_type": "stream",
     "text": [
      "[nltk_data] Downloading package stopwords to\n",
      "[nltk_data]     C:\\Users\\tejak\\AppData\\Roaming\\nltk_data...\n",
      "[nltk_data]   Package stopwords is already up-to-date!\n"
     ]
    },
    {
     "data": {
      "text/plain": [
       "True"
      ]
     },
     "execution_count": 6,
     "metadata": {},
     "output_type": "execute_result"
    }
   ],
   "source": [
    "import nltk\n",
    "nltk.download('stopwords')\n"
   ]
  },
  {
   "cell_type": "code",
   "execution_count": 7,
   "id": "f308df13",
   "metadata": {},
   "outputs": [],
   "source": [
    "StopWords = set(stopwords.words('english'))\n",
    "def preprocess(text):\n",
    "    text = text.lower() #converting input to lowercase\n",
    "    text = re.sub(r'\\([^)]*\\)', '', text) #Removing punctuations and special characters.\n",
    "    text = re.sub('\"','', text) #Removing double quotes.\n",
    "    text = ' '.join([mapping[t] if t in mapping else t for t in text.split(\" \")]) #Replacing contractions.   \n",
    "    text = re.sub(r\"'s\\b\",\"\",text) #Eliminating apostrophe.\n",
    "    text = re.sub(\"[^a-zA-Z]\", \" \", text) #Removing non-alphabetical characters\n",
    "    text = ' '.join([word for word in text.split() if word not in StopWords]) #Removing stopwords.\n",
    "    text = ' '.join([word for word in text.split() if len(word) >= 3]) #Removing very short words\n",
    "    return text\n"
   ]
  },
  {
   "cell_type": "code",
   "execution_count": 8,
   "id": "ab460d94",
   "metadata": {},
   "outputs": [],
   "source": [
    "cleaned_text = []\n",
    "cleaned_summary = []\n",
    "for text in data['text']:\n",
    "    cleaned_text.append(preprocess(text))\n",
    "for summary in data['headlines']:\n",
    "    cleaned_summary.append(preprocess(summary))\n",
    "cleaned_data = pd.DataFrame()\n",
    "cleaned_data['text'] = cleaned_text\n",
    "cleaned_data['headline'] = cleaned_summary\n",
    "\n",
    "#Replacing empty string summaries with nan values and then dropping those datapoints.\n",
    "cleaned_data['headline'].replace('', np.nan, inplace=True)\n",
    "cleaned_data.dropna(axis=0, inplace=True)"
   ]
  },
  {
   "cell_type": "code",
   "execution_count": 9,
   "id": "ed2f6a89",
   "metadata": {},
   "outputs": [
    {
     "name": "stdout",
     "output_type": "stream",
     "text": [
      "Article:  saurav kant alumnus upgrad iiit program machine learning artificial intelligence systems engineer infosys almost years work experience program upgrad degree career support helped transition data scientist tech mahindra salary hike upgrad online power learning powered lakh careers\n",
      "Headline: <START> upgrad learner switches career salary hike <END>\n",
      "\n",
      "\n",
      "Article:  kunal shah credit card bill payment platform cred gave users chance win free food swiggy one year pranav kaushik delhi techie bagged reward spending cred coins users get one cred coin per rupee bill paid used avail rewards brands like ixigo bookmyshow ubereats cult fit\n",
      "Headline: <START> delhi techie wins free food swiggy one year cred <END>\n",
      "\n",
      "\n",
      "Article:  new zealand defeated india wickets fourth odi hamilton thursday win first match five match odi series india lost international match rohit sharma captaincy consecutive victories dating back march match witnessed india getting seventh lowest total odi cricket history\n",
      "Headline: <START> new zealand end rohit sharma led india match winning streak <END>\n",
      "\n",
      "\n",
      "Article:  aegon life iterm insurance plan customers enjoy tax benefits premiums paid save taxes plan provides life cover age years also customers options insure critical illnesses disability accidental death benefit rider life cover age years\n",
      "Headline: <START> aegon life iterm insurance plan helps customers save tax <END>\n",
      "\n",
      "\n",
      "Article:  speaking sexual harassment allegations rajkumar hirani sonam kapoor said known hirani many years true metoo movement get derailed metoo movement always believe woman case need reserve judgment added hirani accused assistant worked sanju\n",
      "Headline: <START> known hirani yrs metoo claims true sonam <END>\n",
      "\n",
      "\n",
      "Article:  pakistani singer rahat fateh ali khan denied receiving notice enforcement directorate allegedly smuggling foreign currency india would better authorities would served notice first publicised reads press release issued behalf rahat statement called allegation bizarre\n",
      "Headline: <START> rahat fateh ali khan denies getting notice smuggling currency <END>\n",
      "\n",
      "\n",
      "Article:  india recorded lowest odi total new zealand getting runs overs fourth odi hamilton thursday seven india batsmen dismissed single digit scores number ten batsman yuzvendra chahal top scored india previous lowest odi total new zealand\n",
      "Headline: <START> india get lowest odi total new zealand <END>\n",
      "\n",
      "\n",
      "Article:  weeks cbi director alok verma told department personnel training consider retired home ministry asked join work last day fixed tenure director thursday ministry directed immediately join fire services post transferred removal cbi chief\n",
      "Headline: <START> govt directs alok verma join work day retirement <END>\n",
      "\n",
      "\n",
      "Article:  andhra pradesh chandrababu naidu said met president bill clinton addressed clinton sir modi junior politics addressed sir times satisfy ego hope justice state added\n",
      "Headline: <START> called modi sir times satisfy ego andhra <END>\n",
      "\n",
      "\n",
      "Article:  congress candidate shafia zubair ramgarh assembly seat rajasthan defeating bjp sukhwant singh margin votes bypoll victory congress taken total seats member assembly election ramgarh seat delayed due death sitting mla bsp candidate laxman singh\n",
      "Headline: <START> cong wins ramgarh bypoll rajasthan takes total seats <END>\n",
      "\n",
      "\n"
     ]
    }
   ],
   "source": [
    "cleaned_data['headline'] = cleaned_data['headline'].apply(lambda x: '<START>' + ' '+ x + ' '+ '<END>')\n",
    "for i in range(10):\n",
    "    print('Article: ', cleaned_data['text'][i])\n",
    "    print('Headline:', cleaned_data['headline'][i])\n",
    "    print('\\n')"
   ]
  },
  {
   "cell_type": "code",
   "execution_count": 10,
   "id": "5d32d412",
   "metadata": {},
   "outputs": [
    {
     "name": "stdout",
     "output_type": "stream",
     "text": [
      "53 14\n"
     ]
    }
   ],
   "source": [
    "import pandas as pd\n",
    "\n",
    "# Assuming you've loaded or created 'cleaned_data' DataFrame before this point\n",
    "news_length = max([len(text.split()) for text in cleaned_data['text']])\n",
    "headline_length = max([len(text.split()) for text in cleaned_data['headline']])\n",
    "print(news_length, headline_length)"
   ]
  },
  {
   "cell_type": "code",
   "execution_count": 11,
   "id": "0bc24842",
   "metadata": {},
   "outputs": [
    {
     "data": {
      "image/png": "[encoded data removed]",
      "text/plain": [
       "<Figure size 640x480 with 2 Axes>"
      ]
     },
     "metadata": {},
     "output_type": "display_data"
    }
   ],
   "source": [
    "import matplotlib.pyplot as plt\n",
    "\n",
    "text_word_count = []\n",
    "headline_word_count = []\n",
    "\n",
    "for i in cleaned_data['text']:\n",
    "      text_word_count.append(len(i.split()))\n",
    "\n",
    "for i in cleaned_data['headline']:\n",
    "      headline_word_count.append(len(i.split()))\n",
    "\n",
    "length_df = pd.DataFrame({'Body':text_word_count, 'Highlights':headline_word_count})\n",
    "length_df.hist(bins = 20)\n",
    "plt.show()\n"
   ]
  },
  {
   "cell_type": "code",
   "execution_count": 12,
   "id": "a0bc236d",
   "metadata": {},
   "outputs": [],
   "source": [
    "def preprocess_text(text):\n",
    "    text = text.lower()\n",
    "    text = text.translate(str.maketrans('', '', string.punctuation))\n",
    "    tokens = word_tokenize(text)\n",
    "    stop_words = set(stopwords.words('english'))\n",
    "    tokens = [word for word in tokens if word not in stop_words]\n",
    "    lemmatizer = WordNetLemmatizer()\n",
    "    tokens = [lemmatizer.lemmatize(word) for word in tokens]\n",
    "    return ' '.join(tokens)"
   ]
  },
  {
   "cell_type": "code",
   "execution_count": 20,
   "id": "5397f727",
   "metadata": {},
   "outputs": [
    {
     "name": "stderr",
     "output_type": "stream",
     "text": [
      "[nltk_data] Downloading package punkt to\n",
      "[nltk_data]     C:\\Users\\tejak\\AppData\\Roaming\\nltk_data...\n",
      "[nltk_data]   Package punkt is already up-to-date!\n",
      "[nltk_data] Downloading package wordnet to\n",
      "[nltk_data]     C:\\Users\\tejak\\AppData\\Roaming\\nltk_data...\n",
      "[nltk_data]   Package wordnet is already up-to-date!\n",
      "[nltk_data] Downloading package omw-1.4 to\n",
      "[nltk_data]     C:\\Users\\tejak\\AppData\\Roaming\\nltk_data...\n",
      "[nltk_data]   Package omw-1.4 is already up-to-date!\n"
     ]
    },
    {
     "data": {
      "text/plain": [
       "True"
      ]
     },
     "execution_count": 20,
     "metadata": {},
     "output_type": "execute_result"
    }
   ],
   "source": [
    "from nltk.tokenize import word_tokenize\n",
    "from keras.preprocessing.text import Tokenizer\n",
    "\n",
    "import nltk\n",
    "from nltk.stem import WordNetLemmatizer\n",
    "nltk.download('punkt')\n",
    "nltk.download('wordnet')\n",
    "nltk.download('omw-1.4')\n"
   ]
  },
  {
   "cell_type": "code",
   "execution_count": 24,
   "id": "86e6e74e",
   "metadata": {},
   "outputs": [],
   "source": [
    "import keras\n",
    "from keras import backend as K\n",
    "from keras.layers import Layer\n",
    "from keras.layers import Concatenate\n",
    "from keras.preprocessing.text import Tokenizer\n",
    "from keras.preprocessing.sequence import pad_sequences\n",
    "from keras.layers import Dense, TimeDistributed, LSTM, Embedding, Input\n",
    "from keras import Model"
   ]
  },
  {
   "cell_type": "code",
   "execution_count": 25,
   "id": "0a427c57",
   "metadata": {},
   "outputs": [],
   "source": [
    "data['processed_text'] = data['headlines'].apply(preprocess_text)"
   ]
  },
  {
   "cell_type": "code",
   "execution_count": 26,
   "id": "e1078b78",
   "metadata": {},
   "outputs": [],
   "source": [
    "all_words = ' '.join(data['processed_text']).split()\n",
    "word_freq = nltk.FreqDist(all_words)"
   ]
  },
  {
   "cell_type": "code",
   "execution_count": 27,
   "id": "e40cb19e",
   "metadata": {},
   "outputs": [],
   "source": [
    "X = data['processed_text']\n",
    "y = data['text']\n",
    "\n",
    "X_train, X_test, y_train, y_test = train_test_split(X, y, test_size=0.2, random_state=42)\n",
    "\n",
    "\n",
    "\n",
    "#Keras tokenizer for news text.\n",
    "tokenizer_news = Tokenizer()\n",
    "tokenizer_news.fit_on_texts(list(X_train))\n",
    "x_train_seq = tokenizer_news.texts_to_sequences(X_train)\n",
    "x_test_seq = tokenizer_news.texts_to_sequences(X_test)\n",
    "#padding short texts with 0s.\n",
    "x_train_pad = pad_sequences(x_train_seq, maxlen=news_length, padding='post') \n",
    "x_test_pad = pad_sequences(x_test_seq, maxlen=news_length, padding='post')\n",
    "#Vocab size of texts.\n",
    "news_vocab = len(tokenizer_news.word_index) + 1\n",
    "\n",
    "#Keras Tokenizer for summaries.\n",
    "tokenizer_headline = Tokenizer()\n",
    "tokenizer_headline.fit_on_texts(list(y_train))\n",
    "y_train_seq = tokenizer_headline.texts_to_sequences(y_train)\n",
    "y_test_seq = tokenizer_headline.texts_to_sequences(y_test)\n",
    "y_train_pad = pad_sequences(y_train_seq, maxlen=headline_length, padding='post')\n",
    "y_test_pad = pad_sequences(y_test_seq, maxlen=headline_length, padding='post')\n",
    "#Vocab size of summaries.\n",
    "headline_vocab = len(tokenizer_headline.word_index) + 1"
   ]
  },
  {
   "cell_type": "code",
   "execution_count": 28,
   "id": "93e4ec6a",
   "metadata": {},
   "outputs": [],
   "source": [
    "class AttentionLayer(Layer):\n",
    "    def __init__(self, **kwargs): #-----> to inherit the layer class from keras\n",
    "        super(AttentionLayer, self).__init__(**kwargs)\n",
    "    def build(self, input_shape):#------> function to create trainable weights w1,w2,w3\n",
    "        assert isinstance(input_shape, list)\n",
    "        self.W1 = self.add_weight(name='W1',shape=tf.TensorShape((input_shape[0][2], input_shape[0][2])),initializer='uniform',trainable=True)\n",
    "        self.W2 = self.add_weight(name='w2',shape=tf.TensorShape((input_shape[1][2], input_shape[0][2])),initializer='uniform',trainable=True)\n",
    "        self.W3 = self.add_weight(name='w3',shape=tf.TensorShape((input_shape[0][2], 1)),initializer='uniform',trainable=True)\n",
    "        super(AttentionLayer, self).build(input_shape)  \n",
    "\n",
    "    def call(self, inputs, verbose=False):\n",
    "    \n",
    "        #inputs for this function: [encoder_output_sequence, decoder_output_sequence]\n",
    "        #outputs from this function : energy_i which is energy at step i\n",
    "        assert type(inputs) == list\n",
    "        encoder_out_seq, decoder_out_seq = inputs\n",
    "        if verbose:\n",
    "            print('encoder_out_seq>', encoder_out_seq.shape)\n",
    "            print('decoder_out_seq>', decoder_out_seq.shape)\n",
    "\n",
    "        def energy_step(inputs, states):#----->function for computing energy for a single decoder state\n",
    "            \n",
    "            assert_msg = \"States must be a list. However states {} is of type {}\".format(states, type(states))\n",
    "            assert isinstance(states, list) or isinstance(states, tuple), assert_msg\n",
    "\n",
    "            #shaping tensors\n",
    "            en_seq_len, en_hidden = encoder_out_seq.shape[1], encoder_out_seq.shape[2]\n",
    "            de_hidden = inputs.shape[-1]\n",
    "\n",
    "            #Computing S.W1 ------> dot product of encoder output with trainable weight w1\n",
    "            reshaped_enc_outputs = K.reshape(encoder_out_seq, (-1, en_hidden))\n",
    "            W1_dot_s = K.reshape(K.dot(reshaped_enc_outputs, self.W1), (-1, en_seq_len, en_hidden))\n",
    "            if verbose:\n",
    "                print('wa.s>',W1_dot_s.shape)\n",
    "\n",
    "            #Computing h.w2 -------> dot product of decoder with w2 weights\n",
    "            W2_dot_h = K.expand_dims(K.dot(inputs, self.W2), 1)  \n",
    "            if verbose:\n",
    "                print('W2.h>',W2_dot_h.shape)\n",
    "\n",
    "            #tanh(S.W1a + hj.W2a)----> concatenation based attention score calculation\\\n",
    "            # tanh activation will squash the values to -1 to 1 range\n",
    "            reshaped_W1s_plus_W2h = K.tanh(K.reshape(W1_dot_s + W2_dot_h, (-1, en_hidden)))\n",
    "            if verbose:\n",
    "                print('Ws+Uh>', reshaped_W1s_plus_W2h.shape)\n",
    "\n",
    "            #softmax(w3.tanh(S.W1 + hj.w2)) -----> probability distribution for energy\n",
    "            # calculating the attention energy at each step and dot producting with w3\n",
    "            energy_i = K.reshape(K.dot(reshaped_W1s_plus_W2h, self.W3), (-1, en_seq_len))\n",
    "            energy_i = K.softmax(energy_i)\n",
    "\n",
    "            if verbose:\n",
    "                print('energy at i>', energy_i.shape)\n",
    "\n",
    "            return energy_i, [energy_i]\n",
    "\n",
    "        def context_step(inputs, states):#------> function to calculate context vector at each stage\n",
    "            #this function outputs the context vector at each stage\n",
    "            context_i = K.sum(encoder_out_seq * K.expand_dims(inputs, -1), axis=1)\n",
    "            if verbose:\n",
    "                print('ci>', c_i.shape)\n",
    "            return context_i, [context_i]\n",
    "\n",
    "        def create_inital_state(inputs, hidden_size):\n",
    "            # We are not using initial states, but need to pass something to K.rnn funciton\n",
    "            fake_state = K.zeros_like(inputs)  \n",
    "            fake_state = K.sum(fake_state, axis=[1, 2])\n",
    "            fake_state = K.expand_dims(fake_state)\n",
    "            fake_state = K.tile(fake_state, [1, hidden_size])\n",
    "            return fake_state\n",
    "        fake_state_c = create_inital_state(encoder_out_seq, encoder_out_seq.shape[-1])\n",
    "        fake_state_e = create_inital_state(encoder_out_seq, encoder_out_seq.shape[1]) \n",
    "\n",
    "        #Computing energy outputs\n",
    "        last_out, e_outputs, _ = K.rnn(\n",
    "            energy_step, decoder_out_seq, [fake_state_e],)\n",
    "\n",
    "        #Computing context vectors \n",
    "        last_out, c_outputs, _ = K.rnn(\n",
    "            context_step, e_outputs, [fake_state_c],)\n",
    "\n",
    "        return c_outputs, e_outputs\n",
    "\n",
    "    def compute_output_shape(self, input_shape):\n",
    "        #reshaping Outputs produced by the layer\n",
    "        return [\n",
    "            tf.TensorShape((input_shape[1][0], input_shape[1][1], input_shape[1][2])),\n",
    "            tf.TensorShape((input_shape[1][0], input_shape[1][1], input_shape[0][1]))\n",
    "        ]\n",
    "        "
   ]
  },
  {
   "cell_type": "code",
   "execution_count": 29,
   "id": "55baf62f",
   "metadata": {},
   "outputs": [
    {
     "name": "stdout",
     "output_type": "stream",
     "text": [
      "Model: \"model\"\n",
      "__________________________________________________________________________________________________\n",
      " Layer (type)                Output Shape                 Param #   Connected to                  \n",
      "==================================================================================================\n",
      " input_1 (InputLayer)        [(None, 53)]                 0         []                            \n",
      "                                                                                                  \n",
      " embedding (Embedding)       (None, 53, 300)              1088730   ['input_1[0][0]']             \n",
      "                                                          0                                       \n",
      "                                                                                                  \n",
      " lstm (LSTM)                 [(None, 53, 500),            1602000   ['embedding[0][0]']           \n",
      "                              (None, 500),                                                        \n",
      "                              (None, 500)]                                                        \n",
      "                                                                                                  \n",
      " input_2 (InputLayer)        [(None, None)]               0         []                            \n",
      "                                                                                                  \n",
      " lstm_1 (LSTM)               [(None, 53, 500),            2002000   ['lstm[0][0]']                \n",
      "                              (None, 500),                                                        \n",
      "                              (None, 500)]                                                        \n",
      "                                                                                                  \n",
      " embedding_1 (Embedding)     (None, None, 300)            2737410   ['input_2[0][0]']             \n",
      "                                                          0                                       \n",
      "                                                                                                  \n",
      " lstm_2 (LSTM)               [(None, 53, 500),            2002000   ['lstm_1[0][0]']              \n",
      "                              (None, 500),                                                        \n",
      "                              (None, 500)]                                                        \n",
      "                                                                                                  \n",
      " lstm_3 (LSTM)               [(None, None, 500),          1602000   ['embedding_1[0][0]',         \n",
      "                              (None, 500),                           'lstm_2[0][1]',              \n",
      "                              (None, 500)]                           'lstm_2[0][2]']              \n",
      "                                                                                                  \n",
      " attention_layer (Attention  ((None, None, 500),          500500    ['lstm_2[0][0]',              \n",
      " Layer)                       (None, None, 53))                      'lstm_3[0][0]']              \n",
      "                                                                                                  \n",
      " concat_layer (Concatenate)  (None, None, 1000)           0         ['lstm_3[0][0]',              \n",
      "                                                                     'attention_layer[0][0]']     \n",
      "                                                                                                  \n",
      " time_distributed (TimeDist  (None, None, 91247)          9133824   ['concat_layer[0][0]']        \n",
      " ributed)                                                 7                                       \n",
      "                                                                                                  \n",
      "==================================================================================================\n",
      "Total params: 137308147 (523.79 MB)\n",
      "Trainable params: 137308147 (523.79 MB)\n",
      "Non-trainable params: 0 (0.00 Byte)\n",
      "__________________________________________________________________________________________________\n"
     ]
    }
   ],
   "source": [
    "K.clear_session()\n",
    "\n",
    "embedding_dim = 300 #Size of word embeddings.\n",
    "latent_dim = 500 #Number of neurons in LSTM layer.\n",
    "\n",
    "#Embedding Layer\n",
    "e_input = Input(shape=(news_length, ))\n",
    "e_emb = Embedding(news_vocab, embedding_dim, trainable=True)(e_input) \n",
    "\n",
    "#Three LSTM layers ----> encoder.\n",
    "e_lstm1 = LSTM(latent_dim, return_sequences=True, return_state=True, dropout=0.3, recurrent_dropout=0.2)\n",
    "y_1, a_1, c_1 = e_lstm1(e_emb)\n",
    "e_lstm2 = LSTM(latent_dim, return_sequences=True, return_state=True, dropout=0.3, recurrent_dropout=0.2)\n",
    "y_2, a_2, c_2 = e_lstm2(y_1)\n",
    "e_lstm3 = LSTM(latent_dim, return_sequences=True, return_state=True, dropout=0.3, recurrent_dropout=0.2)\n",
    "encoder_output, a_enc, c_enc = e_lstm3(y_2)\n",
    "\n",
    "#Single LSTM layer ----> decoder \n",
    "d_input = Input(shape=(None,))\n",
    "d_emb = Embedding(headline_vocab, embedding_dim, trainable=True)(d_input)\n",
    "d_lstm = LSTM(latent_dim, return_sequences=True, return_state=True, dropout=0.3, recurrent_dropout=0.2)\n",
    "decoder_output, decoder_fwd, decoder_back = d_lstm(d_emb, initial_state=[a_enc, c_enc]) #Final output states of encoder last layer are fed into decoder.\n",
    "\n",
    "#Attention Layer\n",
    "attn_layer = AttentionLayer(name='attention_layer') \n",
    "attn_out, attn_states = attn_layer([encoder_output, decoder_output]) \n",
    "\n",
    "#concatenating decoder input to attention layer output\n",
    "decoder_concat_input = Concatenate(axis=-1, name='concat_layer')([decoder_output, attn_out])\n",
    "#dense time distributed layer with softw=max fucntion for predicting the next word\n",
    "decoder_dense = TimeDistributed(Dense(headline_vocab, activation='softmax'))\n",
    "decoder_output = decoder_dense(decoder_concat_input)\n",
    "\n",
    "#creating model\n",
    "model = Model([e_input, d_input], decoder_output)\n",
    "model.summary()"
   ]
  },
  {
   "cell_type": "code",
   "execution_count": null,
   "id": "73398ad8",
   "metadata": {},
   "outputs": [],
   "source": [
    "model.compile(optimizer='rmsprop', loss='sparse_categorical_crossentropy')\n",
    "callback = keras.callbacks.EarlyStopping(monitor='val_loss', mode='min', verbose=1, patience=2)\n",
    "history=model.fit([x_train_pad,y_train_pad[:,:-1]], y_train_pad.reshape(y_train_pad.shape[0],y_train_pad.shape[1], 1)[:,1:] ,epochs=3,callbacks=[callback],batch_size=512, validation_data=([x_test_pad,y_test_pad[:,:-1]], y_test_pad.reshape(y_test_pad.shape[0],y_test_pad.shape[1], 1)[:,1:]))"
   ]
  },
  {
   "cell_type": "code",
   "execution_count": null,
   "id": "a4d5b2d5",
   "metadata": {},
   "outputs": [],
   "source": [
    "encoder_model = Model(inputs=e_input, outputs=[encoder_output, a_enc, c_enc])\n",
    "\n",
    "#Initialising state vectors for decoder.\n",
    "decoder_initial_state_a = Input(shape=(latent_dim,))\n",
    "decoder_initial_state_c = Input(shape=(latent_dim,))\n",
    "decoder_hidden_state = Input(shape=(news_length, latent_dim))\n",
    "\n",
    "#Decoder inference model\n",
    "decoder_out, decoder_a, decoder_c = d_lstm(d_emb, initial_state=[decoder_initial_state_a, decoder_initial_state_c])\n",
    "attn_out_inf, attn_states_inf = attn_layer([decoder_hidden_state, decoder_out])\n",
    "decoder_inf_concat = Concatenate(axis=-1, name='concat')([decoder_out, attn_out_inf])\n",
    "\n",
    "decoder_final = decoder_dense(decoder_inf_concat)\n",
    "decoder_model = Model([d_input]+[decoder_hidden_state, decoder_initial_state_a, decoder_initial_state_c], [decoder_final]+[decoder_a, decoder_c])"
   ]
  },
  {
   "cell_type": "code",
   "execution_count": null,
   "id": "208fcaa4",
   "metadata": {},
   "outputs": [],
   "source": [
    "def decoded_sequence(input_seq):\n",
    "    encoder_out, encoder_a, encoder_c = encoder_model.predict(input_seq) #Collecting output from encoder inference model.\n",
    "    #Initialise input to decoder neuron with START token. Thereafter output token predicted by each neuron will be used as input for the subsequent.\n",
    "    #Single elt matrix used for maintaining dimensions.\n",
    "    next_input = np.zeros((1,1))\n",
    "    next_input[0,0] = tokenizer_headline.word_index['start']\n",
    "    output_seq = ''\n",
    "    #Stopping condition to terminate loop when one summary is generated.\n",
    "    stop = False\n",
    "    while not stop:\n",
    "        #Output from decoder inference model, with output states of encoder used for initialisation.\n",
    "        decoded_out, trans_state_a, trans_state_c = decoder_model.predict([next_input] + [encoder_out, encoder_a, encoder_c])\n",
    "        #Get index of output token from y(t) of decoder.\n",
    "        output_idx = np.argmax(decoded_out[0, -1, :])\n",
    "        #If output index corresponds to END token, summary is terminated without of course adding the END token itself.\n",
    "        if output_idx == tokenizer_headline.word_index['end']: \n",
    "            stop = True\n",
    "        elif output_idx>0 and output_idx != tokenizer_headline.word_index['start'] :\n",
    "            output_token = tokenizer_headline.index_word[output_idx] #Generate the token from index.\n",
    "            output_seq = output_seq + ' ' + output_token #Append to summary\n",
    "        \n",
    "        #Pass the current output index as input to next neuron.\n",
    "        next_input[0,0] = output_idx\n",
    "        #Continously update the transient state vectors in decoder.\n",
    "        encoder_a, encoder_c = trans_state_a, trans_state_c\n",
    "        \n",
    "    return output_seq       "
   ]
  },
  {
   "cell_type": "code",
   "execution_count": null,
   "id": "925b4bcb",
   "metadata": {},
   "outputs": [],
   "source": [
    "predicted = []\n",
    "for i in range(20):\n",
    "    print('Information:', X_test.iloc[i])\n",
    "    print('Actual Headline:', y_test.iloc[i])\n",
    "    print('Predicted Headline:', decoded_sequence(x_test_pad[i].reshape(1, news_length)))\n",
    "    predicted.append(decoded_sequence(x_test_pad[i].reshape(1, news_length)).split())"
   ]
  },
  {
   "cell_type": "code",
   "execution_count": null,
   "id": "ef91642a",
   "metadata": {},
   "outputs": [],
   "source": [
    "import pandas as pd\n",
    "pd.set_option('display.max_colwidth', None)\n",
    "pd.set_option('display.colheader_justify', 'right')\n",
    "df = pd.DataFrame(columns=['Information', 'Actual Headline', 'Predicted Headline'])\n",
    "\n",
    "for i in range(10):\n",
    "    information = X_test.iloc[i]\n",
    "    actual_headline = y_test.iloc[i]\n",
    "    predicted_headline = decoded_sequence(x_test_pad[i].reshape(1, news_length))\n",
    "    predicted.append(predicted_headline.split())\n",
    "\n",
    "    row = {'Information': information, 'Actual Headline': actual_headline, 'Predicted Headline': predicted_headline}\n",
    "    df = df.append(row, ignore_index=True)\n",
    "\n",
    "display(data)"
   ]
  },
  {
   "cell_type": "code",
   "execution_count": null,
   "id": "770696e1",
   "metadata": {},
   "outputs": [],
   "source": [
    "references = []\n",
    "for summ in summaries:\n",
    "    ref = summ.split()\n",
    "    if '<START>' in ref:\n",
    "        ref.remove('<START>')\n",
    "    if '<END>' in ref:\n",
    "        ref.remove('<END>')\n",
    "    references.append(ref)\n"
   ]
  },
  {
   "cell_type": "code",
   "execution_count": null,
   "id": "c870e057",
   "metadata": {},
   "outputs": [],
   "source": [
    "pd.set_option('display.max_colwidth', None)\n",
    "df = pd.DataFrame(columns=['Actual Headline','Predicted Headline', 'BLEU Score'])\n",
    "refs = []\n",
    "smooth = SmoothingFunction().method4\n",
    "for i in range(10):\n",
    "    refs.append(references[i])\n",
    "    predicted_headline = predicted[i]\n",
    "    bleu_score = sentence_bleu(refs, predicted_headline, weights=(0.25,0.25,0.25,0.25))\n",
    "\n",
    "    row = {'Actual Headline':refs,'Predicted Headline': predicted[i], 'BLEU Score': sentence_bleu(refs, predicted[i], weights=(0.25,0.25,0.25,0.25))}\n",
    "    df = df.append(row, ignore_index=True)\n",
    "\n",
    "    refs = []  # reset refs to an empty list for the next iteration\n",
    "\n",
    "display(df.sort_values(by='BLEU Score', ascending=False))"
   ]
  },
  {
   "cell_type": "code",
   "execution_count": null,
   "id": "88f99388",
   "metadata": {},
   "outputs": [],
   "source": []
  }
 ],
 "metadata": {
  "kernelspec": {
   "display_name": "Python 3 (ipykernel)",
   "language": "python",
   "name": "python3"
  },
  "language_info": {
   "codemirror_mode": {
    "name": "ipython",
    "version": 3
   },
   "file_extension": ".py",
   "mimetype": "text/x-python",
   "name": "python",
   "nbconvert_exporter": "python",
   "pygments_lexer": "ipython3",
   "version": "3.10.9"
  }
 },
 "nbformat": 4,
 "nbformat_minor": 5
}
